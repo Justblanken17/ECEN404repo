{
  "nbformat": 4,
  "nbformat_minor": 0,
  "metadata": {
    "colab": {
      "provenance": []
    },
    "kernelspec": {
      "name": "python3",
      "display_name": "Python 3"
    },
    "language_info": {
      "name": "python"
    }
  },
  "cells": [
    {
      "cell_type": "code",
      "source": [
        "import os\n",
        "import numpy as np\n",
        "import pandas as pd\n",
        "import shutil"
      ],
      "metadata": {
        "id": "MaC0uigraYJM"
      },
      "execution_count": null,
      "outputs": []
    },
    {
      "cell_type": "code",
      "source": [
        "from google.colab import drive\n",
        "\n",
        "drive.mount('/content/drive')"
      ],
      "metadata": {
        "id": "M02mOoBWacUJ",
        "colab": {
          "base_uri": "https://localhost:8080/"
        },
        "outputId": "d9eb89ad-3219-43a5-b76e-4cdfa4b4d49c"
      },
      "execution_count": null,
      "outputs": [
        {
          "output_type": "stream",
          "name": "stdout",
          "text": [
            "Mounted at /content/drive\n"
          ]
        }
      ]
    },
    {
      "cell_type": "code",
      "source": [
        "cd \"/content/drive/Shareddrives/ECEN 404 Machine Learning/Color/Final Model Bell Pepper/Dataset/Gaussian_Noise_Augmentation/Healthy\""
      ],
      "metadata": {
        "colab": {
          "base_uri": "https://localhost:8080/"
        },
        "id": "8o69uA2RV4rm",
        "outputId": "cee5d20b-94c1-474f-f954-3af9e2195a98"
      },
      "execution_count": null,
      "outputs": [
        {
          "output_type": "stream",
          "name": "stdout",
          "text": [
            "/content/drive/Shareddrives/ECEN 404 Machine Learning/Color/Final Model Bell Pepper/Dataset/Gaussian_Noise_Augmentation/Healthy\n"
          ]
        }
      ]
    },
    {
      "cell_type": "code",
      "source": [
        "ls | wc -l"
      ],
      "metadata": {
        "colab": {
          "base_uri": "https://localhost:8080/"
        },
        "id": "g6W4e3mCV_r5",
        "outputId": "fbc273c8-f3ee-4cd3-dfcf-85923c04278d"
      },
      "execution_count": null,
      "outputs": [
        {
          "output_type": "stream",
          "name": "stdout",
          "text": [
            "1181\n"
          ]
        }
      ]
    },
    {
      "cell_type": "code",
      "source": [
        "cd \"/content/drive/Shareddrives/ECEN 404 Machine Learning/Color/Final Model Bell Pepper/Dataset/Gaussian_Noise_Augmentation/Bacterial Spot\""
      ],
      "metadata": {
        "colab": {
          "base_uri": "https://localhost:8080/"
        },
        "id": "flE13kCQWGaV",
        "outputId": "ffb34ba5-95f7-4b1f-ea05-17537527c470"
      },
      "execution_count": null,
      "outputs": [
        {
          "output_type": "stream",
          "name": "stdout",
          "text": [
            "/content/drive/Shareddrives/ECEN 404 Machine Learning/Color/Final Model Bell Pepper/Dataset/Gaussian_Noise_Augmentation/Bacterial Spot\n"
          ]
        }
      ]
    },
    {
      "cell_type": "code",
      "source": [
        "ls | wc -l"
      ],
      "metadata": {
        "colab": {
          "base_uri": "https://localhost:8080/"
        },
        "id": "aPhwU6sOWJ8a",
        "outputId": "4b7f2a43-d3e6-40ae-b594-0b165f77a757"
      },
      "execution_count": null,
      "outputs": [
        {
          "output_type": "stream",
          "name": "stdout",
          "text": [
            "798\n"
          ]
        }
      ]
    },
    {
      "cell_type": "code",
      "source": [
        "cd \"/content/drive/Shareddrives/ECEN 404 Machine Learning/Color/Final Model Bell Pepper/Dataset/Vertical_Flip_Augmentation/Healthy\""
      ],
      "metadata": {
        "colab": {
          "base_uri": "https://localhost:8080/"
        },
        "id": "bPp8YJxLWK7n",
        "outputId": "28799932-50e4-4ca3-8648-a0146e1f3150"
      },
      "execution_count": null,
      "outputs": [
        {
          "output_type": "stream",
          "name": "stdout",
          "text": [
            "/content/drive/Shareddrives/ECEN 404 Machine Learning/Color/Final Model Bell Pepper/Dataset/Vertical_Flip_Augmentation/Healthy\n"
          ]
        }
      ]
    },
    {
      "cell_type": "code",
      "source": [
        "ls | wc -l"
      ],
      "metadata": {
        "colab": {
          "base_uri": "https://localhost:8080/"
        },
        "id": "qjBM5PAhWOXD",
        "outputId": "2b24b4ba-fe14-4cd3-c2b9-6bf4de6c2092"
      },
      "execution_count": null,
      "outputs": [
        {
          "output_type": "stream",
          "name": "stdout",
          "text": [
            "1181\n"
          ]
        }
      ]
    },
    {
      "cell_type": "code",
      "source": [
        "cd \"/content/drive/Shareddrives/ECEN 404 Machine Learning/Color/Final Model Bell Pepper/Dataset/Vertical_Flip_Augmentation/Bacterial Spot\""
      ],
      "metadata": {
        "colab": {
          "base_uri": "https://localhost:8080/"
        },
        "id": "ygAKNTvBWQEs",
        "outputId": "c1ebe50d-75a3-42cd-ada1-778bd0df5214"
      },
      "execution_count": null,
      "outputs": [
        {
          "output_type": "stream",
          "name": "stdout",
          "text": [
            "/content/drive/Shareddrives/ECEN 404 Machine Learning/Color/Final Model Bell Pepper/Dataset/Vertical_Flip_Augmentation/Bacterial Spot\n"
          ]
        }
      ]
    },
    {
      "cell_type": "code",
      "source": [
        "ls | wc -l"
      ],
      "metadata": {
        "colab": {
          "base_uri": "https://localhost:8080/"
        },
        "id": "qMoosJ18WSPv",
        "outputId": "4fdf17e6-fffe-412b-d9ad-af37bfe5ddea"
      },
      "execution_count": null,
      "outputs": [
        {
          "output_type": "stream",
          "name": "stdout",
          "text": [
            "798\n"
          ]
        }
      ]
    },
    {
      "cell_type": "code",
      "source": [
        "cd \"/content/drive/Shareddrives/ECEN 404 Machine Learning/Color/Final Model Bell Pepper/Dataset/Shearing_Augmentation/Healthy\""
      ],
      "metadata": {
        "colab": {
          "base_uri": "https://localhost:8080/"
        },
        "id": "VRfuXTkCWT7c",
        "outputId": "a395ba26-47b0-458c-bed1-324e2e373197"
      },
      "execution_count": null,
      "outputs": [
        {
          "output_type": "stream",
          "name": "stdout",
          "text": [
            "/content/drive/Shareddrives/ECEN 404 Machine Learning/Color/Final Model Bell Pepper/Dataset/Shearing_Augmentation/Healthy\n"
          ]
        }
      ]
    },
    {
      "cell_type": "code",
      "source": [
        "ls | wc -l"
      ],
      "metadata": {
        "colab": {
          "base_uri": "https://localhost:8080/"
        },
        "id": "pvA6BNktWXmo",
        "outputId": "883bd825-b9a2-4ab8-ee87-2c1d6fd76741"
      },
      "execution_count": null,
      "outputs": [
        {
          "output_type": "stream",
          "name": "stdout",
          "text": [
            "1181\n"
          ]
        }
      ]
    },
    {
      "cell_type": "code",
      "source": [
        "cd \"/content/drive/Shareddrives/ECEN 404 Machine Learning/Color/Final Model Bell Pepper/Dataset/Shearing_Augmentation/Bacterial Spot\""
      ],
      "metadata": {
        "colab": {
          "base_uri": "https://localhost:8080/"
        },
        "id": "gi5EBm_mWY3L",
        "outputId": "0fe3e7e5-7158-4a97-efed-eb6388b1f19d"
      },
      "execution_count": null,
      "outputs": [
        {
          "output_type": "stream",
          "name": "stdout",
          "text": [
            "/content/drive/Shareddrives/ECEN 404 Machine Learning/Color/Final Model Bell Pepper/Dataset/Shearing_Augmentation/Bacterial Spot\n"
          ]
        }
      ]
    },
    {
      "cell_type": "code",
      "source": [
        "ls | wc -l"
      ],
      "metadata": {
        "colab": {
          "base_uri": "https://localhost:8080/"
        },
        "id": "xv7LYRC8WcO6",
        "outputId": "e857cb47-bcef-48df-bda8-76f9aba1a64f"
      },
      "execution_count": null,
      "outputs": [
        {
          "output_type": "stream",
          "name": "stdout",
          "text": [
            "798\n"
          ]
        }
      ]
    },
    {
      "cell_type": "code",
      "source": [
        "cd \"/content/drive/Shareddrives/ECEN 404 Machine Learning/Color/Final Model Bell Pepper/Dataset/Original_Dataset/Healthy\""
      ],
      "metadata": {
        "colab": {
          "base_uri": "https://localhost:8080/"
        },
        "id": "WiGJHXm2WdC-",
        "outputId": "1f71a1a1-7eb8-47d3-a030-854598a0b0b8"
      },
      "execution_count": null,
      "outputs": [
        {
          "output_type": "stream",
          "name": "stdout",
          "text": [
            "/content/drive/Shareddrives/ECEN 404 Machine Learning/Color/Final Model Bell Pepper/Dataset/Original_Dataset/Healthy\n"
          ]
        }
      ]
    },
    {
      "cell_type": "code",
      "source": [
        "ls | wc -l"
      ],
      "metadata": {
        "colab": {
          "base_uri": "https://localhost:8080/"
        },
        "id": "caO1a6xbWjEw",
        "outputId": "1a1191f2-3078-4550-ba35-244d7d8c951d"
      },
      "execution_count": null,
      "outputs": [
        {
          "output_type": "stream",
          "name": "stdout",
          "text": [
            "1181\n"
          ]
        }
      ]
    },
    {
      "cell_type": "code",
      "source": [
        "cd \"/content/drive/Shareddrives/ECEN 404 Machine Learning/Color/Final Model Bell Pepper/Dataset/Original_Dataset/Bacterial Spot\""
      ],
      "metadata": {
        "colab": {
          "base_uri": "https://localhost:8080/"
        },
        "id": "UjN81mYlWgEs",
        "outputId": "e8685dfe-d5e9-4061-cc30-11e238f2d2db"
      },
      "execution_count": null,
      "outputs": [
        {
          "output_type": "stream",
          "name": "stdout",
          "text": [
            "/content/drive/Shareddrives/ECEN 404 Machine Learning/Color/Final Model Bell Pepper/Dataset/Original_Dataset/Bacterial Spot\n"
          ]
        }
      ]
    },
    {
      "cell_type": "code",
      "source": [
        "ls | wc -l"
      ],
      "metadata": {
        "colab": {
          "base_uri": "https://localhost:8080/"
        },
        "id": "2mUOtY4VWkuL",
        "outputId": "aca4f5c0-bd49-4a4e-eeb4-136ab68fa669"
      },
      "execution_count": null,
      "outputs": [
        {
          "output_type": "stream",
          "name": "stdout",
          "text": [
            "798\n"
          ]
        }
      ]
    },
    {
      "cell_type": "code",
      "source": [
        "cd '/content/drive/Shareddrives/ECEN 404 Machine Learning/Color/Final Model Bell Pepper/Dataset/Rotation_Before_Flip/Healthy'"
      ],
      "metadata": {
        "colab": {
          "base_uri": "https://localhost:8080/"
        },
        "id": "gVC_c8PqLJpc",
        "outputId": "878b5dcb-7091-42c4-a51b-954d96c019d2"
      },
      "execution_count": null,
      "outputs": [
        {
          "output_type": "stream",
          "name": "stdout",
          "text": [
            "/content/drive/Shareddrives/ECEN 404 Machine Learning/Color/Final Model Bell Pepper/Dataset/Rotation_Before_Flip/Healthy\n"
          ]
        }
      ]
    },
    {
      "cell_type": "code",
      "source": [
        "ls | wc -l"
      ],
      "metadata": {
        "colab": {
          "base_uri": "https://localhost:8080/"
        },
        "id": "HKuApoWALKZN",
        "outputId": "ce183504-de6f-48d4-a045-8c74666fa32e"
      },
      "execution_count": null,
      "outputs": [
        {
          "output_type": "stream",
          "name": "stdout",
          "text": [
            "1181\n"
          ]
        }
      ]
    },
    {
      "cell_type": "code",
      "source": [
        "cd '/content/drive/Shareddrives/ECEN 404 Machine Learning/Color/Final Model Bell Pepper/Dataset/Rotation_Before_Flip/Bacterial Spot'"
      ],
      "metadata": {
        "colab": {
          "base_uri": "https://localhost:8080/"
        },
        "id": "fawujQZWLLHO",
        "outputId": "328221b5-3954-4c8e-bf6d-ce62af6102e5"
      },
      "execution_count": null,
      "outputs": [
        {
          "output_type": "stream",
          "name": "stdout",
          "text": [
            "/content/drive/Shareddrives/ECEN 404 Machine Learning/Color/Final Model Bell Pepper/Dataset/Rotation_Before_Flip/Bacterial Spot\n"
          ]
        }
      ]
    },
    {
      "cell_type": "code",
      "source": [
        "ls | wc -l"
      ],
      "metadata": {
        "colab": {
          "base_uri": "https://localhost:8080/"
        },
        "id": "ZzENmd7wLOay",
        "outputId": "95413ff9-4040-4904-9e47-2fe38465afcd"
      },
      "execution_count": null,
      "outputs": [
        {
          "output_type": "stream",
          "name": "stdout",
          "text": [
            "798\n"
          ]
        }
      ]
    },
    {
      "cell_type": "code",
      "source": [
        "cd '/content/drive/Shareddrives/ECEN 404 Machine Learning/Color/Final Model Bell Pepper/Dataset/Rotation_After_Flip/Healthy'"
      ],
      "metadata": {
        "colab": {
          "base_uri": "https://localhost:8080/"
        },
        "id": "oHdL7nAxLPKv",
        "outputId": "305c6724-d914-433e-dc75-0c9114a48fc6"
      },
      "execution_count": null,
      "outputs": [
        {
          "output_type": "stream",
          "name": "stdout",
          "text": [
            "/content/drive/Shareddrives/ECEN 404 Machine Learning/Color/Final Model Bell Pepper/Dataset/Rotation_After_Flip/Healthy\n"
          ]
        }
      ]
    },
    {
      "cell_type": "code",
      "source": [
        "ls | wc -l"
      ],
      "metadata": {
        "colab": {
          "base_uri": "https://localhost:8080/"
        },
        "id": "9iiaNBpILTGl",
        "outputId": "ef9edc26-4abb-463b-c91c-ee28e789867e"
      },
      "execution_count": null,
      "outputs": [
        {
          "output_type": "stream",
          "name": "stdout",
          "text": [
            "1181\n"
          ]
        }
      ]
    },
    {
      "cell_type": "code",
      "source": [
        "cd '/content/drive/Shareddrives/ECEN 404 Machine Learning/Color/Final Model Bell Pepper/Dataset/Rotation_After_Flip/Bacterial Spot'"
      ],
      "metadata": {
        "colab": {
          "base_uri": "https://localhost:8080/"
        },
        "id": "d5K0niFDLTs6",
        "outputId": "03d8ffaa-b3fe-4bca-e60b-c34871bfa23b"
      },
      "execution_count": null,
      "outputs": [
        {
          "output_type": "stream",
          "name": "stdout",
          "text": [
            "/content/drive/Shareddrives/ECEN 404 Machine Learning/Color/Final Model Bell Pepper/Dataset/Rotation_After_Flip/Bacterial Spot\n"
          ]
        }
      ]
    },
    {
      "cell_type": "code",
      "source": [
        "ls | wc -l"
      ],
      "metadata": {
        "colab": {
          "base_uri": "https://localhost:8080/"
        },
        "id": "0XaVhtFGLVuB",
        "outputId": "e8268d86-cc3c-46d3-93b2-51fd276319b1"
      },
      "execution_count": null,
      "outputs": [
        {
          "output_type": "stream",
          "name": "stdout",
          "text": [
            "798\n"
          ]
        }
      ]
    },
    {
      "cell_type": "code",
      "source": [
        "cd '/content/drive/Shareddrives/ECEN 404 Machine Learning/Color/Final Model Bell Pepper/Dataset/Gaussian_Blur/Healthy'"
      ],
      "metadata": {
        "colab": {
          "base_uri": "https://localhost:8080/"
        },
        "id": "4O3bFCjjLWwz",
        "outputId": "5d0e10cd-a8d8-4917-d3a3-5d41d38f41ce"
      },
      "execution_count": null,
      "outputs": [
        {
          "output_type": "stream",
          "name": "stdout",
          "text": [
            "/content/drive/Shareddrives/ECEN 404 Machine Learning/Color/Final Model Bell Pepper/Dataset/Gaussian_Blur/Healthy\n"
          ]
        }
      ]
    },
    {
      "cell_type": "code",
      "source": [
        "ls | wc -l"
      ],
      "metadata": {
        "colab": {
          "base_uri": "https://localhost:8080/"
        },
        "id": "-bL_wtfNLZZG",
        "outputId": "8003c650-21de-48bd-e592-22beb1617c76"
      },
      "execution_count": null,
      "outputs": [
        {
          "output_type": "stream",
          "name": "stdout",
          "text": [
            "1181\n"
          ]
        }
      ]
    },
    {
      "cell_type": "code",
      "source": [
        "cd '/content/drive/Shareddrives/ECEN 404 Machine Learning/Color/Final Model Bell Pepper/Dataset/Gaussian_Blur/Bacterial Spot'"
      ],
      "metadata": {
        "colab": {
          "base_uri": "https://localhost:8080/"
        },
        "id": "RHQpPmSELaFW",
        "outputId": "ccd5bd74-5cb1-42f1-cfce-238a451a26d7"
      },
      "execution_count": null,
      "outputs": [
        {
          "output_type": "stream",
          "name": "stdout",
          "text": [
            "/content/drive/Shareddrives/ECEN 404 Machine Learning/Color/Final Model Bell Pepper/Dataset/Gaussian_Blur/Bacterial Spot\n"
          ]
        }
      ]
    },
    {
      "cell_type": "code",
      "source": [
        "ls | wc -l"
      ],
      "metadata": {
        "colab": {
          "base_uri": "https://localhost:8080/"
        },
        "id": "6kDm9Y33Lbzk",
        "outputId": "2e4074db-4982-4669-fb9c-96941eb102ea"
      },
      "execution_count": null,
      "outputs": [
        {
          "output_type": "stream",
          "name": "stdout",
          "text": [
            "798\n"
          ]
        }
      ]
    },
    {
      "cell_type": "markdown",
      "source": [
        "Total Size of Dataset = 13853"
      ],
      "metadata": {
        "id": "PhvACwYEa3Ih"
      }
    },
    {
      "cell_type": "code",
      "source": [
        "cd \"/content/drive/Shareddrives/ECEN 404 Machine Learning/Color/Final Model Bell Pepper/Dataset/Vertical_Flip_Augmentation\""
      ],
      "metadata": {
        "colab": {
          "base_uri": "https://localhost:8080/"
        },
        "id": "V9kLzRI9V82k",
        "outputId": "7af2fe91-5429-413d-a8ce-43da7a9d0fdf"
      },
      "execution_count": null,
      "outputs": [
        {
          "output_type": "stream",
          "name": "stdout",
          "text": [
            "/content/drive/Shareddrives/ECEN 404 Machine Learning/Color/Final Model Bell Pepper/Dataset/Vertical_Flip_Augmentation\n"
          ]
        }
      ]
    },
    {
      "cell_type": "code",
      "source": [
        "ls"
      ],
      "metadata": {
        "colab": {
          "base_uri": "https://localhost:8080/"
        },
        "id": "ae09_idQbYEI",
        "outputId": "f46f6565-0244-4c45-bc29-6e0295ea1ed6"
      },
      "execution_count": null,
      "outputs": [
        {
          "output_type": "stream",
          "name": "stdout",
          "text": [
            "\u001b[0m\u001b[01;34m'Bacterial Spot'\u001b[0m/   \u001b[01;34mHealthy\u001b[0m/\n"
          ]
        }
      ]
    },
    {
      "cell_type": "code",
      "source": [
        "cd '/content/drive/Shareddrives/ECEN 404 Machine Learning/Color/Final Model Bell Pepper/Train'"
      ],
      "metadata": {
        "colab": {
          "base_uri": "https://localhost:8080/"
        },
        "id": "b9Ube6inbqNo",
        "outputId": "99631cde-54a1-4910-ea04-1f7d9fe2245b"
      },
      "execution_count": null,
      "outputs": [
        {
          "output_type": "stream",
          "name": "stdout",
          "text": [
            "/content/drive/Shareddrives/ECEN 404 Machine Learning/Color/Final Model Bell Pepper/Train\n"
          ]
        }
      ]
    },
    {
      "cell_type": "code",
      "source": [
        "ls | wc -l"
      ],
      "metadata": {
        "colab": {
          "base_uri": "https://localhost:8080/"
        },
        "id": "KPOBOr9Nbt8h",
        "outputId": "bf5235e3-0882-4a0f-ca3e-51362748e734"
      },
      "execution_count": null,
      "outputs": [
        {
          "output_type": "stream",
          "name": "stdout",
          "text": [
            "13853\n"
          ]
        }
      ]
    },
    {
      "cell_type": "code",
      "source": [
        "cd '/content/drive/Shareddrives/ECEN 404 Machine Learning/Color/Final Model Bell Pepper/'"
      ],
      "metadata": {
        "colab": {
          "base_uri": "https://localhost:8080/"
        },
        "id": "uyQ7yc8QLjVV",
        "outputId": "96b3d9be-3e61-4da0-91dc-21945ffba7c4"
      },
      "execution_count": null,
      "outputs": [
        {
          "output_type": "stream",
          "name": "stdout",
          "text": [
            "/content/drive/Shareddrives/ECEN 404 Machine Learning/Color/Final Model Bell Pepper\n"
          ]
        }
      ]
    },
    {
      "cell_type": "code",
      "source": [
        "ls"
      ],
      "metadata": {
        "id": "zWJhPv3DLlKB"
      },
      "execution_count": null,
      "outputs": []
    },
    {
      "cell_type": "code",
      "source": [
        "import shutil\n",
        "shutil.make_archive('/content/drive/Shareddrives/ECEN 404 Machine Learning/Color/Final Model Bell Pepper/', 'zip', '/content/drive/Shareddrives/ECEN 404 Machine Learning/Color/Final Model Bell Pepper/Train')"
      ],
      "metadata": {
        "colab": {
          "base_uri": "https://localhost:8080/",
          "height": 36
        },
        "id": "ITswudxhLY8I",
        "outputId": "645b60d2-a669-4933-f018-61b7d5a01f34"
      },
      "execution_count": null,
      "outputs": [
        {
          "output_type": "execute_result",
          "data": {
            "text/plain": [
              "'/content/drive/Shareddrives/ECEN 404 Machine Learning/Color/Final Model Bell Pepper.zip'"
            ],
            "application/vnd.google.colaboratory.intrinsic+json": {
              "type": "string"
            }
          },
          "metadata": {},
          "execution_count": 15
        }
      ]
    },
    {
      "cell_type": "code",
      "source": [
        "cd '/content/drive/Shareddrives/ECEN 404 Machine Learning/Color/Final Model Bell Pepper/Dataset/Rotation_After_Flip'"
      ],
      "metadata": {
        "colab": {
          "base_uri": "https://localhost:8080/"
        },
        "id": "lBI4YVU6gaeS",
        "outputId": "b236b280-583f-476c-c111-568bd46e7424"
      },
      "execution_count": null,
      "outputs": [
        {
          "output_type": "stream",
          "name": "stdout",
          "text": [
            "/content/drive/Shareddrives/ECEN 404 Machine Learning/Color/Final Model Bell Pepper/Dataset/Rotation_After_Flip\n"
          ]
        }
      ]
    },
    {
      "cell_type": "code",
      "source": [
        "!find './Bacterial Spot' -type f -name \"*.JPG\" | awk '!/Healthy/' | xargs -I X -t cp X '/content/drive/Shareddrives/ECEN 404 Machine Learning/Color/Final Model Bell Pepper/Train'"
      ],
      "metadata": {
        "colab": {
          "base_uri": "https://localhost:8080/"
        },
        "id": "MbKxGxTfBRYN",
        "outputId": "70f2a2b3-7aff-4467-bba4-b2d66e7c9852"
      },
      "execution_count": null,
      "outputs": [
        {
          "output_type": "stream",
          "name": "stdout",
          "text": [
            "cp ./Bacterial Spot/Rotate_After_Flip_Vertical_Flip_Pepper_Bell_Bacterial_Spot_0996.JPG /content/drive/Shareddrives/ECEN 404 Machine Learning/Color/Final Model Bell Pepper/Train \n",
            "cp ./Bacterial Spot/Rotate_After_Flip_Vertical_Flip_Pepper_Bell_Bacterial_Spot_0991.JPG /content/drive/Shareddrives/ECEN 404 Machine Learning/Color/Final Model Bell Pepper/Train \n",
            "cp ./Bacterial Spot/Rotate_After_Flip_Vertical_Flip_Pepper_Bell_Bacterial_Spot_0997.JPG /content/drive/Shareddrives/ECEN 404 Machine Learning/Color/Final Model Bell Pepper/Train \n",
            "cp ./Bacterial Spot/Rotate_After_Flip_Vertical_Flip_Pepper_Bell_Bacterial_Spot_0995.JPG /content/drive/Shareddrives/ECEN 404 Machine Learning/Color/Final Model Bell Pepper/Train \n",
            "cp ./Bacterial Spot/Rotate_After_Flip_Vertical_Flip_Pepper_Bell_Bacterial_Spot_0993.JPG /content/drive/Shareddrives/ECEN 404 Machine Learning/Color/Final Model Bell Pepper/Train \n",
            "cp ./Bacterial Spot/Rotate_After_Flip_Vertical_Flip_Pepper_Bell_Bacterial_Spot_0994.JPG /content/drive/Shareddrives/ECEN 404 Machine Learning/Color/Final Model Bell Pepper/Train \n",
            "cp ./Bacterial Spot/Rotate_After_Flip_Vertical_Flip_Pepper_Bell_Bacterial_Spot_0992.JPG /content/drive/Shareddrives/ECEN 404 Machine Learning/Color/Final Model Bell Pepper/Train \n",
            "cp ./Bacterial Spot/Rotate_After_Flip_Vertical_Flip_Pepper_Bell_Bacterial_Spot_0968.JPG /content/drive/Shareddrives/ECEN 404 Machine Learning/Color/Final Model Bell Pepper/Train \n",
            "cp ./Bacterial Spot/Rotate_After_Flip_Vertical_Flip_Pepper_Bell_Bacterial_Spot_0969.JPG /content/drive/Shareddrives/ECEN 404 Machine Learning/Color/Final Model Bell Pepper/Train \n",
            "cp ./Bacterial Spot/Rotate_After_Flip_Vertical_Flip_Pepper_Bell_Bacterial_Spot_0984.JPG /content/drive/Shareddrives/ECEN 404 Machine Learning/Color/Final Model Bell Pepper/Train \n",
            "cp ./Bacterial Spot/Rotate_After_Flip_Vertical_Flip_Pepper_Bell_Bacterial_Spot_0967.JPG /content/drive/Shareddrives/ECEN 404 Machine Learning/Color/Final Model Bell Pepper/Train \n",
            "cp ./Bacterial Spot/Rotate_After_Flip_Vertical_Flip_Pepper_Bell_Bacterial_Spot_0962.JPG /content/drive/Shareddrives/ECEN 404 Machine Learning/Color/Final Model Bell Pepper/Train \n",
            "cp ./Bacterial Spot/Rotate_After_Flip_Vertical_Flip_Pepper_Bell_Bacterial_Spot_0951.JPG /content/drive/Shareddrives/ECEN 404 Machine Learning/Color/Final Model Bell Pepper/Train \n",
            "cp ./Bacterial Spot/Rotate_After_Flip_Vertical_Flip_Pepper_Bell_Bacterial_Spot_0988.JPG /content/drive/Shareddrives/ECEN 404 Machine Learning/Color/Final Model Bell Pepper/Train \n",
            "cp ./Bacterial Spot/Rotate_After_Flip_Vertical_Flip_Pepper_Bell_Bacterial_Spot_0974.JPG /content/drive/Shareddrives/ECEN 404 Machine Learning/Color/Final Model Bell Pepper/Train \n",
            "cp ./Bacterial Spot/Rotate_After_Flip_Vertical_Flip_Pepper_Bell_Bacterial_Spot_0972.JPG /content/drive/Shareddrives/ECEN 404 Machine Learning/Color/Final Model Bell Pepper/Train \n",
            "cp ./Bacterial Spot/Rotate_After_Flip_Vertical_Flip_Pepper_Bell_Bacterial_Spot_0978.JPG /content/drive/Shareddrives/ECEN 404 Machine Learning/Color/Final Model Bell Pepper/Train \n",
            "cp ./Bacterial Spot/Rotate_After_Flip_Vertical_Flip_Pepper_Bell_Bacterial_Spot_0989.JPG /content/drive/Shareddrives/ECEN 404 Machine Learning/Color/Final Model Bell Pepper/Train \n",
            "cp ./Bacterial Spot/Rotate_After_Flip_Vertical_Flip_Pepper_Bell_Bacterial_Spot_0976.JPG /content/drive/Shareddrives/ECEN 404 Machine Learning/Color/Final Model Bell Pepper/Train \n",
            "cp ./Bacterial Spot/Rotate_After_Flip_Vertical_Flip_Pepper_Bell_Bacterial_Spot_0960.JPG /content/drive/Shareddrives/ECEN 404 Machine Learning/Color/Final Model Bell Pepper/Train \n",
            "cp ./Bacterial Spot/Rotate_After_Flip_Vertical_Flip_Pepper_Bell_Bacterial_Spot_0970.JPG /content/drive/Shareddrives/ECEN 404 Machine Learning/Color/Final Model Bell Pepper/Train \n",
            "cp ./Bacterial Spot/Rotate_After_Flip_Vertical_Flip_Pepper_Bell_Bacterial_Spot_0982.JPG /content/drive/Shareddrives/ECEN 404 Machine Learning/Color/Final Model Bell Pepper/Train \n",
            "cp ./Bacterial Spot/Rotate_After_Flip_Vertical_Flip_Pepper_Bell_Bacterial_Spot_0956.JPG /content/drive/Shareddrives/ECEN 404 Machine Learning/Color/Final Model Bell Pepper/Train \n",
            "cp ./Bacterial Spot/Rotate_After_Flip_Vertical_Flip_Pepper_Bell_Bacterial_Spot_0979.JPG /content/drive/Shareddrives/ECEN 404 Machine Learning/Color/Final Model Bell Pepper/Train \n",
            "cp ./Bacterial Spot/Rotate_After_Flip_Vertical_Flip_Pepper_Bell_Bacterial_Spot_0981.JPG /content/drive/Shareddrives/ECEN 404 Machine Learning/Color/Final Model Bell Pepper/Train \n",
            "cp ./Bacterial Spot/Rotate_After_Flip_Vertical_Flip_Pepper_Bell_Bacterial_Spot_0953.JPG /content/drive/Shareddrives/ECEN 404 Machine Learning/Color/Final Model Bell Pepper/Train \n",
            "cp ./Bacterial Spot/Rotate_After_Flip_Vertical_Flip_Pepper_Bell_Bacterial_Spot_0954.JPG /content/drive/Shareddrives/ECEN 404 Machine Learning/Color/Final Model Bell Pepper/Train \n",
            "cp ./Bacterial Spot/Rotate_After_Flip_Vertical_Flip_Pepper_Bell_Bacterial_Spot_0958.JPG /content/drive/Shareddrives/ECEN 404 Machine Learning/Color/Final Model Bell Pepper/Train \n",
            "cp ./Bacterial Spot/Rotate_After_Flip_Vertical_Flip_Pepper_Bell_Bacterial_Spot_0980.JPG /content/drive/Shareddrives/ECEN 404 Machine Learning/Color/Final Model Bell Pepper/Train \n",
            "cp ./Bacterial Spot/Rotate_After_Flip_Vertical_Flip_Pepper_Bell_Bacterial_Spot_0955.JPG /content/drive/Shareddrives/ECEN 404 Machine Learning/Color/Final Model Bell Pepper/Train \n",
            "cp ./Bacterial Spot/Rotate_After_Flip_Vertical_Flip_Pepper_Bell_Bacterial_Spot_0966.JPG /content/drive/Shareddrives/ECEN 404 Machine Learning/Color/Final Model Bell Pepper/Train \n",
            "cp ./Bacterial Spot/Rotate_After_Flip_Vertical_Flip_Pepper_Bell_Bacterial_Spot_0959.JPG /content/drive/Shareddrives/ECEN 404 Machine Learning/Color/Final Model Bell Pepper/Train \n",
            "cp ./Bacterial Spot/Rotate_After_Flip_Vertical_Flip_Pepper_Bell_Bacterial_Spot_0973.JPG /content/drive/Shareddrives/ECEN 404 Machine Learning/Color/Final Model Bell Pepper/Train \n",
            "cp ./Bacterial Spot/Rotate_After_Flip_Vertical_Flip_Pepper_Bell_Bacterial_Spot_0977.JPG /content/drive/Shareddrives/ECEN 404 Machine Learning/Color/Final Model Bell Pepper/Train \n",
            "cp ./Bacterial Spot/Rotate_After_Flip_Vertical_Flip_Pepper_Bell_Bacterial_Spot_0963.JPG /content/drive/Shareddrives/ECEN 404 Machine Learning/Color/Final Model Bell Pepper/Train \n",
            "cp ./Bacterial Spot/Rotate_After_Flip_Vertical_Flip_Pepper_Bell_Bacterial_Spot_0987.JPG /content/drive/Shareddrives/ECEN 404 Machine Learning/Color/Final Model Bell Pepper/Train \n",
            "cp ./Bacterial Spot/Rotate_After_Flip_Vertical_Flip_Pepper_Bell_Bacterial_Spot_0990.JPG /content/drive/Shareddrives/ECEN 404 Machine Learning/Color/Final Model Bell Pepper/Train \n",
            "cp ./Bacterial Spot/Rotate_After_Flip_Vertical_Flip_Pepper_Bell_Bacterial_Spot_0867.JPG /content/drive/Shareddrives/ECEN 404 Machine Learning/Color/Final Model Bell Pepper/Train \n",
            "cp ./Bacterial Spot/Rotate_After_Flip_Vertical_Flip_Pepper_Bell_Bacterial_Spot_0854.JPG /content/drive/Shareddrives/ECEN 404 Machine Learning/Color/Final Model Bell Pepper/Train \n",
            "cp ./Bacterial Spot/Rotate_After_Flip_Vertical_Flip_Pepper_Bell_Bacterial_Spot_0947.JPG /content/drive/Shareddrives/ECEN 404 Machine Learning/Color/Final Model Bell Pepper/Train \n",
            "cp ./Bacterial Spot/Rotate_After_Flip_Vertical_Flip_Pepper_Bell_Bacterial_Spot_0874.JPG /content/drive/Shareddrives/ECEN 404 Machine Learning/Color/Final Model Bell Pepper/Train \n",
            "cp ./Bacterial Spot/Rotate_After_Flip_Vertical_Flip_Pepper_Bell_Bacterial_Spot_0945.JPG /content/drive/Shareddrives/ECEN 404 Machine Learning/Color/Final Model Bell Pepper/Train \n",
            "cp ./Bacterial Spot/Rotate_After_Flip_Vertical_Flip_Pepper_Bell_Bacterial_Spot_0887.JPG /content/drive/Shareddrives/ECEN 404 Machine Learning/Color/Final Model Bell Pepper/Train \n",
            "cp ./Bacterial Spot/Rotate_After_Flip_Vertical_Flip_Pepper_Bell_Bacterial_Spot_0895.JPG /content/drive/Shareddrives/ECEN 404 Machine Learning/Color/Final Model Bell Pepper/Train \n",
            "cp ./Bacterial Spot/Rotate_After_Flip_Vertical_Flip_Pepper_Bell_Bacterial_Spot_0912.JPG /content/drive/Shareddrives/ECEN 404 Machine Learning/Color/Final Model Bell Pepper/Train \n",
            "cp ./Bacterial Spot/Rotate_After_Flip_Vertical_Flip_Pepper_Bell_Bacterial_Spot_0919.JPG /content/drive/Shareddrives/ECEN 404 Machine Learning/Color/Final Model Bell Pepper/Train \n",
            "cp ./Bacterial Spot/Rotate_After_Flip_Vertical_Flip_Pepper_Bell_Bacterial_Spot_0853.JPG /content/drive/Shareddrives/ECEN 404 Machine Learning/Color/Final Model Bell Pepper/Train \n",
            "cp ./Bacterial Spot/Rotate_After_Flip_Vertical_Flip_Pepper_Bell_Bacterial_Spot_0866.JPG /content/drive/Shareddrives/ECEN 404 Machine Learning/Color/Final Model Bell Pepper/Train \n",
            "cp ./Bacterial Spot/Rotate_After_Flip_Vertical_Flip_Pepper_Bell_Bacterial_Spot_0924.JPG /content/drive/Shareddrives/ECEN 404 Machine Learning/Color/Final Model Bell Pepper/Train \n",
            "cp ./Bacterial Spot/Rotate_After_Flip_Vertical_Flip_Pepper_Bell_Bacterial_Spot_0856.JPG /content/drive/Shareddrives/ECEN 404 Machine Learning/Color/Final Model Bell Pepper/Train \n",
            "cp ./Bacterial Spot/Rotate_After_Flip_Vertical_Flip_Pepper_Bell_Bacterial_Spot_0892.JPG /content/drive/Shareddrives/ECEN 404 Machine Learning/Color/Final Model Bell Pepper/Train \n",
            "cp ./Bacterial Spot/Rotate_After_Flip_Vertical_Flip_Pepper_Bell_Bacterial_Spot_0889.JPG /content/drive/Shareddrives/ECEN 404 Machine Learning/Color/Final Model Bell Pepper/Train \n",
            "cp ./Bacterial Spot/Rotate_After_Flip_Vertical_Flip_Pepper_Bell_Bacterial_Spot_0879.JPG /content/drive/Shareddrives/ECEN 404 Machine Learning/Color/Final Model Bell Pepper/Train \n",
            "cp ./Bacterial Spot/Rotate_After_Flip_Vertical_Flip_Pepper_Bell_Bacterial_Spot_0925.JPG /content/drive/Shareddrives/ECEN 404 Machine Learning/Color/Final Model Bell Pepper/Train \n",
            "cp ./Bacterial Spot/Rotate_After_Flip_Vertical_Flip_Pepper_Bell_Bacterial_Spot_0852.JPG /content/drive/Shareddrives/ECEN 404 Machine Learning/Color/Final Model Bell Pepper/Train \n",
            "cp ./Bacterial Spot/Rotate_After_Flip_Vertical_Flip_Pepper_Bell_Bacterial_Spot_0913.JPG /content/drive/Shareddrives/ECEN 404 Machine Learning/Color/Final Model Bell Pepper/Train \n",
            "cp ./Bacterial Spot/Rotate_After_Flip_Vertical_Flip_Pepper_Bell_Bacterial_Spot_0918.JPG /content/drive/Shareddrives/ECEN 404 Machine Learning/Color/Final Model Bell Pepper/Train \n",
            "cp ./Bacterial Spot/Rotate_After_Flip_Vertical_Flip_Pepper_Bell_Bacterial_Spot_0893.JPG /content/drive/Shareddrives/ECEN 404 Machine Learning/Color/Final Model Bell Pepper/Train \n",
            "cp ./Bacterial Spot/Rotate_After_Flip_Vertical_Flip_Pepper_Bell_Bacterial_Spot_0942.JPG /content/drive/Shareddrives/ECEN 404 Machine Learning/Color/Final Model Bell Pepper/Train \n",
            "cp ./Bacterial Spot/Rotate_After_Flip_Vertical_Flip_Pepper_Bell_Bacterial_Spot_0886.JPG /content/drive/Shareddrives/ECEN 404 Machine Learning/Color/Final Model Bell Pepper/Train \n",
            "cp ./Bacterial Spot/Rotate_After_Flip_Vertical_Flip_Pepper_Bell_Bacterial_Spot_0931.JPG /content/drive/Shareddrives/ECEN 404 Machine Learning/Color/Final Model Bell Pepper/Train \n",
            "cp ./Bacterial Spot/Rotate_After_Flip_Vertical_Flip_Pepper_Bell_Bacterial_Spot_0943.JPG /content/drive/Shareddrives/ECEN 404 Machine Learning/Color/Final Model Bell Pepper/Train \n",
            "cp ./Bacterial Spot/Rotate_After_Flip_Vertical_Flip_Pepper_Bell_Bacterial_Spot_0869.JPG /content/drive/Shareddrives/ECEN 404 Machine Learning/Color/Final Model Bell Pepper/Train \n",
            "cp ./Bacterial Spot/Rotate_After_Flip_Vertical_Flip_Pepper_Bell_Bacterial_Spot_0868.JPG /content/drive/Shareddrives/ECEN 404 Machine Learning/Color/Final Model Bell Pepper/Train \n",
            "cp ./Bacterial Spot/Rotate_After_Flip_Vertical_Flip_Pepper_Bell_Bacterial_Spot_0855.JPG /content/drive/Shareddrives/ECEN 404 Machine Learning/Color/Final Model Bell Pepper/Train \n",
            "cp ./Bacterial Spot/Rotate_After_Flip_Vertical_Flip_Pepper_Bell_Bacterial_Spot_0938.JPG /content/drive/Shareddrives/ECEN 404 Machine Learning/Color/Final Model Bell Pepper/Train \n",
            "cp ./Bacterial Spot/Rotate_After_Flip_Vertical_Flip_Pepper_Bell_Bacterial_Spot_0936.JPG /content/drive/Shareddrives/ECEN 404 Machine Learning/Color/Final Model Bell Pepper/Train \n",
            "cp ./Bacterial Spot/Rotate_After_Flip_Vertical_Flip_Pepper_Bell_Bacterial_Spot_0910.JPG /content/drive/Shareddrives/ECEN 404 Machine Learning/Color/Final Model Bell Pepper/Train \n",
            "cp ./Bacterial Spot/Rotate_After_Flip_Vertical_Flip_Pepper_Bell_Bacterial_Spot_0949.JPG /content/drive/Shareddrives/ECEN 404 Machine Learning/Color/Final Model Bell Pepper/Train \n",
            "cp ./Bacterial Spot/Rotate_After_Flip_Vertical_Flip_Pepper_Bell_Bacterial_Spot_0900.JPG /content/drive/Shareddrives/ECEN 404 Machine Learning/Color/Final Model Bell Pepper/Train \n",
            "cp ./Bacterial Spot/Rotate_After_Flip_Vertical_Flip_Pepper_Bell_Bacterial_Spot_0921.JPG /content/drive/Shareddrives/ECEN 404 Machine Learning/Color/Final Model Bell Pepper/Train \n",
            "cp ./Bacterial Spot/Rotate_After_Flip_Vertical_Flip_Pepper_Bell_Bacterial_Spot_0884.JPG /content/drive/Shareddrives/ECEN 404 Machine Learning/Color/Final Model Bell Pepper/Train \n",
            "cp ./Bacterial Spot/Rotate_After_Flip_Vertical_Flip_Pepper_Bell_Bacterial_Spot_0914.JPG /content/drive/Shareddrives/ECEN 404 Machine Learning/Color/Final Model Bell Pepper/Train \n",
            "cp ./Bacterial Spot/Rotate_After_Flip_Vertical_Flip_Pepper_Bell_Bacterial_Spot_0908.JPG /content/drive/Shareddrives/ECEN 404 Machine Learning/Color/Final Model Bell Pepper/Train \n",
            "cp ./Bacterial Spot/Rotate_After_Flip_Vertical_Flip_Pepper_Bell_Bacterial_Spot_0946.JPG /content/drive/Shareddrives/ECEN 404 Machine Learning/Color/Final Model Bell Pepper/Train \n",
            "cp ./Bacterial Spot/Rotate_After_Flip_Vertical_Flip_Pepper_Bell_Bacterial_Spot_0944.JPG /content/drive/Shareddrives/ECEN 404 Machine Learning/Color/Final Model Bell Pepper/Train \n",
            "cp ./Bacterial Spot/Rotate_After_Flip_Vertical_Flip_Pepper_Bell_Bacterial_Spot_0911.JPG /content/drive/Shareddrives/ECEN 404 Machine Learning/Color/Final Model Bell Pepper/Train \n",
            "cp ./Bacterial Spot/Rotate_After_Flip_Vertical_Flip_Pepper_Bell_Bacterial_Spot_0937.JPG /content/drive/Shareddrives/ECEN 404 Machine Learning/Color/Final Model Bell Pepper/Train \n",
            "cp ./Bacterial Spot/Rotate_After_Flip_Vertical_Flip_Pepper_Bell_Bacterial_Spot_0898.JPG /content/drive/Shareddrives/ECEN 404 Machine Learning/Color/Final Model Bell Pepper/Train \n",
            "cp ./Bacterial Spot/Rotate_After_Flip_Vertical_Flip_Pepper_Bell_Bacterial_Spot_0858.JPG /content/drive/Shareddrives/ECEN 404 Machine Learning/Color/Final Model Bell Pepper/Train \n",
            "cp ./Bacterial Spot/Rotate_After_Flip_Vertical_Flip_Pepper_Bell_Bacterial_Spot_0888.JPG /content/drive/Shareddrives/ECEN 404 Machine Learning/Color/Final Model Bell Pepper/Train \n",
            "cp ./Bacterial Spot/Rotate_After_Flip_Vertical_Flip_Pepper_Bell_Bacterial_Spot_0878.JPG /content/drive/Shareddrives/ECEN 404 Machine Learning/Color/Final Model Bell Pepper/Train \n",
            "cp ./Bacterial Spot/Rotate_After_Flip_Vertical_Flip_Pepper_Bell_Bacterial_Spot_0922.JPG /content/drive/Shareddrives/ECEN 404 Machine Learning/Color/Final Model Bell Pepper/Train \n",
            "cp ./Bacterial Spot/Rotate_After_Flip_Vertical_Flip_Pepper_Bell_Bacterial_Spot_0948.JPG /content/drive/Shareddrives/ECEN 404 Machine Learning/Color/Final Model Bell Pepper/Train \n",
            "cp ./Bacterial Spot/Rotate_After_Flip_Vertical_Flip_Pepper_Bell_Bacterial_Spot_0864.JPG /content/drive/Shareddrives/ECEN 404 Machine Learning/Color/Final Model Bell Pepper/Train \n",
            "cp ./Bacterial Spot/Rotate_After_Flip_Vertical_Flip_Pepper_Bell_Bacterial_Spot_0885.JPG /content/drive/Shareddrives/ECEN 404 Machine Learning/Color/Final Model Bell Pepper/Train \n",
            "cp ./Bacterial Spot/Rotate_After_Flip_Vertical_Flip_Pepper_Bell_Bacterial_Spot_0941.JPG /content/drive/Shareddrives/ECEN 404 Machine Learning/Color/Final Model Bell Pepper/Train \n",
            "cp ./Bacterial Spot/Rotate_After_Flip_Vertical_Flip_Pepper_Bell_Bacterial_Spot_0857.JPG /content/drive/Shareddrives/ECEN 404 Machine Learning/Color/Final Model Bell Pepper/Train \n",
            "cp ./Bacterial Spot/Rotate_After_Flip_Vertical_Flip_Pepper_Bell_Bacterial_Spot_0920.JPG /content/drive/Shareddrives/ECEN 404 Machine Learning/Color/Final Model Bell Pepper/Train \n",
            "cp ./Bacterial Spot/Rotate_After_Flip_Vertical_Flip_Pepper_Bell_Bacterial_Spot_0916.JPG /content/drive/Shareddrives/ECEN 404 Machine Learning/Color/Final Model Bell Pepper/Train \n",
            "cp ./Bacterial Spot/Rotate_After_Flip_Vertical_Flip_Pepper_Bell_Bacterial_Spot_0870.JPG /content/drive/Shareddrives/ECEN 404 Machine Learning/Color/Final Model Bell Pepper/Train \n",
            "cp ./Bacterial Spot/Rotate_After_Flip_Vertical_Flip_Pepper_Bell_Bacterial_Spot_0939.JPG /content/drive/Shareddrives/ECEN 404 Machine Learning/Color/Final Model Bell Pepper/Train \n",
            "cp ./Bacterial Spot/Rotate_After_Flip_Vertical_Flip_Pepper_Bell_Bacterial_Spot_0871.JPG /content/drive/Shareddrives/ECEN 404 Machine Learning/Color/Final Model Bell Pepper/Train \n",
            "cp ./Bacterial Spot/Rotate_After_Flip_Vertical_Flip_Pepper_Bell_Bacterial_Spot_0928.JPG /content/drive/Shareddrives/ECEN 404 Machine Learning/Color/Final Model Bell Pepper/Train \n",
            "cp ./Bacterial Spot/Rotate_After_Flip_Vertical_Flip_Pepper_Bell_Bacterial_Spot_0860.JPG /content/drive/Shareddrives/ECEN 404 Machine Learning/Color/Final Model Bell Pepper/Train \n",
            "cp ./Bacterial Spot/Rotate_After_Flip_Vertical_Flip_Pepper_Bell_Bacterial_Spot_0876.JPG /content/drive/Shareddrives/ECEN 404 Machine Learning/Color/Final Model Bell Pepper/Train \n",
            "cp ./Bacterial Spot/Rotate_After_Flip_Vertical_Flip_Pepper_Bell_Bacterial_Spot_0907.JPG /content/drive/Shareddrives/ECEN 404 Machine Learning/Color/Final Model Bell Pepper/Train \n",
            "cp ./Bacterial Spot/Rotate_After_Flip_Vertical_Flip_Pepper_Bell_Bacterial_Spot_0883.JPG /content/drive/Shareddrives/ECEN 404 Machine Learning/Color/Final Model Bell Pepper/Train \n",
            "cp ./Bacterial Spot/Rotate_After_Flip_Vertical_Flip_Pepper_Bell_Bacterial_Spot_0901.JPG /content/drive/Shareddrives/ECEN 404 Machine Learning/Color/Final Model Bell Pepper/Train \n",
            "cp ./Bacterial Spot/Rotate_After_Flip_Vertical_Flip_Pepper_Bell_Bacterial_Spot_0863.JPG /content/drive/Shareddrives/ECEN 404 Machine Learning/Color/Final Model Bell Pepper/Train \n",
            "cp ./Bacterial Spot/Rotate_After_Flip_Vertical_Flip_Pepper_Bell_Bacterial_Spot_0902.JPG /content/drive/Shareddrives/ECEN 404 Machine Learning/Color/Final Model Bell Pepper/Train \n",
            "cp ./Bacterial Spot/Rotate_After_Flip_Vertical_Flip_Pepper_Bell_Bacterial_Spot_0935.JPG /content/drive/Shareddrives/ECEN 404 Machine Learning/Color/Final Model Bell Pepper/Train \n",
            "cp ./Bacterial Spot/Rotate_After_Flip_Vertical_Flip_Pepper_Bell_Bacterial_Spot_0859.JPG /content/drive/Shareddrives/ECEN 404 Machine Learning/Color/Final Model Bell Pepper/Train \n",
            "cp ./Bacterial Spot/Rotate_After_Flip_Vertical_Flip_Pepper_Bell_Bacterial_Spot_0926.JPG /content/drive/Shareddrives/ECEN 404 Machine Learning/Color/Final Model Bell Pepper/Train \n",
            "cp ./Bacterial Spot/Rotate_After_Flip_Vertical_Flip_Pepper_Bell_Bacterial_Spot_0940.JPG /content/drive/Shareddrives/ECEN 404 Machine Learning/Color/Final Model Bell Pepper/Train \n",
            "cp ./Bacterial Spot/Rotate_After_Flip_Vertical_Flip_Pepper_Bell_Bacterial_Spot_0929.JPG /content/drive/Shareddrives/ECEN 404 Machine Learning/Color/Final Model Bell Pepper/Train \n",
            "cp ./Bacterial Spot/Rotate_After_Flip_Vertical_Flip_Pepper_Bell_Bacterial_Spot_0881.JPG /content/drive/Shareddrives/ECEN 404 Machine Learning/Color/Final Model Bell Pepper/Train \n",
            "cp ./Bacterial Spot/Rotate_After_Flip_Vertical_Flip_Pepper_Bell_Bacterial_Spot_0872.JPG /content/drive/Shareddrives/ECEN 404 Machine Learning/Color/Final Model Bell Pepper/Train \n",
            "cp ./Bacterial Spot/Rotate_After_Flip_Vertical_Flip_Pepper_Bell_Bacterial_Spot_0917.JPG /content/drive/Shareddrives/ECEN 404 Machine Learning/Color/Final Model Bell Pepper/Train \n",
            "cp ./Bacterial Spot/Rotate_After_Flip_Vertical_Flip_Pepper_Bell_Bacterial_Spot_0862.JPG /content/drive/Shareddrives/ECEN 404 Machine Learning/Color/Final Model Bell Pepper/Train \n",
            "cp ./Bacterial Spot/Rotate_After_Flip_Vertical_Flip_Pepper_Bell_Bacterial_Spot_0880.JPG /content/drive/Shareddrives/ECEN 404 Machine Learning/Color/Final Model Bell Pepper/Train \n",
            "cp ./Bacterial Spot/Rotate_After_Flip_Vertical_Flip_Pepper_Bell_Bacterial_Spot_0894.JPG /content/drive/Shareddrives/ECEN 404 Machine Learning/Color/Final Model Bell Pepper/Train \n",
            "cp ./Bacterial Spot/Rotate_After_Flip_Vertical_Flip_Pepper_Bell_Bacterial_Spot_0905.JPG /content/drive/Shareddrives/ECEN 404 Machine Learning/Color/Final Model Bell Pepper/Train \n",
            "cp ./Bacterial Spot/Rotate_After_Flip_Vertical_Flip_Pepper_Bell_Bacterial_Spot_0930.JPG /content/drive/Shareddrives/ECEN 404 Machine Learning/Color/Final Model Bell Pepper/Train \n",
            "cp ./Bacterial Spot/Rotate_After_Flip_Vertical_Flip_Pepper_Bell_Bacterial_Spot_0877.JPG /content/drive/Shareddrives/ECEN 404 Machine Learning/Color/Final Model Bell Pepper/Train \n",
            "cp ./Bacterial Spot/Rotate_After_Flip_Vertical_Flip_Pepper_Bell_Bacterial_Spot_0932.JPG /content/drive/Shareddrives/ECEN 404 Machine Learning/Color/Final Model Bell Pepper/Train \n",
            "cp ./Bacterial Spot/Rotate_After_Flip_Vertical_Flip_Pepper_Bell_Bacterial_Spot_0842.JPG /content/drive/Shareddrives/ECEN 404 Machine Learning/Color/Final Model Bell Pepper/Train \n",
            "cp ./Bacterial Spot/Rotate_After_Flip_Vertical_Flip_Pepper_Bell_Bacterial_Spot_0845.JPG /content/drive/Shareddrives/ECEN 404 Machine Learning/Color/Final Model Bell Pepper/Train \n",
            "cp ./Bacterial Spot/Rotate_After_Flip_Vertical_Flip_Pepper_Bell_Bacterial_Spot_0841.JPG /content/drive/Shareddrives/ECEN 404 Machine Learning/Color/Final Model Bell Pepper/Train \n",
            "cp ./Bacterial Spot/Rotate_After_Flip_Vertical_Flip_Pepper_Bell_Bacterial_Spot_0846.JPG /content/drive/Shareddrives/ECEN 404 Machine Learning/Color/Final Model Bell Pepper/Train \n",
            "cp ./Bacterial Spot/Rotate_After_Flip_Vertical_Flip_Pepper_Bell_Bacterial_Spot_0844.JPG /content/drive/Shareddrives/ECEN 404 Machine Learning/Color/Final Model Bell Pepper/Train \n",
            "cp ./Bacterial Spot/Rotate_After_Flip_Vertical_Flip_Pepper_Bell_Bacterial_Spot_0848.JPG /content/drive/Shareddrives/ECEN 404 Machine Learning/Color/Final Model Bell Pepper/Train \n",
            "cp ./Bacterial Spot/Rotate_After_Flip_Vertical_Flip_Pepper_Bell_Bacterial_Spot_0849.JPG /content/drive/Shareddrives/ECEN 404 Machine Learning/Color/Final Model Bell Pepper/Train \n",
            "cp ./Bacterial Spot/Rotate_After_Flip_Vertical_Flip_Pepper_Bell_Bacterial_Spot_0851.JPG /content/drive/Shareddrives/ECEN 404 Machine Learning/Color/Final Model Bell Pepper/Train \n",
            "cp ./Bacterial Spot/Rotate_After_Flip_Vertical_Flip_Pepper_Bell_Bacterial_Spot_0843.JPG /content/drive/Shareddrives/ECEN 404 Machine Learning/Color/Final Model Bell Pepper/Train \n",
            "cp ./Bacterial Spot/Rotate_After_Flip_Vertical_Flip_Pepper_Bell_Bacterial_Spot_0850.JPG /content/drive/Shareddrives/ECEN 404 Machine Learning/Color/Final Model Bell Pepper/Train \n",
            "cp ./Bacterial Spot/Rotate_After_Flip_Vertical_Flip_Pepper_Bell_Bacterial_Spot_0847.JPG /content/drive/Shareddrives/ECEN 404 Machine Learning/Color/Final Model Bell Pepper/Train \n",
            "cp ./Bacterial Spot/Rotate_After_Flip_Vertical_Flip_Pepper_Bell_Bacterial_Spot_0830.JPG /content/drive/Shareddrives/ECEN 404 Machine Learning/Color/Final Model Bell Pepper/Train \n",
            "cp ./Bacterial Spot/Rotate_After_Flip_Vertical_Flip_Pepper_Bell_Bacterial_Spot_0827.JPG /content/drive/Shareddrives/ECEN 404 Machine Learning/Color/Final Model Bell Pepper/Train \n",
            "cp ./Bacterial Spot/Rotate_After_Flip_Vertical_Flip_Pepper_Bell_Bacterial_Spot_0831.JPG /content/drive/Shareddrives/ECEN 404 Machine Learning/Color/Final Model Bell Pepper/Train \n",
            "cp ./Bacterial Spot/Rotate_After_Flip_Vertical_Flip_Pepper_Bell_Bacterial_Spot_0828.JPG /content/drive/Shareddrives/ECEN 404 Machine Learning/Color/Final Model Bell Pepper/Train \n",
            "cp ./Bacterial Spot/Rotate_After_Flip_Vertical_Flip_Pepper_Bell_Bacterial_Spot_0833.JPG /content/drive/Shareddrives/ECEN 404 Machine Learning/Color/Final Model Bell Pepper/Train \n",
            "cp ./Bacterial Spot/Rotate_After_Flip_Vertical_Flip_Pepper_Bell_Bacterial_Spot_0832.JPG /content/drive/Shareddrives/ECEN 404 Machine Learning/Color/Final Model Bell Pepper/Train \n",
            "cp ./Bacterial Spot/Rotate_After_Flip_Vertical_Flip_Pepper_Bell_Bacterial_Spot_0834.JPG /content/drive/Shareddrives/ECEN 404 Machine Learning/Color/Final Model Bell Pepper/Train \n",
            "cp ./Bacterial Spot/Rotate_After_Flip_Vertical_Flip_Pepper_Bell_Bacterial_Spot_0839.JPG /content/drive/Shareddrives/ECEN 404 Machine Learning/Color/Final Model Bell Pepper/Train \n",
            "cp ./Bacterial Spot/Rotate_After_Flip_Vertical_Flip_Pepper_Bell_Bacterial_Spot_0838.JPG /content/drive/Shareddrives/ECEN 404 Machine Learning/Color/Final Model Bell Pepper/Train \n",
            "cp ./Bacterial Spot/Rotate_After_Flip_Vertical_Flip_Pepper_Bell_Bacterial_Spot_0836.JPG /content/drive/Shareddrives/ECEN 404 Machine Learning/Color/Final Model Bell Pepper/Train \n",
            "cp ./Bacterial Spot/Rotate_After_Flip_Vertical_Flip_Pepper_Bell_Bacterial_Spot_0840.JPG /content/drive/Shareddrives/ECEN 404 Machine Learning/Color/Final Model Bell Pepper/Train \n",
            "cp ./Bacterial Spot/Rotate_After_Flip_Vertical_Flip_Pepper_Bell_Bacterial_Spot_0829.JPG /content/drive/Shareddrives/ECEN 404 Machine Learning/Color/Final Model Bell Pepper/Train \n",
            "cp ./Bacterial Spot/Rotate_After_Flip_Vertical_Flip_Pepper_Bell_Bacterial_Spot_0835.JPG /content/drive/Shareddrives/ECEN 404 Machine Learning/Color/Final Model Bell Pepper/Train \n",
            "cp ./Bacterial Spot/Rotate_After_Flip_Vertical_Flip_Pepper_Bell_Bacterial_Spot_0837.JPG /content/drive/Shareddrives/ECEN 404 Machine Learning/Color/Final Model Bell Pepper/Train \n",
            "cp ./Bacterial Spot/Rotate_After_Flip_Vertical_Flip_Pepper_Bell_Bacterial_Spot_0803.JPG /content/drive/Shareddrives/ECEN 404 Machine Learning/Color/Final Model Bell Pepper/Train \n",
            "cp ./Bacterial Spot/Rotate_After_Flip_Vertical_Flip_Pepper_Bell_Bacterial_Spot_0758.JPG /content/drive/Shareddrives/ECEN 404 Machine Learning/Color/Final Model Bell Pepper/Train \n",
            "cp ./Bacterial Spot/Rotate_After_Flip_Vertical_Flip_Pepper_Bell_Bacterial_Spot_0740.JPG /content/drive/Shareddrives/ECEN 404 Machine Learning/Color/Final Model Bell Pepper/Train \n",
            "cp ./Bacterial Spot/Rotate_After_Flip_Vertical_Flip_Pepper_Bell_Bacterial_Spot_0806.JPG /content/drive/Shareddrives/ECEN 404 Machine Learning/Color/Final Model Bell Pepper/Train \n",
            "cp ./Bacterial Spot/Rotate_After_Flip_Vertical_Flip_Pepper_Bell_Bacterial_Spot_0802.JPG /content/drive/Shareddrives/ECEN 404 Machine Learning/Color/Final Model Bell Pepper/Train \n",
            "cp ./Bacterial Spot/Rotate_After_Flip_Vertical_Flip_Pepper_Bell_Bacterial_Spot_0776.JPG /content/drive/Shareddrives/ECEN 404 Machine Learning/Color/Final Model Bell Pepper/Train \n",
            "cp ./Bacterial Spot/Rotate_After_Flip_Vertical_Flip_Pepper_Bell_Bacterial_Spot_0795.JPG /content/drive/Shareddrives/ECEN 404 Machine Learning/Color/Final Model Bell Pepper/Train \n",
            "cp ./Bacterial Spot/Rotate_After_Flip_Vertical_Flip_Pepper_Bell_Bacterial_Spot_0799.JPG /content/drive/Shareddrives/ECEN 404 Machine Learning/Color/Final Model Bell Pepper/Train \n",
            "cp ./Bacterial Spot/Rotate_After_Flip_Vertical_Flip_Pepper_Bell_Bacterial_Spot_0772.JPG /content/drive/Shareddrives/ECEN 404 Machine Learning/Color/Final Model Bell Pepper/Train \n",
            "cp ./Bacterial Spot/Rotate_After_Flip_Vertical_Flip_Pepper_Bell_Bacterial_Spot_0745.JPG /content/drive/Shareddrives/ECEN 404 Machine Learning/Color/Final Model Bell Pepper/Train \n",
            "cp ./Bacterial Spot/Rotate_After_Flip_Vertical_Flip_Pepper_Bell_Bacterial_Spot_0794.JPG /content/drive/Shareddrives/ECEN 404 Machine Learning/Color/Final Model Bell Pepper/Train \n",
            "cp ./Bacterial Spot/Rotate_After_Flip_Vertical_Flip_Pepper_Bell_Bacterial_Spot_0805.JPG /content/drive/Shareddrives/ECEN 404 Machine Learning/Color/Final Model Bell Pepper/Train \n",
            "cp ./Bacterial Spot/Rotate_After_Flip_Vertical_Flip_Pepper_Bell_Bacterial_Spot_0767.JPG /content/drive/Shareddrives/ECEN 404 Machine Learning/Color/Final Model Bell Pepper/Train \n",
            "cp ./Bacterial Spot/Rotate_After_Flip_Vertical_Flip_Pepper_Bell_Bacterial_Spot_0789.JPG /content/drive/Shareddrives/ECEN 404 Machine Learning/Color/Final Model Bell Pepper/Train \n",
            "cp ./Bacterial Spot/Rotate_After_Flip_Vertical_Flip_Pepper_Bell_Bacterial_Spot_0785.JPG /content/drive/Shareddrives/ECEN 404 Machine Learning/Color/Final Model Bell Pepper/Train \n",
            "cp ./Bacterial Spot/Rotate_After_Flip_Vertical_Flip_Pepper_Bell_Bacterial_Spot_0781.JPG /content/drive/Shareddrives/ECEN 404 Machine Learning/Color/Final Model Bell Pepper/Train \n",
            "cp ./Bacterial Spot/Rotate_After_Flip_Vertical_Flip_Pepper_Bell_Bacterial_Spot_0796.JPG /content/drive/Shareddrives/ECEN 404 Machine Learning/Color/Final Model Bell Pepper/Train \n",
            "cp ./Bacterial Spot/Rotate_After_Flip_Vertical_Flip_Pepper_Bell_Bacterial_Spot_0738.JPG /content/drive/Shareddrives/ECEN 404 Machine Learning/Color/Final Model Bell Pepper/Train \n",
            "cp ./Bacterial Spot/Rotate_After_Flip_Vertical_Flip_Pepper_Bell_Bacterial_Spot_0770.JPG /content/drive/Shareddrives/ECEN 404 Machine Learning/Color/Final Model Bell Pepper/Train \n",
            "cp ./Bacterial Spot/Rotate_After_Flip_Vertical_Flip_Pepper_Bell_Bacterial_Spot_0731.JPG /content/drive/Shareddrives/ECEN 404 Machine Learning/Color/Final Model Bell Pepper/Train \n",
            "cp ./Bacterial Spot/Rotate_After_Flip_Vertical_Flip_Pepper_Bell_Bacterial_Spot_0825.JPG /content/drive/Shareddrives/ECEN 404 Machine Learning/Color/Final Model Bell Pepper/Train \n",
            "cp ./Bacterial Spot/Rotate_After_Flip_Vertical_Flip_Pepper_Bell_Bacterial_Spot_0760.JPG /content/drive/Shareddrives/ECEN 404 Machine Learning/Color/Final Model Bell Pepper/Train \n",
            "cp ./Bacterial Spot/Rotate_After_Flip_Vertical_Flip_Pepper_Bell_Bacterial_Spot_0818.JPG /content/drive/Shareddrives/ECEN 404 Machine Learning/Color/Final Model Bell Pepper/Train \n",
            "cp ./Bacterial Spot/Rotate_After_Flip_Vertical_Flip_Pepper_Bell_Bacterial_Spot_0798.JPG /content/drive/Shareddrives/ECEN 404 Machine Learning/Color/Final Model Bell Pepper/Train \n",
            "cp ./Bacterial Spot/Rotate_After_Flip_Vertical_Flip_Pepper_Bell_Bacterial_Spot_0725.JPG /content/drive/Shareddrives/ECEN 404 Machine Learning/Color/Final Model Bell Pepper/Train \n",
            "cp ./Bacterial Spot/Rotate_After_Flip_Vertical_Flip_Pepper_Bell_Bacterial_Spot_0727.JPG /content/drive/Shareddrives/ECEN 404 Machine Learning/Color/Final Model Bell Pepper/Train \n",
            "cp ./Bacterial Spot/Rotate_After_Flip_Vertical_Flip_Pepper_Bell_Bacterial_Spot_0753.JPG /content/drive/Shareddrives/ECEN 404 Machine Learning/Color/Final Model Bell Pepper/Train \n",
            "cp ./Bacterial Spot/Rotate_After_Flip_Vertical_Flip_Pepper_Bell_Bacterial_Spot_0815.JPG /content/drive/Shareddrives/ECEN 404 Machine Learning/Color/Final Model Bell Pepper/Train \n",
            "cp ./Bacterial Spot/Rotate_After_Flip_Vertical_Flip_Pepper_Bell_Bacterial_Spot_0810.JPG /content/drive/Shareddrives/ECEN 404 Machine Learning/Color/Final Model Bell Pepper/Train \n",
            "cp ./Bacterial Spot/Rotate_After_Flip_Vertical_Flip_Pepper_Bell_Bacterial_Spot_0814.JPG /content/drive/Shareddrives/ECEN 404 Machine Learning/Color/Final Model Bell Pepper/Train \n",
            "cp ./Bacterial Spot/Rotate_After_Flip_Vertical_Flip_Pepper_Bell_Bacterial_Spot_0819.JPG /content/drive/Shareddrives/ECEN 404 Machine Learning/Color/Final Model Bell Pepper/Train \n",
            "cp ./Bacterial Spot/Rotate_After_Flip_Vertical_Flip_Pepper_Bell_Bacterial_Spot_0726.JPG /content/drive/Shareddrives/ECEN 404 Machine Learning/Color/Final Model Bell Pepper/Train \n",
            "cp ./Bacterial Spot/Rotate_After_Flip_Vertical_Flip_Pepper_Bell_Bacterial_Spot_0824.JPG /content/drive/Shareddrives/ECEN 404 Machine Learning/Color/Final Model Bell Pepper/Train \n",
            "cp ./Bacterial Spot/Rotate_After_Flip_Vertical_Flip_Pepper_Bell_Bacterial_Spot_0793.JPG /content/drive/Shareddrives/ECEN 404 Machine Learning/Color/Final Model Bell Pepper/Train \n",
            "cp ./Bacterial Spot/Rotate_After_Flip_Vertical_Flip_Pepper_Bell_Bacterial_Spot_0821.JPG /content/drive/Shareddrives/ECEN 404 Machine Learning/Color/Final Model Bell Pepper/Train \n",
            "cp ./Bacterial Spot/Rotate_After_Flip_Vertical_Flip_Pepper_Bell_Bacterial_Spot_0761.JPG /content/drive/Shareddrives/ECEN 404 Machine Learning/Color/Final Model Bell Pepper/Train \n",
            "cp ./Bacterial Spot/Rotate_After_Flip_Vertical_Flip_Pepper_Bell_Bacterial_Spot_0766.JPG /content/drive/Shareddrives/ECEN 404 Machine Learning/Color/Final Model Bell Pepper/Train \n",
            "cp ./Bacterial Spot/Rotate_After_Flip_Vertical_Flip_Pepper_Bell_Bacterial_Spot_0744.JPG /content/drive/Shareddrives/ECEN 404 Machine Learning/Color/Final Model Bell Pepper/Train \n",
            "cp ./Bacterial Spot/Rotate_After_Flip_Vertical_Flip_Pepper_Bell_Bacterial_Spot_0780.JPG /content/drive/Shareddrives/ECEN 404 Machine Learning/Color/Final Model Bell Pepper/Train \n",
            "cp ./Bacterial Spot/Rotate_After_Flip_Vertical_Flip_Pepper_Bell_Bacterial_Spot_0783.JPG /content/drive/Shareddrives/ECEN 404 Machine Learning/Color/Final Model Bell Pepper/Train \n",
            "cp ./Bacterial Spot/Rotate_After_Flip_Vertical_Flip_Pepper_Bell_Bacterial_Spot_0736.JPG /content/drive/Shareddrives/ECEN 404 Machine Learning/Color/Final Model Bell Pepper/Train \n",
            "cp ./Bacterial Spot/Rotate_After_Flip_Vertical_Flip_Pepper_Bell_Bacterial_Spot_0804.JPG /content/drive/Shareddrives/ECEN 404 Machine Learning/Color/Final Model Bell Pepper/Train \n",
            "cp ./Bacterial Spot/Rotate_After_Flip_Vertical_Flip_Pepper_Bell_Bacterial_Spot_0724.JPG /content/drive/Shareddrives/ECEN 404 Machine Learning/Color/Final Model Bell Pepper/Train \n",
            "cp ./Bacterial Spot/Rotate_After_Flip_Vertical_Flip_Pepper_Bell_Bacterial_Spot_0748.JPG /content/drive/Shareddrives/ECEN 404 Machine Learning/Color/Final Model Bell Pepper/Train \n",
            "cp ./Bacterial Spot/Rotate_After_Flip_Vertical_Flip_Pepper_Bell_Bacterial_Spot_0816.JPG /content/drive/Shareddrives/ECEN 404 Machine Learning/Color/Final Model Bell Pepper/Train \n",
            "cp ./Bacterial Spot/Rotate_After_Flip_Vertical_Flip_Pepper_Bell_Bacterial_Spot_0757.JPG /content/drive/Shareddrives/ECEN 404 Machine Learning/Color/Final Model Bell Pepper/Train \n",
            "cp ./Bacterial Spot/Rotate_After_Flip_Vertical_Flip_Pepper_Bell_Bacterial_Spot_0730.JPG /content/drive/Shareddrives/ECEN 404 Machine Learning/Color/Final Model Bell Pepper/Train \n",
            "cp ./Bacterial Spot/Rotate_After_Flip_Vertical_Flip_Pepper_Bell_Bacterial_Spot_0807.JPG /content/drive/Shareddrives/ECEN 404 Machine Learning/Color/Final Model Bell Pepper/Train \n",
            "cp ./Bacterial Spot/Rotate_After_Flip_Vertical_Flip_Pepper_Bell_Bacterial_Spot_0735.JPG /content/drive/Shareddrives/ECEN 404 Machine Learning/Color/Final Model Bell Pepper/Train \n",
            "cp ./Bacterial Spot/Rotate_After_Flip_Vertical_Flip_Pepper_Bell_Bacterial_Spot_0786.JPG /content/drive/Shareddrives/ECEN 404 Machine Learning/Color/Final Model Bell Pepper/Train \n",
            "cp ./Bacterial Spot/Rotate_After_Flip_Vertical_Flip_Pepper_Bell_Bacterial_Spot_0801.JPG /content/drive/Shareddrives/ECEN 404 Machine Learning/Color/Final Model Bell Pepper/Train \n",
            "cp ./Bacterial Spot/Rotate_After_Flip_Vertical_Flip_Pepper_Bell_Bacterial_Spot_0788.JPG /content/drive/Shareddrives/ECEN 404 Machine Learning/Color/Final Model Bell Pepper/Train \n",
            "cp ./Bacterial Spot/Rotate_After_Flip_Vertical_Flip_Pepper_Bell_Bacterial_Spot_0775.JPG /content/drive/Shareddrives/ECEN 404 Machine Learning/Color/Final Model Bell Pepper/Train \n",
            "cp ./Bacterial Spot/Rotate_After_Flip_Vertical_Flip_Pepper_Bell_Bacterial_Spot_0742.JPG /content/drive/Shareddrives/ECEN 404 Machine Learning/Color/Final Model Bell Pepper/Train \n",
            "cp ./Bacterial Spot/Rotate_After_Flip_Vertical_Flip_Pepper_Bell_Bacterial_Spot_0737.JPG /content/drive/Shareddrives/ECEN 404 Machine Learning/Color/Final Model Bell Pepper/Train \n",
            "cp ./Bacterial Spot/Rotate_After_Flip_Vertical_Flip_Pepper_Bell_Bacterial_Spot_0769.JPG /content/drive/Shareddrives/ECEN 404 Machine Learning/Color/Final Model Bell Pepper/Train \n",
            "cp ./Bacterial Spot/Rotate_After_Flip_Vertical_Flip_Pepper_Bell_Bacterial_Spot_0743.JPG /content/drive/Shareddrives/ECEN 404 Machine Learning/Color/Final Model Bell Pepper/Train \n",
            "cp ./Bacterial Spot/Rotate_After_Flip_Vertical_Flip_Pepper_Bell_Bacterial_Spot_0813.JPG /content/drive/Shareddrives/ECEN 404 Machine Learning/Color/Final Model Bell Pepper/Train \n",
            "cp ./Bacterial Spot/Rotate_After_Flip_Vertical_Flip_Pepper_Bell_Bacterial_Spot_0771.JPG /content/drive/Shareddrives/ECEN 404 Machine Learning/Color/Final Model Bell Pepper/Train \n",
            "cp ./Bacterial Spot/Rotate_After_Flip_Vertical_Flip_Pepper_Bell_Bacterial_Spot_0800.JPG /content/drive/Shareddrives/ECEN 404 Machine Learning/Color/Final Model Bell Pepper/Train \n",
            "cp ./Bacterial Spot/Rotate_After_Flip_Vertical_Flip_Pepper_Bell_Bacterial_Spot_0759.JPG /content/drive/Shareddrives/ECEN 404 Machine Learning/Color/Final Model Bell Pepper/Train \n",
            "cp ./Bacterial Spot/Rotate_After_Flip_Vertical_Flip_Pepper_Bell_Bacterial_Spot_0797.JPG /content/drive/Shareddrives/ECEN 404 Machine Learning/Color/Final Model Bell Pepper/Train \n",
            "cp ./Bacterial Spot/Rotate_After_Flip_Vertical_Flip_Pepper_Bell_Bacterial_Spot_0741.JPG /content/drive/Shareddrives/ECEN 404 Machine Learning/Color/Final Model Bell Pepper/Train \n",
            "cp ./Bacterial Spot/Rotate_After_Flip_Vertical_Flip_Pepper_Bell_Bacterial_Spot_0791.JPG /content/drive/Shareddrives/ECEN 404 Machine Learning/Color/Final Model Bell Pepper/Train \n",
            "cp ./Bacterial Spot/Rotate_After_Flip_Vertical_Flip_Pepper_Bell_Bacterial_Spot_0756.JPG /content/drive/Shareddrives/ECEN 404 Machine Learning/Color/Final Model Bell Pepper/Train \n",
            "cp ./Bacterial Spot/Rotate_After_Flip_Vertical_Flip_Pepper_Bell_Bacterial_Spot_0817.JPG /content/drive/Shareddrives/ECEN 404 Machine Learning/Color/Final Model Bell Pepper/Train \n",
            "cp ./Bacterial Spot/Rotate_After_Flip_Vertical_Flip_Pepper_Bell_Bacterial_Spot_0755.JPG /content/drive/Shareddrives/ECEN 404 Machine Learning/Color/Final Model Bell Pepper/Train \n",
            "cp ./Bacterial Spot/Rotate_After_Flip_Vertical_Flip_Pepper_Bell_Bacterial_Spot_0747.JPG /content/drive/Shareddrives/ECEN 404 Machine Learning/Color/Final Model Bell Pepper/Train \n",
            "cp ./Bacterial Spot/Rotate_After_Flip_Vertical_Flip_Pepper_Bell_Bacterial_Spot_0823.JPG /content/drive/Shareddrives/ECEN 404 Machine Learning/Color/Final Model Bell Pepper/Train \n",
            "cp ./Bacterial Spot/Rotate_After_Flip_Vertical_Flip_Pepper_Bell_Bacterial_Spot_0820.JPG /content/drive/Shareddrives/ECEN 404 Machine Learning/Color/Final Model Bell Pepper/Train \n",
            "cp ./Bacterial Spot/Rotate_After_Flip_Vertical_Flip_Pepper_Bell_Bacterial_Spot_0762.JPG /content/drive/Shareddrives/ECEN 404 Machine Learning/Color/Final Model Bell Pepper/Train \n",
            "cp ./Bacterial Spot/Rotate_After_Flip_Vertical_Flip_Pepper_Bell_Bacterial_Spot_0729.JPG /content/drive/Shareddrives/ECEN 404 Machine Learning/Color/Final Model Bell Pepper/Train \n",
            "cp ./Bacterial Spot/Rotate_After_Flip_Vertical_Flip_Pepper_Bell_Bacterial_Spot_0811.JPG /content/drive/Shareddrives/ECEN 404 Machine Learning/Color/Final Model Bell Pepper/Train \n",
            "cp ./Bacterial Spot/Rotate_After_Flip_Vertical_Flip_Pepper_Bell_Bacterial_Spot_0792.JPG /content/drive/Shareddrives/ECEN 404 Machine Learning/Color/Final Model Bell Pepper/Train \n",
            "cp ./Bacterial Spot/Rotate_After_Flip_Vertical_Flip_Pepper_Bell_Bacterial_Spot_0812.JPG /content/drive/Shareddrives/ECEN 404 Machine Learning/Color/Final Model Bell Pepper/Train \n",
            "cp ./Bacterial Spot/Rotate_After_Flip_Vertical_Flip_Pepper_Bell_Bacterial_Spot_0768.JPG /content/drive/Shareddrives/ECEN 404 Machine Learning/Color/Final Model Bell Pepper/Train \n",
            "cp ./Bacterial Spot/Rotate_After_Flip_Vertical_Flip_Pepper_Bell_Bacterial_Spot_0752.JPG /content/drive/Shareddrives/ECEN 404 Machine Learning/Color/Final Model Bell Pepper/Train \n",
            "cp ./Bacterial Spot/Rotate_After_Flip_Vertical_Flip_Pepper_Bell_Bacterial_Spot_0777.JPG /content/drive/Shareddrives/ECEN 404 Machine Learning/Color/Final Model Bell Pepper/Train \n",
            "cp ./Bacterial Spot/Rotate_After_Flip_Vertical_Flip_Pepper_Bell_Bacterial_Spot_0728.JPG /content/drive/Shareddrives/ECEN 404 Machine Learning/Color/Final Model Bell Pepper/Train \n",
            "cp ./Bacterial Spot/Rotate_After_Flip_Vertical_Flip_Pepper_Bell_Bacterial_Spot_0809.JPG /content/drive/Shareddrives/ECEN 404 Machine Learning/Color/Final Model Bell Pepper/Train \n",
            "cp ./Bacterial Spot/Rotate_After_Flip_Vertical_Flip_Pepper_Bell_Bacterial_Spot_0778.JPG /content/drive/Shareddrives/ECEN 404 Machine Learning/Color/Final Model Bell Pepper/Train \n",
            "cp ./Bacterial Spot/Rotate_After_Flip_Vertical_Flip_Pepper_Bell_Bacterial_Spot_0732.JPG /content/drive/Shareddrives/ECEN 404 Machine Learning/Color/Final Model Bell Pepper/Train \n",
            "cp ./Bacterial Spot/Rotate_After_Flip_Vertical_Flip_Pepper_Bell_Bacterial_Spot_0751.JPG /content/drive/Shareddrives/ECEN 404 Machine Learning/Color/Final Model Bell Pepper/Train \n",
            "cp ./Bacterial Spot/Rotate_After_Flip_Vertical_Flip_Pepper_Bell_Bacterial_Spot_0739.JPG /content/drive/Shareddrives/ECEN 404 Machine Learning/Color/Final Model Bell Pepper/Train \n",
            "cp ./Bacterial Spot/Rotate_After_Flip_Vertical_Flip_Pepper_Bell_Bacterial_Spot_0773.JPG /content/drive/Shareddrives/ECEN 404 Machine Learning/Color/Final Model Bell Pepper/Train \n",
            "cp ./Bacterial Spot/Rotate_After_Flip_Vertical_Flip_Pepper_Bell_Bacterial_Spot_0808.JPG /content/drive/Shareddrives/ECEN 404 Machine Learning/Color/Final Model Bell Pepper/Train \n",
            "cp ./Bacterial Spot/Rotate_After_Flip_Vertical_Flip_Pepper_Bell_Bacterial_Spot_0676.JPG /content/drive/Shareddrives/ECEN 404 Machine Learning/Color/Final Model Bell Pepper/Train \n",
            "cp ./Bacterial Spot/Rotate_After_Flip_Vertical_Flip_Pepper_Bell_Bacterial_Spot_0718.JPG /content/drive/Shareddrives/ECEN 404 Machine Learning/Color/Final Model Bell Pepper/Train \n",
            "cp ./Bacterial Spot/Rotate_After_Flip_Vertical_Flip_Pepper_Bell_Bacterial_Spot_0645.JPG /content/drive/Shareddrives/ECEN 404 Machine Learning/Color/Final Model Bell Pepper/Train \n",
            "cp ./Bacterial Spot/Rotate_After_Flip_Vertical_Flip_Pepper_Bell_Bacterial_Spot_0597.JPG /content/drive/Shareddrives/ECEN 404 Machine Learning/Color/Final Model Bell Pepper/Train \n",
            "cp ./Bacterial Spot/Rotate_After_Flip_Vertical_Flip_Pepper_Bell_Bacterial_Spot_0660.JPG /content/drive/Shareddrives/ECEN 404 Machine Learning/Color/Final Model Bell Pepper/Train \n",
            "cp ./Bacterial Spot/Rotate_After_Flip_Vertical_Flip_Pepper_Bell_Bacterial_Spot_0628.JPG /content/drive/Shareddrives/ECEN 404 Machine Learning/Color/Final Model Bell Pepper/Train \n",
            "cp ./Bacterial Spot/Rotate_After_Flip_Vertical_Flip_Pepper_Bell_Bacterial_Spot_0595.JPG /content/drive/Shareddrives/ECEN 404 Machine Learning/Color/Final Model Bell Pepper/Train \n",
            "cp ./Bacterial Spot/Rotate_After_Flip_Vertical_Flip_Pepper_Bell_Bacterial_Spot_0615.JPG /content/drive/Shareddrives/ECEN 404 Machine Learning/Color/Final Model Bell Pepper/Train \n",
            "cp ./Bacterial Spot/Rotate_After_Flip_Vertical_Flip_Pepper_Bell_Bacterial_Spot_0716.JPG /content/drive/Shareddrives/ECEN 404 Machine Learning/Color/Final Model Bell Pepper/Train \n",
            "cp ./Bacterial Spot/Rotate_After_Flip_Vertical_Flip_Pepper_Bell_Bacterial_Spot_0693.JPG /content/drive/Shareddrives/ECEN 404 Machine Learning/Color/Final Model Bell Pepper/Train \n",
            "cp ./Bacterial Spot/Rotate_After_Flip_Vertical_Flip_Pepper_Bell_Bacterial_Spot_0602.JPG /content/drive/Shareddrives/ECEN 404 Machine Learning/Color/Final Model Bell Pepper/Train \n",
            "cp ./Bacterial Spot/Rotate_After_Flip_Vertical_Flip_Pepper_Bell_Bacterial_Spot_0717.JPG /content/drive/Shareddrives/ECEN 404 Machine Learning/Color/Final Model Bell Pepper/Train \n",
            "cp ./Bacterial Spot/Rotate_After_Flip_Vertical_Flip_Pepper_Bell_Bacterial_Spot_0720.JPG /content/drive/Shareddrives/ECEN 404 Machine Learning/Color/Final Model Bell Pepper/Train \n",
            "cp ./Bacterial Spot/Rotate_After_Flip_Vertical_Flip_Pepper_Bell_Bacterial_Spot_0624.JPG /content/drive/Shareddrives/ECEN 404 Machine Learning/Color/Final Model Bell Pepper/Train \n",
            "cp ./Bacterial Spot/Rotate_After_Flip_Vertical_Flip_Pepper_Bell_Bacterial_Spot_0705.JPG /content/drive/Shareddrives/ECEN 404 Machine Learning/Color/Final Model Bell Pepper/Train \n",
            "cp ./Bacterial Spot/Rotate_After_Flip_Vertical_Flip_Pepper_Bell_Bacterial_Spot_0655.JPG /content/drive/Shareddrives/ECEN 404 Machine Learning/Color/Final Model Bell Pepper/Train \n",
            "cp ./Bacterial Spot/Rotate_After_Flip_Vertical_Flip_Pepper_Bell_Bacterial_Spot_0635.JPG /content/drive/Shareddrives/ECEN 404 Machine Learning/Color/Final Model Bell Pepper/Train \n",
            "cp ./Bacterial Spot/Rotate_After_Flip_Vertical_Flip_Pepper_Bell_Bacterial_Spot_0611.JPG /content/drive/Shareddrives/ECEN 404 Machine Learning/Color/Final Model Bell Pepper/Train \n",
            "cp ./Bacterial Spot/Rotate_After_Flip_Vertical_Flip_Pepper_Bell_Bacterial_Spot_0708.JPG /content/drive/Shareddrives/ECEN 404 Machine Learning/Color/Final Model Bell Pepper/Train \n",
            "cp ./Bacterial Spot/Rotate_After_Flip_Vertical_Flip_Pepper_Bell_Bacterial_Spot_0614.JPG /content/drive/Shareddrives/ECEN 404 Machine Learning/Color/Final Model Bell Pepper/Train \n",
            "cp ./Bacterial Spot/Rotate_After_Flip_Vertical_Flip_Pepper_Bell_Bacterial_Spot_0714.JPG /content/drive/Shareddrives/ECEN 404 Machine Learning/Color/Final Model Bell Pepper/Train \n",
            "cp ./Bacterial Spot/Rotate_After_Flip_Vertical_Flip_Pepper_Bell_Bacterial_Spot_0670.JPG /content/drive/Shareddrives/ECEN 404 Machine Learning/Color/Final Model Bell Pepper/Train \n",
            "cp ./Bacterial Spot/Rotate_After_Flip_Vertical_Flip_Pepper_Bell_Bacterial_Spot_0682.JPG /content/drive/Shareddrives/ECEN 404 Machine Learning/Color/Final Model Bell Pepper/Train \n",
            "cp ./Bacterial Spot/Rotate_After_Flip_Vertical_Flip_Pepper_Bell_Bacterial_Spot_0722.JPG /content/drive/Shareddrives/ECEN 404 Machine Learning/Color/Final Model Bell Pepper/Train \n",
            "cp ./Bacterial Spot/Rotate_After_Flip_Vertical_Flip_Pepper_Bell_Bacterial_Spot_0695.JPG /content/drive/Shareddrives/ECEN 404 Machine Learning/Color/Final Model Bell Pepper/Train \n",
            "cp ./Bacterial Spot/Rotate_After_Flip_Vertical_Flip_Pepper_Bell_Bacterial_Spot_0677.JPG /content/drive/Shareddrives/ECEN 404 Machine Learning/Color/Final Model Bell Pepper/Train \n",
            "cp ./Bacterial Spot/Rotate_After_Flip_Vertical_Flip_Pepper_Bell_Bacterial_Spot_0691.JPG /content/drive/Shareddrives/ECEN 404 Machine Learning/Color/Final Model Bell Pepper/Train \n",
            "cp ./Bacterial Spot/Rotate_After_Flip_Vertical_Flip_Pepper_Bell_Bacterial_Spot_0622.JPG /content/drive/Shareddrives/ECEN 404 Machine Learning/Color/Final Model Bell Pepper/Train \n",
            "cp ./Bacterial Spot/Rotate_After_Flip_Vertical_Flip_Pepper_Bell_Bacterial_Spot_0711.JPG /content/drive/Shareddrives/ECEN 404 Machine Learning/Color/Final Model Bell Pepper/Train \n",
            "cp ./Bacterial Spot/Rotate_After_Flip_Vertical_Flip_Pepper_Bell_Bacterial_Spot_0679.JPG /content/drive/Shareddrives/ECEN 404 Machine Learning/Color/Final Model Bell Pepper/Train \n",
            "cp ./Bacterial Spot/Rotate_After_Flip_Vertical_Flip_Pepper_Bell_Bacterial_Spot_0701.JPG /content/drive/Shareddrives/ECEN 404 Machine Learning/Color/Final Model Bell Pepper/Train \n",
            "cp ./Bacterial Spot/Rotate_After_Flip_Vertical_Flip_Pepper_Bell_Bacterial_Spot_0665.JPG /content/drive/Shareddrives/ECEN 404 Machine Learning/Color/Final Model Bell Pepper/Train \n",
            "cp ./Bacterial Spot/Rotate_After_Flip_Vertical_Flip_Pepper_Bell_Bacterial_Spot_0681.JPG /content/drive/Shareddrives/ECEN 404 Machine Learning/Color/Final Model Bell Pepper/Train \n",
            "cp ./Bacterial Spot/Rotate_After_Flip_Vertical_Flip_Pepper_Bell_Bacterial_Spot_0697.JPG /content/drive/Shareddrives/ECEN 404 Machine Learning/Color/Final Model Bell Pepper/Train \n",
            "cp ./Bacterial Spot/Rotate_After_Flip_Vertical_Flip_Pepper_Bell_Bacterial_Spot_0721.JPG /content/drive/Shareddrives/ECEN 404 Machine Learning/Color/Final Model Bell Pepper/Train \n",
            "cp ./Bacterial Spot/Rotate_After_Flip_Vertical_Flip_Pepper_Bell_Bacterial_Spot_0590.JPG /content/drive/Shareddrives/ECEN 404 Machine Learning/Color/Final Model Bell Pepper/Train \n",
            "cp ./Bacterial Spot/Rotate_After_Flip_Vertical_Flip_Pepper_Bell_Bacterial_Spot_0621.JPG /content/drive/Shareddrives/ECEN 404 Machine Learning/Color/Final Model Bell Pepper/Train \n",
            "cp ./Bacterial Spot/Rotate_After_Flip_Vertical_Flip_Pepper_Bell_Bacterial_Spot_0723.JPG /content/drive/Shareddrives/ECEN 404 Machine Learning/Color/Final Model Bell Pepper/Train \n",
            "cp ./Bacterial Spot/Rotate_After_Flip_Vertical_Flip_Pepper_Bell_Bacterial_Spot_0617.JPG /content/drive/Shareddrives/ECEN 404 Machine Learning/Color/Final Model Bell Pepper/Train \n",
            "cp ./Bacterial Spot/Rotate_After_Flip_Vertical_Flip_Pepper_Bell_Bacterial_Spot_0623.JPG /content/drive/Shareddrives/ECEN 404 Machine Learning/Color/Final Model Bell Pepper/Train \n",
            "cp ./Bacterial Spot/Rotate_After_Flip_Vertical_Flip_Pepper_Bell_Bacterial_Spot_0713.JPG /content/drive/Shareddrives/ECEN 404 Machine Learning/Color/Final Model Bell Pepper/Train \n",
            "cp ./Bacterial Spot/Rotate_After_Flip_Vertical_Flip_Pepper_Bell_Bacterial_Spot_0662.JPG /content/drive/Shareddrives/ECEN 404 Machine Learning/Color/Final Model Bell Pepper/Train \n",
            "cp ./Bacterial Spot/Rotate_After_Flip_Vertical_Flip_Pepper_Bell_Bacterial_Spot_0690.JPG /content/drive/Shareddrives/ECEN 404 Machine Learning/Color/Final Model Bell Pepper/Train \n",
            "cp ./Bacterial Spot/Rotate_After_Flip_Vertical_Flip_Pepper_Bell_Bacterial_Spot_0627.JPG /content/drive/Shareddrives/ECEN 404 Machine Learning/Color/Final Model Bell Pepper/Train \n",
            "cp ./Bacterial Spot/Rotate_After_Flip_Vertical_Flip_Pepper_Bell_Bacterial_Spot_0715.JPG /content/drive/Shareddrives/ECEN 404 Machine Learning/Color/Final Model Bell Pepper/Train \n",
            "cp ./Bacterial Spot/Rotate_After_Flip_Vertical_Flip_Pepper_Bell_Bacterial_Spot_0629.JPG /content/drive/Shareddrives/ECEN 404 Machine Learning/Color/Final Model Bell Pepper/Train \n",
            "cp ./Bacterial Spot/Rotate_After_Flip_Vertical_Flip_Pepper_Bell_Bacterial_Spot_0710.JPG /content/drive/Shareddrives/ECEN 404 Machine Learning/Color/Final Model Bell Pepper/Train \n",
            "cp ./Bacterial Spot/Rotate_After_Flip_Vertical_Flip_Pepper_Bell_Bacterial_Spot_0613.JPG /content/drive/Shareddrives/ECEN 404 Machine Learning/Color/Final Model Bell Pepper/Train \n",
            "cp ./Bacterial Spot/Rotate_After_Flip_Vertical_Flip_Pepper_Bell_Bacterial_Spot_0671.JPG /content/drive/Shareddrives/ECEN 404 Machine Learning/Color/Final Model Bell Pepper/Train \n",
            "cp ./Bacterial Spot/Rotate_After_Flip_Vertical_Flip_Pepper_Bell_Bacterial_Spot_0666.JPG /content/drive/Shareddrives/ECEN 404 Machine Learning/Color/Final Model Bell Pepper/Train \n",
            "cp ./Bacterial Spot/Rotate_After_Flip_Vertical_Flip_Pepper_Bell_Bacterial_Spot_0680.JPG /content/drive/Shareddrives/ECEN 404 Machine Learning/Color/Final Model Bell Pepper/Train \n",
            "cp ./Bacterial Spot/Rotate_After_Flip_Vertical_Flip_Pepper_Bell_Bacterial_Spot_0654.JPG /content/drive/Shareddrives/ECEN 404 Machine Learning/Color/Final Model Bell Pepper/Train \n",
            "cp ./Bacterial Spot/Rotate_After_Flip_Vertical_Flip_Pepper_Bell_Bacterial_Spot_0604.JPG /content/drive/Shareddrives/ECEN 404 Machine Learning/Color/Final Model Bell Pepper/Train \n",
            "cp ./Bacterial Spot/Rotate_After_Flip_Vertical_Flip_Pepper_Bell_Bacterial_Spot_0640.JPG /content/drive/Shareddrives/ECEN 404 Machine Learning/Color/Final Model Bell Pepper/Train \n",
            "cp ./Bacterial Spot/Rotate_After_Flip_Vertical_Flip_Pepper_Bell_Bacterial_Spot_0689.JPG /content/drive/Shareddrives/ECEN 404 Machine Learning/Color/Final Model Bell Pepper/Train \n",
            "cp ./Bacterial Spot/Rotate_After_Flip_Vertical_Flip_Pepper_Bell_Bacterial_Spot_0652.JPG /content/drive/Shareddrives/ECEN 404 Machine Learning/Color/Final Model Bell Pepper/Train \n",
            "cp ./Bacterial Spot/Rotate_After_Flip_Vertical_Flip_Pepper_Bell_Bacterial_Spot_0634.JPG /content/drive/Shareddrives/ECEN 404 Machine Learning/Color/Final Model Bell Pepper/Train \n",
            "cp ./Bacterial Spot/Rotate_After_Flip_Vertical_Flip_Pepper_Bell_Bacterial_Spot_0672.JPG /content/drive/Shareddrives/ECEN 404 Machine Learning/Color/Final Model Bell Pepper/Train \n",
            "cp ./Bacterial Spot/Rotate_After_Flip_Vertical_Flip_Pepper_Bell_Bacterial_Spot_0650.JPG /content/drive/Shareddrives/ECEN 404 Machine Learning/Color/Final Model Bell Pepper/Train \n",
            "cp ./Bacterial Spot/Rotate_After_Flip_Vertical_Flip_Pepper_Bell_Bacterial_Spot_0702.JPG /content/drive/Shareddrives/ECEN 404 Machine Learning/Color/Final Model Bell Pepper/Train \n",
            "cp ./Bacterial Spot/Rotate_After_Flip_Vertical_Flip_Pepper_Bell_Bacterial_Spot_0653.JPG /content/drive/Shareddrives/ECEN 404 Machine Learning/Color/Final Model Bell Pepper/Train \n",
            "cp ./Bacterial Spot/Rotate_After_Flip_Vertical_Flip_Pepper_Bell_Bacterial_Spot_0719.JPG /content/drive/Shareddrives/ECEN 404 Machine Learning/Color/Final Model Bell Pepper/Train \n",
            "cp ./Bacterial Spot/Rotate_After_Flip_Vertical_Flip_Pepper_Bell_Bacterial_Spot_0692.JPG /content/drive/Shareddrives/ECEN 404 Machine Learning/Color/Final Model Bell Pepper/Train \n",
            "cp ./Bacterial Spot/Rotate_After_Flip_Vertical_Flip_Pepper_Bell_Bacterial_Spot_0643.JPG /content/drive/Shareddrives/ECEN 404 Machine Learning/Color/Final Model Bell Pepper/Train \n",
            "cp ./Bacterial Spot/Rotate_After_Flip_Vertical_Flip_Pepper_Bell_Bacterial_Spot_0591.JPG /content/drive/Shareddrives/ECEN 404 Machine Learning/Color/Final Model Bell Pepper/Train \n",
            "cp ./Bacterial Spot/Rotate_After_Flip_Vertical_Flip_Pepper_Bell_Bacterial_Spot_0644.JPG /content/drive/Shareddrives/ECEN 404 Machine Learning/Color/Final Model Bell Pepper/Train \n",
            "cp ./Bacterial Spot/Rotate_After_Flip_Vertical_Flip_Pepper_Bell_Bacterial_Spot_0632.JPG /content/drive/Shareddrives/ECEN 404 Machine Learning/Color/Final Model Bell Pepper/Train \n",
            "cp ./Bacterial Spot/Rotate_After_Flip_Vertical_Flip_Pepper_Bell_Bacterial_Spot_0704.JPG /content/drive/Shareddrives/ECEN 404 Machine Learning/Color/Final Model Bell Pepper/Train \n",
            "cp ./Bacterial Spot/Rotate_After_Flip_Vertical_Flip_Pepper_Bell_Bacterial_Spot_0603.JPG /content/drive/Shareddrives/ECEN 404 Machine Learning/Color/Final Model Bell Pepper/Train \n",
            "cp ./Bacterial Spot/Rotate_After_Flip_Vertical_Flip_Pepper_Bell_Bacterial_Spot_0656.JPG /content/drive/Shareddrives/ECEN 404 Machine Learning/Color/Final Model Bell Pepper/Train \n",
            "cp ./Bacterial Spot/Rotate_After_Flip_Vertical_Flip_Pepper_Bell_Bacterial_Spot_0586.JPG /content/drive/Shareddrives/ECEN 404 Machine Learning/Color/Final Model Bell Pepper/Train \n",
            "cp ./Bacterial Spot/Rotate_After_Flip_Vertical_Flip_Pepper_Bell_Bacterial_Spot_0596.JPG /content/drive/Shareddrives/ECEN 404 Machine Learning/Color/Final Model Bell Pepper/Train \n",
            "cp ./Bacterial Spot/Rotate_After_Flip_Vertical_Flip_Pepper_Bell_Bacterial_Spot_0599.JPG /content/drive/Shareddrives/ECEN 404 Machine Learning/Color/Final Model Bell Pepper/Train \n",
            "cp ./Bacterial Spot/Rotate_After_Flip_Vertical_Flip_Pepper_Bell_Bacterial_Spot_0651.JPG /content/drive/Shareddrives/ECEN 404 Machine Learning/Color/Final Model Bell Pepper/Train \n",
            "cp ./Bacterial Spot/Rotate_After_Flip_Vertical_Flip_Pepper_Bell_Bacterial_Spot_0709.JPG /content/drive/Shareddrives/ECEN 404 Machine Learning/Color/Final Model Bell Pepper/Train \n",
            "cp ./Bacterial Spot/Rotate_After_Flip_Vertical_Flip_Pepper_Bell_Bacterial_Spot_0620.JPG /content/drive/Shareddrives/ECEN 404 Machine Learning/Color/Final Model Bell Pepper/Train \n",
            "cp ./Bacterial Spot/Rotate_After_Flip_Vertical_Flip_Pepper_Bell_Bacterial_Spot_0609.JPG /content/drive/Shareddrives/ECEN 404 Machine Learning/Color/Final Model Bell Pepper/Train \n",
            "cp ./Bacterial Spot/Rotate_After_Flip_Vertical_Flip_Pepper_Bell_Bacterial_Spot_0661.JPG /content/drive/Shareddrives/ECEN 404 Machine Learning/Color/Final Model Bell Pepper/Train \n",
            "cp ./Bacterial Spot/Rotate_After_Flip_Vertical_Flip_Pepper_Bell_Bacterial_Spot_0675.JPG /content/drive/Shareddrives/ECEN 404 Machine Learning/Color/Final Model Bell Pepper/Train \n",
            "cp ./Bacterial Spot/Rotate_After_Flip_Vertical_Flip_Pepper_Bell_Bacterial_Spot_0657.JPG /content/drive/Shareddrives/ECEN 404 Machine Learning/Color/Final Model Bell Pepper/Train \n",
            "cp ./Bacterial Spot/Rotate_After_Flip_Vertical_Flip_Pepper_Bell_Bacterial_Spot_0686.JPG /content/drive/Shareddrives/ECEN 404 Machine Learning/Color/Final Model Bell Pepper/Train \n",
            "cp ./Bacterial Spot/Rotate_After_Flip_Vertical_Flip_Pepper_Bell_Bacterial_Spot_0588.JPG /content/drive/Shareddrives/ECEN 404 Machine Learning/Color/Final Model Bell Pepper/Train \n",
            "cp ./Bacterial Spot/Rotate_After_Flip_Vertical_Flip_Pepper_Bell_Bacterial_Spot_0610.JPG /content/drive/Shareddrives/ECEN 404 Machine Learning/Color/Final Model Bell Pepper/Train \n",
            "cp ./Bacterial Spot/Rotate_After_Flip_Vertical_Flip_Pepper_Bell_Bacterial_Spot_0601.JPG /content/drive/Shareddrives/ECEN 404 Machine Learning/Color/Final Model Bell Pepper/Train \n",
            "cp ./Bacterial Spot/Rotate_After_Flip_Vertical_Flip_Pepper_Bell_Bacterial_Spot_0668.JPG /content/drive/Shareddrives/ECEN 404 Machine Learning/Color/Final Model Bell Pepper/Train \n",
            "cp ./Bacterial Spot/Rotate_After_Flip_Vertical_Flip_Pepper_Bell_Bacterial_Spot_0616.JPG /content/drive/Shareddrives/ECEN 404 Machine Learning/Color/Final Model Bell Pepper/Train \n",
            "cp ./Bacterial Spot/Rotate_After_Flip_Vertical_Flip_Pepper_Bell_Bacterial_Spot_0687.JPG /content/drive/Shareddrives/ECEN 404 Machine Learning/Color/Final Model Bell Pepper/Train \n",
            "cp ./Bacterial Spot/Rotate_After_Flip_Vertical_Flip_Pepper_Bell_Bacterial_Spot_0649.JPG /content/drive/Shareddrives/ECEN 404 Machine Learning/Color/Final Model Bell Pepper/Train \n",
            "cp ./Bacterial Spot/Rotate_After_Flip_Vertical_Flip_Pepper_Bell_Bacterial_Spot_0605.JPG /content/drive/Shareddrives/ECEN 404 Machine Learning/Color/Final Model Bell Pepper/Train \n",
            "cp ./Bacterial Spot/Rotate_After_Flip_Vertical_Flip_Pepper_Bell_Bacterial_Spot_0608.JPG /content/drive/Shareddrives/ECEN 404 Machine Learning/Color/Final Model Bell Pepper/Train \n",
            "cp ./Bacterial Spot/Rotate_After_Flip_Vertical_Flip_Pepper_Bell_Bacterial_Spot_0589.JPG /content/drive/Shareddrives/ECEN 404 Machine Learning/Color/Final Model Bell Pepper/Train \n",
            "cp ./Bacterial Spot/Rotate_After_Flip_Vertical_Flip_Pepper_Bell_Bacterial_Spot_0664.JPG /content/drive/Shareddrives/ECEN 404 Machine Learning/Color/Final Model Bell Pepper/Train \n",
            "cp ./Bacterial Spot/Rotate_After_Flip_Vertical_Flip_Pepper_Bell_Bacterial_Spot_0594.JPG /content/drive/Shareddrives/ECEN 404 Machine Learning/Color/Final Model Bell Pepper/Train \n",
            "cp ./Bacterial Spot/Rotate_After_Flip_Vertical_Flip_Pepper_Bell_Bacterial_Spot_0638.JPG /content/drive/Shareddrives/ECEN 404 Machine Learning/Color/Final Model Bell Pepper/Train \n",
            "cp ./Bacterial Spot/Rotate_After_Flip_Vertical_Flip_Pepper_Bell_Bacterial_Spot_0587.JPG /content/drive/Shareddrives/ECEN 404 Machine Learning/Color/Final Model Bell Pepper/Train \n",
            "cp ./Bacterial Spot/Rotate_After_Flip_Vertical_Flip_Pepper_Bell_Bacterial_Spot_0696.JPG /content/drive/Shareddrives/ECEN 404 Machine Learning/Color/Final Model Bell Pepper/Train \n",
            "cp ./Bacterial Spot/Rotate_After_Flip_Vertical_Flip_Pepper_Bell_Bacterial_Spot_0600.JPG /content/drive/Shareddrives/ECEN 404 Machine Learning/Color/Final Model Bell Pepper/Train \n",
            "cp ./Bacterial Spot/Rotate_After_Flip_Vertical_Flip_Pepper_Bell_Bacterial_Spot_0642.JPG /content/drive/Shareddrives/ECEN 404 Machine Learning/Color/Final Model Bell Pepper/Train \n",
            "cp ./Bacterial Spot/Rotate_After_Flip_Vertical_Flip_Pepper_Bell_Bacterial_Spot_0706.JPG /content/drive/Shareddrives/ECEN 404 Machine Learning/Color/Final Model Bell Pepper/Train \n",
            "cp ./Bacterial Spot/Rotate_After_Flip_Vertical_Flip_Pepper_Bell_Bacterial_Spot_0694.JPG /content/drive/Shareddrives/ECEN 404 Machine Learning/Color/Final Model Bell Pepper/Train \n",
            "cp ./Bacterial Spot/Rotate_After_Flip_Vertical_Flip_Pepper_Bell_Bacterial_Spot_0612.JPG /content/drive/Shareddrives/ECEN 404 Machine Learning/Color/Final Model Bell Pepper/Train \n",
            "cp ./Bacterial Spot/Rotate_After_Flip_Vertical_Flip_Pepper_Bell_Bacterial_Spot_0633.JPG /content/drive/Shareddrives/ECEN 404 Machine Learning/Color/Final Model Bell Pepper/Train \n",
            "cp ./Bacterial Spot/Rotate_After_Flip_Vertical_Flip_Pepper_Bell_Bacterial_Spot_0658.JPG /content/drive/Shareddrives/ECEN 404 Machine Learning/Color/Final Model Bell Pepper/Train \n",
            "cp ./Bacterial Spot/Rotate_After_Flip_Vertical_Flip_Pepper_Bell_Bacterial_Spot_0667.JPG /content/drive/Shareddrives/ECEN 404 Machine Learning/Color/Final Model Bell Pepper/Train \n",
            "cp ./Bacterial Spot/Rotate_After_Flip_Vertical_Flip_Pepper_Bell_Bacterial_Spot_0712.JPG /content/drive/Shareddrives/ECEN 404 Machine Learning/Color/Final Model Bell Pepper/Train \n",
            "cp ./Bacterial Spot/Rotate_After_Flip_Vertical_Flip_Pepper_Bell_Bacterial_Spot_0707.JPG /content/drive/Shareddrives/ECEN 404 Machine Learning/Color/Final Model Bell Pepper/Train \n",
            "cp ./Bacterial Spot/Rotate_After_Flip_Vertical_Flip_Pepper_Bell_Bacterial_Spot_0659.JPG /content/drive/Shareddrives/ECEN 404 Machine Learning/Color/Final Model Bell Pepper/Train \n",
            "cp ./Bacterial Spot/Rotate_After_Flip_Vertical_Flip_Pepper_Bell_Bacterial_Spot_0639.JPG /content/drive/Shareddrives/ECEN 404 Machine Learning/Color/Final Model Bell Pepper/Train \n",
            "cp ./Bacterial Spot/Rotate_After_Flip_Vertical_Flip_Pepper_Bell_Bacterial_Spot_0688.JPG /content/drive/Shareddrives/ECEN 404 Machine Learning/Color/Final Model Bell Pepper/Train \n",
            "cp ./Bacterial Spot/Rotate_After_Flip_Vertical_Flip_Pepper_Bell_Bacterial_Spot_0646.JPG /content/drive/Shareddrives/ECEN 404 Machine Learning/Color/Final Model Bell Pepper/Train \n",
            "cp ./Bacterial Spot/Rotate_After_Flip_Vertical_Flip_Pepper_Bell_Bacterial_Spot_0561.JPG /content/drive/Shareddrives/ECEN 404 Machine Learning/Color/Final Model Bell Pepper/Train \n",
            "cp ./Bacterial Spot/Rotate_After_Flip_Vertical_Flip_Pepper_Bell_Bacterial_Spot_0513.JPG /content/drive/Shareddrives/ECEN 404 Machine Learning/Color/Final Model Bell Pepper/Train \n",
            "cp ./Bacterial Spot/Rotate_After_Flip_Vertical_Flip_Pepper_Bell_Bacterial_Spot_0573.JPG /content/drive/Shareddrives/ECEN 404 Machine Learning/Color/Final Model Bell Pepper/Train \n",
            "cp ./Bacterial Spot/Rotate_After_Flip_Vertical_Flip_Pepper_Bell_Bacterial_Spot_0572.JPG /content/drive/Shareddrives/ECEN 404 Machine Learning/Color/Final Model Bell Pepper/Train \n",
            "cp ./Bacterial Spot/Rotate_After_Flip_Vertical_Flip_Pepper_Bell_Bacterial_Spot_0568.JPG /content/drive/Shareddrives/ECEN 404 Machine Learning/Color/Final Model Bell Pepper/Train \n",
            "cp ./Bacterial Spot/Rotate_After_Flip_Vertical_Flip_Pepper_Bell_Bacterial_Spot_0555.JPG /content/drive/Shareddrives/ECEN 404 Machine Learning/Color/Final Model Bell Pepper/Train \n",
            "cp ./Bacterial Spot/Rotate_After_Flip_Vertical_Flip_Pepper_Bell_Bacterial_Spot_0541.JPG /content/drive/Shareddrives/ECEN 404 Machine Learning/Color/Final Model Bell Pepper/Train \n",
            "cp ./Bacterial Spot/Rotate_After_Flip_Vertical_Flip_Pepper_Bell_Bacterial_Spot_0574.JPG /content/drive/Shareddrives/ECEN 404 Machine Learning/Color/Final Model Bell Pepper/Train \n",
            "cp ./Bacterial Spot/Rotate_After_Flip_Vertical_Flip_Pepper_Bell_Bacterial_Spot_0505.JPG /content/drive/Shareddrives/ECEN 404 Machine Learning/Color/Final Model Bell Pepper/Train \n",
            "cp ./Bacterial Spot/Rotate_After_Flip_Vertical_Flip_Pepper_Bell_Bacterial_Spot_0564.JPG /content/drive/Shareddrives/ECEN 404 Machine Learning/Color/Final Model Bell Pepper/Train \n",
            "cp ./Bacterial Spot/Rotate_After_Flip_Vertical_Flip_Pepper_Bell_Bacterial_Spot_0499.JPG /content/drive/Shareddrives/ECEN 404 Machine Learning/Color/Final Model Bell Pepper/Train \n",
            "cp ./Bacterial Spot/Rotate_After_Flip_Vertical_Flip_Pepper_Bell_Bacterial_Spot_0583.JPG /content/drive/Shareddrives/ECEN 404 Machine Learning/Color/Final Model Bell Pepper/Train \n",
            "cp ./Bacterial Spot/Rotate_After_Flip_Vertical_Flip_Pepper_Bell_Bacterial_Spot_0514.JPG /content/drive/Shareddrives/ECEN 404 Machine Learning/Color/Final Model Bell Pepper/Train \n",
            "cp ./Bacterial Spot/Rotate_After_Flip_Vertical_Flip_Pepper_Bell_Bacterial_Spot_0537.JPG /content/drive/Shareddrives/ECEN 404 Machine Learning/Color/Final Model Bell Pepper/Train \n",
            "cp ./Bacterial Spot/Rotate_After_Flip_Vertical_Flip_Pepper_Bell_Bacterial_Spot_0512.JPG /content/drive/Shareddrives/ECEN 404 Machine Learning/Color/Final Model Bell Pepper/Train \n",
            "cp ./Bacterial Spot/Rotate_After_Flip_Vertical_Flip_Pepper_Bell_Bacterial_Spot_0570.JPG /content/drive/Shareddrives/ECEN 404 Machine Learning/Color/Final Model Bell Pepper/Train \n",
            "cp ./Bacterial Spot/Rotate_After_Flip_Vertical_Flip_Pepper_Bell_Bacterial_Spot_0540.JPG /content/drive/Shareddrives/ECEN 404 Machine Learning/Color/Final Model Bell Pepper/Train \n",
            "cp ./Bacterial Spot/Rotate_After_Flip_Vertical_Flip_Pepper_Bell_Bacterial_Spot_0502.JPG /content/drive/Shareddrives/ECEN 404 Machine Learning/Color/Final Model Bell Pepper/Train \n",
            "cp ./Bacterial Spot/Rotate_After_Flip_Vertical_Flip_Pepper_Bell_Bacterial_Spot_0549.JPG /content/drive/Shareddrives/ECEN 404 Machine Learning/Color/Final Model Bell Pepper/Train \n",
            "cp ./Bacterial Spot/Rotate_After_Flip_Vertical_Flip_Pepper_Bell_Bacterial_Spot_0581.JPG /content/drive/Shareddrives/ECEN 404 Machine Learning/Color/Final Model Bell Pepper/Train \n",
            "cp ./Bacterial Spot/Rotate_After_Flip_Vertical_Flip_Pepper_Bell_Bacterial_Spot_0553.JPG /content/drive/Shareddrives/ECEN 404 Machine Learning/Color/Final Model Bell Pepper/Train \n",
            "cp ./Bacterial Spot/Rotate_After_Flip_Vertical_Flip_Pepper_Bell_Bacterial_Spot_0521.JPG /content/drive/Shareddrives/ECEN 404 Machine Learning/Color/Final Model Bell Pepper/Train \n",
            "cp ./Bacterial Spot/Rotate_After_Flip_Vertical_Flip_Pepper_Bell_Bacterial_Spot_0516.JPG /content/drive/Shareddrives/ECEN 404 Machine Learning/Color/Final Model Bell Pepper/Train \n",
            "cp ./Bacterial Spot/Rotate_After_Flip_Vertical_Flip_Pepper_Bell_Bacterial_Spot_0576.JPG /content/drive/Shareddrives/ECEN 404 Machine Learning/Color/Final Model Bell Pepper/Train \n",
            "cp ./Bacterial Spot/Rotate_After_Flip_Vertical_Flip_Pepper_Bell_Bacterial_Spot_0575.JPG /content/drive/Shareddrives/ECEN 404 Machine Learning/Color/Final Model Bell Pepper/Train \n",
            "cp ./Bacterial Spot/Rotate_After_Flip_Vertical_Flip_Pepper_Bell_Bacterial_Spot_0542.JPG /content/drive/Shareddrives/ECEN 404 Machine Learning/Color/Final Model Bell Pepper/Train \n",
            "cp ./Bacterial Spot/Rotate_After_Flip_Vertical_Flip_Pepper_Bell_Bacterial_Spot_0500.JPG /content/drive/Shareddrives/ECEN 404 Machine Learning/Color/Final Model Bell Pepper/Train \n",
            "cp ./Bacterial Spot/Rotate_After_Flip_Vertical_Flip_Pepper_Bell_Bacterial_Spot_0517.JPG /content/drive/Shareddrives/ECEN 404 Machine Learning/Color/Final Model Bell Pepper/Train \n",
            "cp ./Bacterial Spot/Rotate_After_Flip_Vertical_Flip_Pepper_Bell_Bacterial_Spot_0544.JPG /content/drive/Shareddrives/ECEN 404 Machine Learning/Color/Final Model Bell Pepper/Train \n",
            "cp ./Bacterial Spot/Rotate_After_Flip_Vertical_Flip_Pepper_Bell_Bacterial_Spot_0577.JPG /content/drive/Shareddrives/ECEN 404 Machine Learning/Color/Final Model Bell Pepper/Train \n",
            "cp ./Bacterial Spot/Rotate_After_Flip_Vertical_Flip_Pepper_Bell_Bacterial_Spot_0548.JPG /content/drive/Shareddrives/ECEN 404 Machine Learning/Color/Final Model Bell Pepper/Train \n",
            "cp ./Bacterial Spot/Rotate_After_Flip_Vertical_Flip_Pepper_Bell_Bacterial_Spot_0511.JPG /content/drive/Shareddrives/ECEN 404 Machine Learning/Color/Final Model Bell Pepper/Train \n",
            "cp ./Bacterial Spot/Rotate_After_Flip_Vertical_Flip_Pepper_Bell_Bacterial_Spot_0506.JPG /content/drive/Shareddrives/ECEN 404 Machine Learning/Color/Final Model Bell Pepper/Train \n",
            "cp ./Bacterial Spot/Rotate_After_Flip_Vertical_Flip_Pepper_Bell_Bacterial_Spot_0552.JPG /content/drive/Shareddrives/ECEN 404 Machine Learning/Color/Final Model Bell Pepper/Train \n",
            "cp ./Bacterial Spot/Rotate_After_Flip_Vertical_Flip_Pepper_Bell_Bacterial_Spot_0562.JPG /content/drive/Shareddrives/ECEN 404 Machine Learning/Color/Final Model Bell Pepper/Train \n",
            "cp ./Bacterial Spot/Rotate_After_Flip_Vertical_Flip_Pepper_Bell_Bacterial_Spot_0534.JPG /content/drive/Shareddrives/ECEN 404 Machine Learning/Color/Final Model Bell Pepper/Train \n",
            "cp ./Bacterial Spot/Rotate_After_Flip_Vertical_Flip_Pepper_Bell_Bacterial_Spot_0533.JPG /content/drive/Shareddrives/ECEN 404 Machine Learning/Color/Final Model Bell Pepper/Train \n",
            "cp ./Bacterial Spot/Rotate_After_Flip_Vertical_Flip_Pepper_Bell_Bacterial_Spot_0519.JPG /content/drive/Shareddrives/ECEN 404 Machine Learning/Color/Final Model Bell Pepper/Train \n",
            "cp ./Bacterial Spot/Rotate_After_Flip_Vertical_Flip_Pepper_Bell_Bacterial_Spot_0531.JPG /content/drive/Shareddrives/ECEN 404 Machine Learning/Color/Final Model Bell Pepper/Train \n",
            "cp ./Bacterial Spot/Rotate_After_Flip_Vertical_Flip_Pepper_Bell_Bacterial_Spot_0566.JPG /content/drive/Shareddrives/ECEN 404 Machine Learning/Color/Final Model Bell Pepper/Train \n",
            "cp ./Bacterial Spot/Rotate_After_Flip_Vertical_Flip_Pepper_Bell_Bacterial_Spot_0529.JPG /content/drive/Shareddrives/ECEN 404 Machine Learning/Color/Final Model Bell Pepper/Train \n",
            "cp ./Bacterial Spot/Rotate_After_Flip_Vertical_Flip_Pepper_Bell_Bacterial_Spot_0503.JPG /content/drive/Shareddrives/ECEN 404 Machine Learning/Color/Final Model Bell Pepper/Train \n",
            "cp ./Bacterial Spot/Rotate_After_Flip_Vertical_Flip_Pepper_Bell_Bacterial_Spot_0536.JPG /content/drive/Shareddrives/ECEN 404 Machine Learning/Color/Final Model Bell Pepper/Train \n",
            "cp ./Bacterial Spot/Rotate_After_Flip_Vertical_Flip_Pepper_Bell_Bacterial_Spot_0547.JPG /content/drive/Shareddrives/ECEN 404 Machine Learning/Color/Final Model Bell Pepper/Train \n",
            "cp ./Bacterial Spot/Rotate_After_Flip_Vertical_Flip_Pepper_Bell_Bacterial_Spot_0567.JPG /content/drive/Shareddrives/ECEN 404 Machine Learning/Color/Final Model Bell Pepper/Train \n",
            "cp ./Bacterial Spot/Rotate_After_Flip_Vertical_Flip_Pepper_Bell_Bacterial_Spot_0557.JPG /content/drive/Shareddrives/ECEN 404 Machine Learning/Color/Final Model Bell Pepper/Train \n",
            "cp ./Bacterial Spot/Rotate_After_Flip_Vertical_Flip_Pepper_Bell_Bacterial_Spot_0532.JPG /content/drive/Shareddrives/ECEN 404 Machine Learning/Color/Final Model Bell Pepper/Train \n",
            "cp ./Bacterial Spot/Rotate_After_Flip_Vertical_Flip_Pepper_Bell_Bacterial_Spot_0565.JPG /content/drive/Shareddrives/ECEN 404 Machine Learning/Color/Final Model Bell Pepper/Train \n",
            "cp ./Bacterial Spot/Rotate_After_Flip_Vertical_Flip_Pepper_Bell_Bacterial_Spot_0520.JPG /content/drive/Shareddrives/ECEN 404 Machine Learning/Color/Final Model Bell Pepper/Train \n",
            "cp ./Bacterial Spot/Rotate_After_Flip_Vertical_Flip_Pepper_Bell_Bacterial_Spot_0530.JPG /content/drive/Shareddrives/ECEN 404 Machine Learning/Color/Final Model Bell Pepper/Train \n",
            "cp ./Bacterial Spot/Rotate_After_Flip_Vertical_Flip_Pepper_Bell_Bacterial_Spot_0569.JPG /content/drive/Shareddrives/ECEN 404 Machine Learning/Color/Final Model Bell Pepper/Train \n",
            "cp ./Bacterial Spot/Rotate_After_Flip_Vertical_Flip_Pepper_Bell_Bacterial_Spot_0504.JPG /content/drive/Shareddrives/ECEN 404 Machine Learning/Color/Final Model Bell Pepper/Train \n",
            "cp ./Bacterial Spot/Rotate_After_Flip_Vertical_Flip_Pepper_Bell_Bacterial_Spot_0498.JPG /content/drive/Shareddrives/ECEN 404 Machine Learning/Color/Final Model Bell Pepper/Train \n",
            "cp ./Bacterial Spot/Rotate_After_Flip_Vertical_Flip_Pepper_Bell_Bacterial_Spot_0550.JPG /content/drive/Shareddrives/ECEN 404 Machine Learning/Color/Final Model Bell Pepper/Train \n",
            "cp ./Bacterial Spot/Rotate_After_Flip_Vertical_Flip_Pepper_Bell_Bacterial_Spot_0556.JPG /content/drive/Shareddrives/ECEN 404 Machine Learning/Color/Final Model Bell Pepper/Train \n",
            "cp ./Bacterial Spot/Rotate_After_Flip_Vertical_Flip_Pepper_Bell_Bacterial_Spot_0507.JPG /content/drive/Shareddrives/ECEN 404 Machine Learning/Color/Final Model Bell Pepper/Train \n",
            "cp ./Bacterial Spot/Rotate_After_Flip_Vertical_Flip_Pepper_Bell_Bacterial_Spot_0526.JPG /content/drive/Shareddrives/ECEN 404 Machine Learning/Color/Final Model Bell Pepper/Train \n",
            "cp ./Bacterial Spot/Rotate_After_Flip_Vertical_Flip_Pepper_Bell_Bacterial_Spot_0515.JPG /content/drive/Shareddrives/ECEN 404 Machine Learning/Color/Final Model Bell Pepper/Train \n",
            "cp ./Bacterial Spot/Rotate_After_Flip_Vertical_Flip_Pepper_Bell_Bacterial_Spot_0580.JPG /content/drive/Shareddrives/ECEN 404 Machine Learning/Color/Final Model Bell Pepper/Train \n",
            "cp ./Bacterial Spot/Rotate_After_Flip_Vertical_Flip_Pepper_Bell_Bacterial_Spot_0510.JPG /content/drive/Shareddrives/ECEN 404 Machine Learning/Color/Final Model Bell Pepper/Train \n",
            "cp ./Bacterial Spot/Rotate_After_Flip_Vertical_Flip_Pepper_Bell_Bacterial_Spot_0524.JPG /content/drive/Shareddrives/ECEN 404 Machine Learning/Color/Final Model Bell Pepper/Train \n",
            "cp ./Bacterial Spot/Rotate_After_Flip_Vertical_Flip_Pepper_Bell_Bacterial_Spot_0559.JPG /content/drive/Shareddrives/ECEN 404 Machine Learning/Color/Final Model Bell Pepper/Train \n",
            "cp ./Bacterial Spot/Rotate_After_Flip_Vertical_Flip_Pepper_Bell_Bacterial_Spot_0522.JPG /content/drive/Shareddrives/ECEN 404 Machine Learning/Color/Final Model Bell Pepper/Train \n",
            "cp ./Bacterial Spot/Rotate_After_Flip_Vertical_Flip_Pepper_Bell_Bacterial_Spot_0535.JPG /content/drive/Shareddrives/ECEN 404 Machine Learning/Color/Final Model Bell Pepper/Train \n",
            "cp ./Bacterial Spot/Rotate_After_Flip_Vertical_Flip_Pepper_Bell_Bacterial_Spot_0501.JPG /content/drive/Shareddrives/ECEN 404 Machine Learning/Color/Final Model Bell Pepper/Train \n",
            "cp ./Bacterial Spot/Rotate_After_Flip_Vertical_Flip_Pepper_Bell_Bacterial_Spot_0551.JPG /content/drive/Shareddrives/ECEN 404 Machine Learning/Color/Final Model Bell Pepper/Train \n",
            "cp ./Bacterial Spot/Rotate_After_Flip_Vertical_Flip_Pepper_Bell_Bacterial_Spot_0545.JPG /content/drive/Shareddrives/ECEN 404 Machine Learning/Color/Final Model Bell Pepper/Train \n",
            "cp ./Bacterial Spot/Rotate_After_Flip_Vertical_Flip_Pepper_Bell_Bacterial_Spot_0538.JPG /content/drive/Shareddrives/ECEN 404 Machine Learning/Color/Final Model Bell Pepper/Train \n",
            "cp ./Bacterial Spot/Rotate_After_Flip_Vertical_Flip_Pepper_Bell_Bacterial_Spot_0497.JPG /content/drive/Shareddrives/ECEN 404 Machine Learning/Color/Final Model Bell Pepper/Train \n",
            "cp ./Bacterial Spot/Rotate_After_Flip_Vertical_Flip_Pepper_Bell_Bacterial_Spot_0585.JPG /content/drive/Shareddrives/ECEN 404 Machine Learning/Color/Final Model Bell Pepper/Train \n",
            "cp ./Bacterial Spot/Rotate_After_Flip_Vertical_Flip_Pepper_Bell_Bacterial_Spot_0582.JPG /content/drive/Shareddrives/ECEN 404 Machine Learning/Color/Final Model Bell Pepper/Train \n",
            "cp ./Bacterial Spot/Rotate_After_Flip_Vertical_Flip_Pepper_Bell_Bacterial_Spot_0539.JPG /content/drive/Shareddrives/ECEN 404 Machine Learning/Color/Final Model Bell Pepper/Train \n",
            "cp ./Bacterial Spot/Rotate_After_Flip_Vertical_Flip_Pepper_Bell_Bacterial_Spot_0508.JPG /content/drive/Shareddrives/ECEN 404 Machine Learning/Color/Final Model Bell Pepper/Train \n",
            "cp ./Bacterial Spot/Rotate_After_Flip_Vertical_Flip_Pepper_Bell_Bacterial_Spot_0525.JPG /content/drive/Shareddrives/ECEN 404 Machine Learning/Color/Final Model Bell Pepper/Train \n",
            "cp ./Bacterial Spot/Rotate_After_Flip_Vertical_Flip_Pepper_Bell_Bacterial_Spot_0579.JPG /content/drive/Shareddrives/ECEN 404 Machine Learning/Color/Final Model Bell Pepper/Train \n",
            "cp ./Bacterial Spot/Rotate_After_Flip_Vertical_Flip_Pepper_Bell_Bacterial_Spot_0528.JPG /content/drive/Shareddrives/ECEN 404 Machine Learning/Color/Final Model Bell Pepper/Train \n",
            "cp ./Bacterial Spot/Rotate_After_Flip_Vertical_Flip_Pepper_Bell_Bacterial_Spot_0423.JPG /content/drive/Shareddrives/ECEN 404 Machine Learning/Color/Final Model Bell Pepper/Train \n",
            "cp ./Bacterial Spot/Rotate_After_Flip_Vertical_Flip_Pepper_Bell_Bacterial_Spot_0454.JPG /content/drive/Shareddrives/ECEN 404 Machine Learning/Color/Final Model Bell Pepper/Train \n",
            "cp ./Bacterial Spot/Rotate_After_Flip_Vertical_Flip_Pepper_Bell_Bacterial_Spot_0482.JPG /content/drive/Shareddrives/ECEN 404 Machine Learning/Color/Final Model Bell Pepper/Train \n",
            "cp ./Bacterial Spot/Rotate_After_Flip_Vertical_Flip_Pepper_Bell_Bacterial_Spot_0452.JPG /content/drive/Shareddrives/ECEN 404 Machine Learning/Color/Final Model Bell Pepper/Train \n",
            "cp ./Bacterial Spot/Rotate_After_Flip_Vertical_Flip_Pepper_Bell_Bacterial_Spot_0393.JPG /content/drive/Shareddrives/ECEN 404 Machine Learning/Color/Final Model Bell Pepper/Train \n",
            "cp ./Bacterial Spot/Rotate_After_Flip_Vertical_Flip_Pepper_Bell_Bacterial_Spot_0488.JPG /content/drive/Shareddrives/ECEN 404 Machine Learning/Color/Final Model Bell Pepper/Train \n",
            "cp ./Bacterial Spot/Rotate_After_Flip_Vertical_Flip_Pepper_Bell_Bacterial_Spot_0402.JPG /content/drive/Shareddrives/ECEN 404 Machine Learning/Color/Final Model Bell Pepper/Train \n",
            "cp ./Bacterial Spot/Rotate_After_Flip_Vertical_Flip_Pepper_Bell_Bacterial_Spot_0456.JPG /content/drive/Shareddrives/ECEN 404 Machine Learning/Color/Final Model Bell Pepper/Train \n",
            "cp ./Bacterial Spot/Rotate_After_Flip_Vertical_Flip_Pepper_Bell_Bacterial_Spot_0455.JPG /content/drive/Shareddrives/ECEN 404 Machine Learning/Color/Final Model Bell Pepper/Train \n",
            "cp ./Bacterial Spot/Rotate_After_Flip_Vertical_Flip_Pepper_Bell_Bacterial_Spot_0398.JPG /content/drive/Shareddrives/ECEN 404 Machine Learning/Color/Final Model Bell Pepper/Train \n",
            "cp ./Bacterial Spot/Rotate_After_Flip_Vertical_Flip_Pepper_Bell_Bacterial_Spot_0471.JPG /content/drive/Shareddrives/ECEN 404 Machine Learning/Color/Final Model Bell Pepper/Train \n",
            "cp ./Bacterial Spot/Rotate_After_Flip_Vertical_Flip_Pepper_Bell_Bacterial_Spot_0395.JPG /content/drive/Shareddrives/ECEN 404 Machine Learning/Color/Final Model Bell Pepper/Train \n",
            "cp ./Bacterial Spot/Rotate_After_Flip_Vertical_Flip_Pepper_Bell_Bacterial_Spot_0417.JPG /content/drive/Shareddrives/ECEN 404 Machine Learning/Color/Final Model Bell Pepper/Train \n",
            "cp ./Bacterial Spot/Rotate_After_Flip_Vertical_Flip_Pepper_Bell_Bacterial_Spot_0451.JPG /content/drive/Shareddrives/ECEN 404 Machine Learning/Color/Final Model Bell Pepper/Train \n",
            "cp ./Bacterial Spot/Rotate_After_Flip_Vertical_Flip_Pepper_Bell_Bacterial_Spot_0486.JPG /content/drive/Shareddrives/ECEN 404 Machine Learning/Color/Final Model Bell Pepper/Train \n",
            "cp ./Bacterial Spot/Rotate_After_Flip_Vertical_Flip_Pepper_Bell_Bacterial_Spot_0426.JPG /content/drive/Shareddrives/ECEN 404 Machine Learning/Color/Final Model Bell Pepper/Train \n",
            "cp ./Bacterial Spot/Rotate_After_Flip_Vertical_Flip_Pepper_Bell_Bacterial_Spot_0406.JPG /content/drive/Shareddrives/ECEN 404 Machine Learning/Color/Final Model Bell Pepper/Train \n",
            "cp ./Bacterial Spot/Rotate_After_Flip_Vertical_Flip_Pepper_Bell_Bacterial_Spot_0490.JPG /content/drive/Shareddrives/ECEN 404 Machine Learning/Color/Final Model Bell Pepper/Train \n",
            "cp ./Bacterial Spot/Rotate_After_Flip_Vertical_Flip_Pepper_Bell_Bacterial_Spot_0468.JPG /content/drive/Shareddrives/ECEN 404 Machine Learning/Color/Final Model Bell Pepper/Train \n",
            "cp ./Bacterial Spot/Rotate_After_Flip_Vertical_Flip_Pepper_Bell_Bacterial_Spot_0400.JPG /content/drive/Shareddrives/ECEN 404 Machine Learning/Color/Final Model Bell Pepper/Train \n",
            "cp ./Bacterial Spot/Rotate_After_Flip_Vertical_Flip_Pepper_Bell_Bacterial_Spot_0429.JPG /content/drive/Shareddrives/ECEN 404 Machine Learning/Color/Final Model Bell Pepper/Train \n",
            "cp ./Bacterial Spot/Rotate_After_Flip_Vertical_Flip_Pepper_Bell_Bacterial_Spot_0442.JPG /content/drive/Shareddrives/ECEN 404 Machine Learning/Color/Final Model Bell Pepper/Train \n",
            "cp ./Bacterial Spot/Rotate_After_Flip_Vertical_Flip_Pepper_Bell_Bacterial_Spot_0415.JPG /content/drive/Shareddrives/ECEN 404 Machine Learning/Color/Final Model Bell Pepper/Train \n",
            "cp ./Bacterial Spot/Rotate_After_Flip_Vertical_Flip_Pepper_Bell_Bacterial_Spot_0372.JPG /content/drive/Shareddrives/ECEN 404 Machine Learning/Color/Final Model Bell Pepper/Train \n",
            "cp ./Bacterial Spot/Rotate_After_Flip_Vertical_Flip_Pepper_Bell_Bacterial_Spot_0464.JPG /content/drive/Shareddrives/ECEN 404 Machine Learning/Color/Final Model Bell Pepper/Train \n",
            "cp ./Bacterial Spot/Rotate_After_Flip_Vertical_Flip_Pepper_Bell_Bacterial_Spot_0434.JPG /content/drive/Shareddrives/ECEN 404 Machine Learning/Color/Final Model Bell Pepper/Train \n",
            "cp ./Bacterial Spot/Rotate_After_Flip_Vertical_Flip_Pepper_Bell_Bacterial_Spot_0489.JPG /content/drive/Shareddrives/ECEN 404 Machine Learning/Color/Final Model Bell Pepper/Train \n",
            "cp ./Bacterial Spot/Rotate_After_Flip_Vertical_Flip_Pepper_Bell_Bacterial_Spot_0388.JPG /content/drive/Shareddrives/ECEN 404 Machine Learning/Color/Final Model Bell Pepper/Train \n",
            "cp ./Bacterial Spot/Rotate_After_Flip_Vertical_Flip_Pepper_Bell_Bacterial_Spot_0436.JPG /content/drive/Shareddrives/ECEN 404 Machine Learning/Color/Final Model Bell Pepper/Train \n",
            "cp ./Bacterial Spot/Rotate_After_Flip_Vertical_Flip_Pepper_Bell_Bacterial_Spot_0475.JPG /content/drive/Shareddrives/ECEN 404 Machine Learning/Color/Final Model Bell Pepper/Train \n",
            "cp ./Bacterial Spot/Rotate_After_Flip_Vertical_Flip_Pepper_Bell_Bacterial_Spot_0385.JPG /content/drive/Shareddrives/ECEN 404 Machine Learning/Color/Final Model Bell Pepper/Train \n",
            "cp ./Bacterial Spot/Rotate_After_Flip_Vertical_Flip_Pepper_Bell_Bacterial_Spot_0447.JPG /content/drive/Shareddrives/ECEN 404 Machine Learning/Color/Final Model Bell Pepper/Train \n",
            "cp ./Bacterial Spot/Rotate_After_Flip_Vertical_Flip_Pepper_Bell_Bacterial_Spot_0493.JPG /content/drive/Shareddrives/ECEN 404 Machine Learning/Color/Final Model Bell Pepper/Train \n",
            "cp ./Bacterial Spot/Rotate_After_Flip_Vertical_Flip_Pepper_Bell_Bacterial_Spot_0472.JPG /content/drive/Shareddrives/ECEN 404 Machine Learning/Color/Final Model Bell Pepper/Train \n",
            "cp ./Bacterial Spot/Rotate_After_Flip_Vertical_Flip_Pepper_Bell_Bacterial_Spot_0403.JPG /content/drive/Shareddrives/ECEN 404 Machine Learning/Color/Final Model Bell Pepper/Train \n",
            "cp ./Bacterial Spot/Rotate_After_Flip_Vertical_Flip_Pepper_Bell_Bacterial_Spot_0431.JPG /content/drive/Shareddrives/ECEN 404 Machine Learning/Color/Final Model Bell Pepper/Train \n",
            "cp ./Bacterial Spot/Rotate_After_Flip_Vertical_Flip_Pepper_Bell_Bacterial_Spot_0404.JPG /content/drive/Shareddrives/ECEN 404 Machine Learning/Color/Final Model Bell Pepper/Train \n",
            "cp ./Bacterial Spot/Rotate_After_Flip_Vertical_Flip_Pepper_Bell_Bacterial_Spot_0445.JPG /content/drive/Shareddrives/ECEN 404 Machine Learning/Color/Final Model Bell Pepper/Train \n",
            "cp ./Bacterial Spot/Rotate_After_Flip_Vertical_Flip_Pepper_Bell_Bacterial_Spot_0462.JPG /content/drive/Shareddrives/ECEN 404 Machine Learning/Color/Final Model Bell Pepper/Train \n",
            "cp ./Bacterial Spot/Rotate_After_Flip_Vertical_Flip_Pepper_Bell_Bacterial_Spot_0439.JPG /content/drive/Shareddrives/ECEN 404 Machine Learning/Color/Final Model Bell Pepper/Train \n",
            "cp ./Bacterial Spot/Rotate_After_Flip_Vertical_Flip_Pepper_Bell_Bacterial_Spot_0376.JPG /content/drive/Shareddrives/ECEN 404 Machine Learning/Color/Final Model Bell Pepper/Train \n",
            "cp ./Bacterial Spot/Rotate_After_Flip_Vertical_Flip_Pepper_Bell_Bacterial_Spot_0373.JPG /content/drive/Shareddrives/ECEN 404 Machine Learning/Color/Final Model Bell Pepper/Train \n",
            "cp ./Bacterial Spot/Rotate_After_Flip_Vertical_Flip_Pepper_Bell_Bacterial_Spot_0437.JPG /content/drive/Shareddrives/ECEN 404 Machine Learning/Color/Final Model Bell Pepper/Train \n",
            "cp ./Bacterial Spot/Rotate_After_Flip_Vertical_Flip_Pepper_Bell_Bacterial_Spot_0476.JPG /content/drive/Shareddrives/ECEN 404 Machine Learning/Color/Final Model Bell Pepper/Train \n",
            "cp ./Bacterial Spot/Rotate_After_Flip_Vertical_Flip_Pepper_Bell_Bacterial_Spot_0459.JPG /content/drive/Shareddrives/ECEN 404 Machine Learning/Color/Final Model Bell Pepper/Train \n",
            "cp ./Bacterial Spot/Rotate_After_Flip_Vertical_Flip_Pepper_Bell_Bacterial_Spot_0444.JPG /content/drive/Shareddrives/ECEN 404 Machine Learning/Color/Final Model Bell Pepper/Train \n",
            "cp ./Bacterial Spot/Rotate_After_Flip_Vertical_Flip_Pepper_Bell_Bacterial_Spot_0369.JPG /content/drive/Shareddrives/ECEN 404 Machine Learning/Color/Final Model Bell Pepper/Train \n",
            "cp ./Bacterial Spot/Rotate_After_Flip_Vertical_Flip_Pepper_Bell_Bacterial_Spot_0495.JPG /content/drive/Shareddrives/ECEN 404 Machine Learning/Color/Final Model Bell Pepper/Train \n",
            "cp ./Bacterial Spot/Rotate_After_Flip_Vertical_Flip_Pepper_Bell_Bacterial_Spot_0397.JPG /content/drive/Shareddrives/ECEN 404 Machine Learning/Color/Final Model Bell Pepper/Train \n",
            "cp ./Bacterial Spot/Rotate_After_Flip_Vertical_Flip_Pepper_Bell_Bacterial_Spot_0450.JPG /content/drive/Shareddrives/ECEN 404 Machine Learning/Color/Final Model Bell Pepper/Train \n",
            "cp ./Bacterial Spot/Rotate_After_Flip_Vertical_Flip_Pepper_Bell_Bacterial_Spot_0438.JPG /content/drive/Shareddrives/ECEN 404 Machine Learning/Color/Final Model Bell Pepper/Train \n",
            "cp ./Bacterial Spot/Rotate_After_Flip_Vertical_Flip_Pepper_Bell_Bacterial_Spot_0383.JPG /content/drive/Shareddrives/ECEN 404 Machine Learning/Color/Final Model Bell Pepper/Train \n",
            "cp ./Bacterial Spot/Rotate_After_Flip_Vertical_Flip_Pepper_Bell_Bacterial_Spot_0379.JPG /content/drive/Shareddrives/ECEN 404 Machine Learning/Color/Final Model Bell Pepper/Train \n",
            "cp ./Bacterial Spot/Rotate_After_Flip_Vertical_Flip_Pepper_Bell_Bacterial_Spot_0365.JPG /content/drive/Shareddrives/ECEN 404 Machine Learning/Color/Final Model Bell Pepper/Train \n",
            "cp ./Bacterial Spot/Rotate_After_Flip_Vertical_Flip_Pepper_Bell_Bacterial_Spot_0457.JPG /content/drive/Shareddrives/ECEN 404 Machine Learning/Color/Final Model Bell Pepper/Train \n",
            "cp ./Bacterial Spot/Rotate_After_Flip_Vertical_Flip_Pepper_Bell_Bacterial_Spot_0430.JPG /content/drive/Shareddrives/ECEN 404 Machine Learning/Color/Final Model Bell Pepper/Train \n",
            "cp ./Bacterial Spot/Rotate_After_Flip_Vertical_Flip_Pepper_Bell_Bacterial_Spot_0386.JPG /content/drive/Shareddrives/ECEN 404 Machine Learning/Color/Final Model Bell Pepper/Train \n",
            "cp ./Bacterial Spot/Rotate_After_Flip_Vertical_Flip_Pepper_Bell_Bacterial_Spot_0465.JPG /content/drive/Shareddrives/ECEN 404 Machine Learning/Color/Final Model Bell Pepper/Train \n",
            "cp ./Bacterial Spot/Rotate_After_Flip_Vertical_Flip_Pepper_Bell_Bacterial_Spot_0461.JPG /content/drive/Shareddrives/ECEN 404 Machine Learning/Color/Final Model Bell Pepper/Train \n",
            "cp ./Bacterial Spot/Rotate_After_Flip_Vertical_Flip_Pepper_Bell_Bacterial_Spot_0484.JPG /content/drive/Shareddrives/ECEN 404 Machine Learning/Color/Final Model Bell Pepper/Train \n",
            "cp ./Bacterial Spot/Rotate_After_Flip_Vertical_Flip_Pepper_Bell_Bacterial_Spot_0496.JPG /content/drive/Shareddrives/ECEN 404 Machine Learning/Color/Final Model Bell Pepper/Train \n",
            "cp ./Bacterial Spot/Rotate_After_Flip_Vertical_Flip_Pepper_Bell_Bacterial_Spot_0424.JPG /content/drive/Shareddrives/ECEN 404 Machine Learning/Color/Final Model Bell Pepper/Train \n",
            "cp ./Bacterial Spot/Rotate_After_Flip_Vertical_Flip_Pepper_Bell_Bacterial_Spot_0483.JPG /content/drive/Shareddrives/ECEN 404 Machine Learning/Color/Final Model Bell Pepper/Train \n",
            "cp ./Bacterial Spot/Rotate_After_Flip_Vertical_Flip_Pepper_Bell_Bacterial_Spot_0485.JPG /content/drive/Shareddrives/ECEN 404 Machine Learning/Color/Final Model Bell Pepper/Train \n",
            "cp ./Bacterial Spot/Rotate_After_Flip_Vertical_Flip_Pepper_Bell_Bacterial_Spot_0446.JPG /content/drive/Shareddrives/ECEN 404 Machine Learning/Color/Final Model Bell Pepper/Train \n",
            "cp ./Bacterial Spot/Rotate_After_Flip_Vertical_Flip_Pepper_Bell_Bacterial_Spot_0381.JPG /content/drive/Shareddrives/ECEN 404 Machine Learning/Color/Final Model Bell Pepper/Train \n",
            "cp ./Bacterial Spot/Rotate_After_Flip_Vertical_Flip_Pepper_Bell_Bacterial_Spot_0401.JPG /content/drive/Shareddrives/ECEN 404 Machine Learning/Color/Final Model Bell Pepper/Train \n",
            "cp ./Bacterial Spot/Rotate_After_Flip_Vertical_Flip_Pepper_Bell_Bacterial_Spot_0368.JPG /content/drive/Shareddrives/ECEN 404 Machine Learning/Color/Final Model Bell Pepper/Train \n",
            "cp ./Bacterial Spot/Rotate_After_Flip_Vertical_Flip_Pepper_Bell_Bacterial_Spot_0487.JPG /content/drive/Shareddrives/ECEN 404 Machine Learning/Color/Final Model Bell Pepper/Train \n",
            "cp ./Bacterial Spot/Rotate_After_Flip_Vertical_Flip_Pepper_Bell_Bacterial_Spot_0494.JPG /content/drive/Shareddrives/ECEN 404 Machine Learning/Color/Final Model Bell Pepper/Train \n",
            "cp ./Bacterial Spot/Rotate_After_Flip_Vertical_Flip_Pepper_Bell_Bacterial_Spot_0480.JPG /content/drive/Shareddrives/ECEN 404 Machine Learning/Color/Final Model Bell Pepper/Train \n",
            "cp ./Bacterial Spot/Rotate_After_Flip_Vertical_Flip_Pepper_Bell_Bacterial_Spot_0474.JPG /content/drive/Shareddrives/ECEN 404 Machine Learning/Color/Final Model Bell Pepper/Train \n",
            "cp ./Bacterial Spot/Rotate_After_Flip_Vertical_Flip_Pepper_Bell_Bacterial_Spot_0425.JPG /content/drive/Shareddrives/ECEN 404 Machine Learning/Color/Final Model Bell Pepper/Train \n",
            "cp ./Bacterial Spot/Rotate_After_Flip_Vertical_Flip_Pepper_Bell_Bacterial_Spot_0375.JPG /content/drive/Shareddrives/ECEN 404 Machine Learning/Color/Final Model Bell Pepper/Train \n",
            "cp ./Bacterial Spot/Rotate_After_Flip_Vertical_Flip_Pepper_Bell_Bacterial_Spot_0390.JPG /content/drive/Shareddrives/ECEN 404 Machine Learning/Color/Final Model Bell Pepper/Train \n",
            "cp ./Bacterial Spot/Rotate_After_Flip_Vertical_Flip_Pepper_Bell_Bacterial_Spot_0374.JPG /content/drive/Shareddrives/ECEN 404 Machine Learning/Color/Final Model Bell Pepper/Train \n",
            "cp ./Bacterial Spot/Rotate_After_Flip_Vertical_Flip_Pepper_Bell_Bacterial_Spot_0418.JPG /content/drive/Shareddrives/ECEN 404 Machine Learning/Color/Final Model Bell Pepper/Train \n",
            "cp ./Bacterial Spot/Rotate_After_Flip_Vertical_Flip_Pepper_Bell_Bacterial_Spot_0492.JPG /content/drive/Shareddrives/ECEN 404 Machine Learning/Color/Final Model Bell Pepper/Train \n",
            "cp ./Bacterial Spot/Rotate_After_Flip_Vertical_Flip_Pepper_Bell_Bacterial_Spot_0366.JPG /content/drive/Shareddrives/ECEN 404 Machine Learning/Color/Final Model Bell Pepper/Train \n",
            "cp ./Bacterial Spot/Rotate_After_Flip_Vertical_Flip_Pepper_Bell_Bacterial_Spot_0367.JPG /content/drive/Shareddrives/ECEN 404 Machine Learning/Color/Final Model Bell Pepper/Train \n",
            "cp ./Bacterial Spot/Rotate_After_Flip_Vertical_Flip_Pepper_Bell_Bacterial_Spot_0407.JPG /content/drive/Shareddrives/ECEN 404 Machine Learning/Color/Final Model Bell Pepper/Train \n",
            "cp ./Bacterial Spot/Rotate_After_Flip_Vertical_Flip_Pepper_Bell_Bacterial_Spot_0408.JPG /content/drive/Shareddrives/ECEN 404 Machine Learning/Color/Final Model Bell Pepper/Train \n",
            "cp ./Bacterial Spot/Rotate_After_Flip_Vertical_Flip_Pepper_Bell_Bacterial_Spot_0481.JPG /content/drive/Shareddrives/ECEN 404 Machine Learning/Color/Final Model Bell Pepper/Train \n",
            "cp ./Bacterial Spot/Rotate_After_Flip_Vertical_Flip_Pepper_Bell_Bacterial_Spot_0432.JPG /content/drive/Shareddrives/ECEN 404 Machine Learning/Color/Final Model Bell Pepper/Train \n",
            "cp ./Bacterial Spot/Rotate_After_Flip_Vertical_Flip_Pepper_Bell_Bacterial_Spot_0384.JPG /content/drive/Shareddrives/ECEN 404 Machine Learning/Color/Final Model Bell Pepper/Train \n",
            "cp ./Bacterial Spot/Rotate_After_Flip_Vertical_Flip_Pepper_Bell_Bacterial_Spot_0396.JPG /content/drive/Shareddrives/ECEN 404 Machine Learning/Color/Final Model Bell Pepper/Train \n",
            "cp ./Bacterial Spot/Rotate_After_Flip_Vertical_Flip_Pepper_Bell_Bacterial_Spot_0389.JPG /content/drive/Shareddrives/ECEN 404 Machine Learning/Color/Final Model Bell Pepper/Train \n",
            "cp ./Bacterial Spot/Rotate_After_Flip_Vertical_Flip_Pepper_Bell_Bacterial_Spot_0409.JPG /content/drive/Shareddrives/ECEN 404 Machine Learning/Color/Final Model Bell Pepper/Train \n",
            "cp ./Bacterial Spot/Rotate_After_Flip_Vertical_Flip_Pepper_Bell_Bacterial_Spot_0377.JPG /content/drive/Shareddrives/ECEN 404 Machine Learning/Color/Final Model Bell Pepper/Train \n",
            "cp ./Bacterial Spot/Rotate_After_Flip_Vertical_Flip_Pepper_Bell_Bacterial_Spot_0421.JPG /content/drive/Shareddrives/ECEN 404 Machine Learning/Color/Final Model Bell Pepper/Train \n",
            "cp ./Bacterial Spot/Rotate_After_Flip_Vertical_Flip_Pepper_Bell_Bacterial_Spot_0463.JPG /content/drive/Shareddrives/ECEN 404 Machine Learning/Color/Final Model Bell Pepper/Train \n",
            "cp ./Bacterial Spot/Rotate_After_Flip_Vertical_Flip_Pepper_Bell_Bacterial_Spot_0453.JPG /content/drive/Shareddrives/ECEN 404 Machine Learning/Color/Final Model Bell Pepper/Train \n",
            "cp ./Bacterial Spot/Rotate_After_Flip_Vertical_Flip_Pepper_Bell_Bacterial_Spot_0416.JPG /content/drive/Shareddrives/ECEN 404 Machine Learning/Color/Final Model Bell Pepper/Train \n",
            "cp ./Bacterial Spot/Rotate_After_Flip_Vertical_Flip_Pepper_Bell_Bacterial_Spot_0370.JPG /content/drive/Shareddrives/ECEN 404 Machine Learning/Color/Final Model Bell Pepper/Train \n",
            "cp ./Bacterial Spot/Rotate_After_Flip_Vertical_Flip_Pepper_Bell_Bacterial_Spot_0380.JPG /content/drive/Shareddrives/ECEN 404 Machine Learning/Color/Final Model Bell Pepper/Train \n",
            "cp ./Bacterial Spot/Rotate_After_Flip_Vertical_Flip_Pepper_Bell_Bacterial_Spot_0491.JPG /content/drive/Shareddrives/ECEN 404 Machine Learning/Color/Final Model Bell Pepper/Train \n",
            "cp ./Bacterial Spot/Rotate_After_Flip_Vertical_Flip_Pepper_Bell_Bacterial_Spot_0479.JPG /content/drive/Shareddrives/ECEN 404 Machine Learning/Color/Final Model Bell Pepper/Train \n",
            "cp ./Bacterial Spot/Rotate_After_Flip_Vertical_Flip_Pepper_Bell_Bacterial_Spot_0364.JPG /content/drive/Shareddrives/ECEN 404 Machine Learning/Color/Final Model Bell Pepper/Train \n",
            "cp ./Bacterial Spot/Rotate_After_Flip_Vertical_Flip_Pepper_Bell_Bacterial_Spot_0427.JPG /content/drive/Shareddrives/ECEN 404 Machine Learning/Color/Final Model Bell Pepper/Train \n",
            "cp ./Bacterial Spot/Rotate_After_Flip_Vertical_Flip_Pepper_Bell_Bacterial_Spot_0378.JPG /content/drive/Shareddrives/ECEN 404 Machine Learning/Color/Final Model Bell Pepper/Train \n",
            "cp ./Bacterial Spot/Rotate_After_Flip_Vertical_Flip_Pepper_Bell_Bacterial_Spot_0440.JPG /content/drive/Shareddrives/ECEN 404 Machine Learning/Color/Final Model Bell Pepper/Train \n",
            "cp ./Bacterial Spot/Rotate_After_Flip_Vertical_Flip_Pepper_Bell_Bacterial_Spot_0412.JPG /content/drive/Shareddrives/ECEN 404 Machine Learning/Color/Final Model Bell Pepper/Train \n",
            "cp ./Bacterial Spot/Rotate_After_Flip_Vertical_Flip_Pepper_Bell_Bacterial_Spot_0391.JPG /content/drive/Shareddrives/ECEN 404 Machine Learning/Color/Final Model Bell Pepper/Train \n",
            "cp ./Bacterial Spot/Rotate_After_Flip_Vertical_Flip_Pepper_Bell_Bacterial_Spot_0382.JPG /content/drive/Shareddrives/ECEN 404 Machine Learning/Color/Final Model Bell Pepper/Train \n",
            "cp ./Bacterial Spot/Rotate_After_Flip_Vertical_Flip_Pepper_Bell_Bacterial_Spot_0392.JPG /content/drive/Shareddrives/ECEN 404 Machine Learning/Color/Final Model Bell Pepper/Train \n",
            "cp ./Bacterial Spot/Rotate_After_Flip_Vertical_Flip_Pepper_Bell_Bacterial_Spot_0441.JPG /content/drive/Shareddrives/ECEN 404 Machine Learning/Color/Final Model Bell Pepper/Train \n",
            "cp ./Bacterial Spot/Rotate_After_Flip_Vertical_Flip_Pepper_Bell_Bacterial_Spot_0405.JPG /content/drive/Shareddrives/ECEN 404 Machine Learning/Color/Final Model Bell Pepper/Train \n",
            "cp ./Bacterial Spot/Rotate_After_Flip_Vertical_Flip_Pepper_Bell_Bacterial_Spot_0274.JPG /content/drive/Shareddrives/ECEN 404 Machine Learning/Color/Final Model Bell Pepper/Train \n",
            "cp ./Bacterial Spot/Rotate_After_Flip_Vertical_Flip_Pepper_Bell_Bacterial_Spot_0322.JPG /content/drive/Shareddrives/ECEN 404 Machine Learning/Color/Final Model Bell Pepper/Train \n",
            "cp ./Bacterial Spot/Rotate_After_Flip_Vertical_Flip_Pepper_Bell_Bacterial_Spot_0308.JPG /content/drive/Shareddrives/ECEN 404 Machine Learning/Color/Final Model Bell Pepper/Train \n",
            "cp ./Bacterial Spot/Rotate_After_Flip_Vertical_Flip_Pepper_Bell_Bacterial_Spot_0262.JPG /content/drive/Shareddrives/ECEN 404 Machine Learning/Color/Final Model Bell Pepper/Train \n",
            "cp ./Bacterial Spot/Rotate_After_Flip_Vertical_Flip_Pepper_Bell_Bacterial_Spot_0243.JPG /content/drive/Shareddrives/ECEN 404 Machine Learning/Color/Final Model Bell Pepper/Train \n",
            "cp ./Bacterial Spot/Rotate_After_Flip_Vertical_Flip_Pepper_Bell_Bacterial_Spot_0339.JPG /content/drive/Shareddrives/ECEN 404 Machine Learning/Color/Final Model Bell Pepper/Train \n",
            "cp ./Bacterial Spot/Rotate_After_Flip_Vertical_Flip_Pepper_Bell_Bacterial_Spot_0266.JPG /content/drive/Shareddrives/ECEN 404 Machine Learning/Color/Final Model Bell Pepper/Train \n",
            "cp ./Bacterial Spot/Rotate_After_Flip_Vertical_Flip_Pepper_Bell_Bacterial_Spot_0337.JPG /content/drive/Shareddrives/ECEN 404 Machine Learning/Color/Final Model Bell Pepper/Train \n",
            "cp ./Bacterial Spot/Rotate_After_Flip_Vertical_Flip_Pepper_Bell_Bacterial_Spot_0338.JPG /content/drive/Shareddrives/ECEN 404 Machine Learning/Color/Final Model Bell Pepper/Train \n",
            "cp ./Bacterial Spot/Rotate_After_Flip_Vertical_Flip_Pepper_Bell_Bacterial_Spot_0284.JPG /content/drive/Shareddrives/ECEN 404 Machine Learning/Color/Final Model Bell Pepper/Train \n",
            "cp ./Bacterial Spot/Rotate_After_Flip_Vertical_Flip_Pepper_Bell_Bacterial_Spot_0249.JPG /content/drive/Shareddrives/ECEN 404 Machine Learning/Color/Final Model Bell Pepper/Train \n",
            "cp ./Bacterial Spot/Rotate_After_Flip_Vertical_Flip_Pepper_Bell_Bacterial_Spot_0354.JPG /content/drive/Shareddrives/ECEN 404 Machine Learning/Color/Final Model Bell Pepper/Train \n",
            "cp ./Bacterial Spot/Rotate_After_Flip_Vertical_Flip_Pepper_Bell_Bacterial_Spot_0259.JPG /content/drive/Shareddrives/ECEN 404 Machine Learning/Color/Final Model Bell Pepper/Train \n",
            "cp ./Bacterial Spot/Rotate_After_Flip_Vertical_Flip_Pepper_Bell_Bacterial_Spot_0305.JPG /content/drive/Shareddrives/ECEN 404 Machine Learning/Color/Final Model Bell Pepper/Train \n",
            "cp ./Bacterial Spot/Rotate_After_Flip_Vertical_Flip_Pepper_Bell_Bacterial_Spot_0335.JPG /content/drive/Shareddrives/ECEN 404 Machine Learning/Color/Final Model Bell Pepper/Train \n",
            "cp ./Bacterial Spot/Rotate_After_Flip_Vertical_Flip_Pepper_Bell_Bacterial_Spot_0281.JPG /content/drive/Shareddrives/ECEN 404 Machine Learning/Color/Final Model Bell Pepper/Train \n",
            "cp ./Bacterial Spot/Rotate_After_Flip_Vertical_Flip_Pepper_Bell_Bacterial_Spot_0359.JPG /content/drive/Shareddrives/ECEN 404 Machine Learning/Color/Final Model Bell Pepper/Train \n",
            "cp ./Bacterial Spot/Rotate_After_Flip_Vertical_Flip_Pepper_Bell_Bacterial_Spot_0329.JPG /content/drive/Shareddrives/ECEN 404 Machine Learning/Color/Final Model Bell Pepper/Train \n",
            "cp ./Bacterial Spot/Rotate_After_Flip_Vertical_Flip_Pepper_Bell_Bacterial_Spot_0293.JPG /content/drive/Shareddrives/ECEN 404 Machine Learning/Color/Final Model Bell Pepper/Train \n",
            "cp ./Bacterial Spot/Rotate_After_Flip_Vertical_Flip_Pepper_Bell_Bacterial_Spot_0340.JPG /content/drive/Shareddrives/ECEN 404 Machine Learning/Color/Final Model Bell Pepper/Train \n",
            "cp ./Bacterial Spot/Rotate_After_Flip_Vertical_Flip_Pepper_Bell_Bacterial_Spot_0286.JPG /content/drive/Shareddrives/ECEN 404 Machine Learning/Color/Final Model Bell Pepper/Train \n",
            "cp ./Bacterial Spot/Rotate_After_Flip_Vertical_Flip_Pepper_Bell_Bacterial_Spot_0353.JPG /content/drive/Shareddrives/ECEN 404 Machine Learning/Color/Final Model Bell Pepper/Train \n",
            "cp ./Bacterial Spot/Rotate_After_Flip_Vertical_Flip_Pepper_Bell_Bacterial_Spot_0245.JPG /content/drive/Shareddrives/ECEN 404 Machine Learning/Color/Final Model Bell Pepper/Train \n",
            "cp ./Bacterial Spot/Rotate_After_Flip_Vertical_Flip_Pepper_Bell_Bacterial_Spot_0341.JPG /content/drive/Shareddrives/ECEN 404 Machine Learning/Color/Final Model Bell Pepper/Train \n",
            "cp ./Bacterial Spot/Rotate_After_Flip_Vertical_Flip_Pepper_Bell_Bacterial_Spot_0316.JPG /content/drive/Shareddrives/ECEN 404 Machine Learning/Color/Final Model Bell Pepper/Train \n",
            "cp ./Bacterial Spot/Rotate_After_Flip_Vertical_Flip_Pepper_Bell_Bacterial_Spot_0264.JPG /content/drive/Shareddrives/ECEN 404 Machine Learning/Color/Final Model Bell Pepper/Train \n",
            "cp ./Bacterial Spot/Rotate_After_Flip_Vertical_Flip_Pepper_Bell_Bacterial_Spot_0352.JPG /content/drive/Shareddrives/ECEN 404 Machine Learning/Color/Final Model Bell Pepper/Train \n",
            "cp ./Bacterial Spot/Rotate_After_Flip_Vertical_Flip_Pepper_Bell_Bacterial_Spot_0294.JPG /content/drive/Shareddrives/ECEN 404 Machine Learning/Color/Final Model Bell Pepper/Train \n",
            "cp ./Bacterial Spot/Rotate_After_Flip_Vertical_Flip_Pepper_Bell_Bacterial_Spot_0310.JPG /content/drive/Shareddrives/ECEN 404 Machine Learning/Color/Final Model Bell Pepper/Train \n",
            "cp ./Bacterial Spot/Rotate_After_Flip_Vertical_Flip_Pepper_Bell_Bacterial_Spot_0270.JPG /content/drive/Shareddrives/ECEN 404 Machine Learning/Color/Final Model Bell Pepper/Train \n",
            "cp ./Bacterial Spot/Rotate_After_Flip_Vertical_Flip_Pepper_Bell_Bacterial_Spot_0361.JPG /content/drive/Shareddrives/ECEN 404 Machine Learning/Color/Final Model Bell Pepper/Train \n",
            "cp ./Bacterial Spot/Rotate_After_Flip_Vertical_Flip_Pepper_Bell_Bacterial_Spot_0348.JPG /content/drive/Shareddrives/ECEN 404 Machine Learning/Color/Final Model Bell Pepper/Train \n",
            "cp ./Bacterial Spot/Rotate_After_Flip_Vertical_Flip_Pepper_Bell_Bacterial_Spot_0277.JPG /content/drive/Shareddrives/ECEN 404 Machine Learning/Color/Final Model Bell Pepper/Train \n",
            "cp ./Bacterial Spot/Rotate_After_Flip_Vertical_Flip_Pepper_Bell_Bacterial_Spot_0289.JPG /content/drive/Shareddrives/ECEN 404 Machine Learning/Color/Final Model Bell Pepper/Train \n",
            "cp ./Bacterial Spot/Rotate_After_Flip_Vertical_Flip_Pepper_Bell_Bacterial_Spot_0349.JPG /content/drive/Shareddrives/ECEN 404 Machine Learning/Color/Final Model Bell Pepper/Train \n",
            "cp ./Bacterial Spot/Rotate_After_Flip_Vertical_Flip_Pepper_Bell_Bacterial_Spot_0254.JPG /content/drive/Shareddrives/ECEN 404 Machine Learning/Color/Final Model Bell Pepper/Train \n",
            "cp ./Bacterial Spot/Rotate_After_Flip_Vertical_Flip_Pepper_Bell_Bacterial_Spot_0292.JPG /content/drive/Shareddrives/ECEN 404 Machine Learning/Color/Final Model Bell Pepper/Train \n",
            "cp ./Bacterial Spot/Rotate_After_Flip_Vertical_Flip_Pepper_Bell_Bacterial_Spot_0307.JPG /content/drive/Shareddrives/ECEN 404 Machine Learning/Color/Final Model Bell Pepper/Train \n",
            "cp ./Bacterial Spot/Rotate_After_Flip_Vertical_Flip_Pepper_Bell_Bacterial_Spot_0347.JPG /content/drive/Shareddrives/ECEN 404 Machine Learning/Color/Final Model Bell Pepper/Train \n",
            "cp ./Bacterial Spot/Rotate_After_Flip_Vertical_Flip_Pepper_Bell_Bacterial_Spot_0331.JPG /content/drive/Shareddrives/ECEN 404 Machine Learning/Color/Final Model Bell Pepper/Train \n",
            "cp ./Bacterial Spot/Rotate_After_Flip_Vertical_Flip_Pepper_Bell_Bacterial_Spot_0342.JPG /content/drive/Shareddrives/ECEN 404 Machine Learning/Color/Final Model Bell Pepper/Train \n",
            "cp ./Bacterial Spot/Rotate_After_Flip_Vertical_Flip_Pepper_Bell_Bacterial_Spot_0271.JPG /content/drive/Shareddrives/ECEN 404 Machine Learning/Color/Final Model Bell Pepper/Train \n",
            "cp ./Bacterial Spot/Rotate_After_Flip_Vertical_Flip_Pepper_Bell_Bacterial_Spot_0295.JPG /content/drive/Shareddrives/ECEN 404 Machine Learning/Color/Final Model Bell Pepper/Train \n",
            "cp ./Bacterial Spot/Rotate_After_Flip_Vertical_Flip_Pepper_Bell_Bacterial_Spot_0311.JPG /content/drive/Shareddrives/ECEN 404 Machine Learning/Color/Final Model Bell Pepper/Train \n",
            "cp ./Bacterial Spot/Rotate_After_Flip_Vertical_Flip_Pepper_Bell_Bacterial_Spot_0328.JPG /content/drive/Shareddrives/ECEN 404 Machine Learning/Color/Final Model Bell Pepper/Train \n",
            "cp ./Bacterial Spot/Rotate_After_Flip_Vertical_Flip_Pepper_Bell_Bacterial_Spot_0306.JPG /content/drive/Shareddrives/ECEN 404 Machine Learning/Color/Final Model Bell Pepper/Train \n",
            "cp ./Bacterial Spot/Rotate_After_Flip_Vertical_Flip_Pepper_Bell_Bacterial_Spot_0299.JPG /content/drive/Shareddrives/ECEN 404 Machine Learning/Color/Final Model Bell Pepper/Train \n",
            "cp ./Bacterial Spot/Rotate_After_Flip_Vertical_Flip_Pepper_Bell_Bacterial_Spot_0325.JPG /content/drive/Shareddrives/ECEN 404 Machine Learning/Color/Final Model Bell Pepper/Train \n",
            "cp ./Bacterial Spot/Rotate_After_Flip_Vertical_Flip_Pepper_Bell_Bacterial_Spot_0287.JPG /content/drive/Shareddrives/ECEN 404 Machine Learning/Color/Final Model Bell Pepper/Train \n",
            "cp ./Bacterial Spot/Rotate_After_Flip_Vertical_Flip_Pepper_Bell_Bacterial_Spot_0333.JPG /content/drive/Shareddrives/ECEN 404 Machine Learning/Color/Final Model Bell Pepper/Train \n",
            "cp ./Bacterial Spot/Rotate_After_Flip_Vertical_Flip_Pepper_Bell_Bacterial_Spot_0298.JPG /content/drive/Shareddrives/ECEN 404 Machine Learning/Color/Final Model Bell Pepper/Train \n",
            "cp ./Bacterial Spot/Rotate_After_Flip_Vertical_Flip_Pepper_Bell_Bacterial_Spot_0314.JPG /content/drive/Shareddrives/ECEN 404 Machine Learning/Color/Final Model Bell Pepper/Train \n",
            "cp ./Bacterial Spot/Rotate_After_Flip_Vertical_Flip_Pepper_Bell_Bacterial_Spot_0268.JPG /content/drive/Shareddrives/ECEN 404 Machine Learning/Color/Final Model Bell Pepper/Train \n",
            "cp ./Bacterial Spot/Rotate_After_Flip_Vertical_Flip_Pepper_Bell_Bacterial_Spot_0309.JPG /content/drive/Shareddrives/ECEN 404 Machine Learning/Color/Final Model Bell Pepper/Train \n",
            "cp ./Bacterial Spot/Rotate_After_Flip_Vertical_Flip_Pepper_Bell_Bacterial_Spot_0356.JPG /content/drive/Shareddrives/ECEN 404 Machine Learning/Color/Final Model Bell Pepper/Train \n",
            "cp ./Bacterial Spot/Rotate_After_Flip_Vertical_Flip_Pepper_Bell_Bacterial_Spot_0330.JPG /content/drive/Shareddrives/ECEN 404 Machine Learning/Color/Final Model Bell Pepper/Train \n",
            "cp ./Bacterial Spot/Rotate_After_Flip_Vertical_Flip_Pepper_Bell_Bacterial_Spot_0363.JPG /content/drive/Shareddrives/ECEN 404 Machine Learning/Color/Final Model Bell Pepper/Train \n",
            "cp ./Bacterial Spot/Rotate_After_Flip_Vertical_Flip_Pepper_Bell_Bacterial_Spot_0323.JPG /content/drive/Shareddrives/ECEN 404 Machine Learning/Color/Final Model Bell Pepper/Train \n",
            "cp ./Bacterial Spot/Rotate_After_Flip_Vertical_Flip_Pepper_Bell_Bacterial_Spot_0317.JPG /content/drive/Shareddrives/ECEN 404 Machine Learning/Color/Final Model Bell Pepper/Train \n",
            "cp ./Bacterial Spot/Rotate_After_Flip_Vertical_Flip_Pepper_Bell_Bacterial_Spot_0304.JPG /content/drive/Shareddrives/ECEN 404 Machine Learning/Color/Final Model Bell Pepper/Train \n",
            "cp ./Bacterial Spot/Rotate_After_Flip_Vertical_Flip_Pepper_Bell_Bacterial_Spot_0296.JPG /content/drive/Shareddrives/ECEN 404 Machine Learning/Color/Final Model Bell Pepper/Train \n",
            "cp ./Bacterial Spot/Rotate_After_Flip_Vertical_Flip_Pepper_Bell_Bacterial_Spot_0267.JPG /content/drive/Shareddrives/ECEN 404 Machine Learning/Color/Final Model Bell Pepper/Train \n",
            "cp ./Bacterial Spot/Rotate_After_Flip_Vertical_Flip_Pepper_Bell_Bacterial_Spot_0357.JPG /content/drive/Shareddrives/ECEN 404 Machine Learning/Color/Final Model Bell Pepper/Train \n",
            "cp ./Bacterial Spot/Rotate_After_Flip_Vertical_Flip_Pepper_Bell_Bacterial_Spot_0302.JPG /content/drive/Shareddrives/ECEN 404 Machine Learning/Color/Final Model Bell Pepper/Train \n",
            "cp ./Bacterial Spot/Rotate_After_Flip_Vertical_Flip_Pepper_Bell_Bacterial_Spot_0248.JPG /content/drive/Shareddrives/ECEN 404 Machine Learning/Color/Final Model Bell Pepper/Train \n",
            "cp ./Bacterial Spot/Rotate_After_Flip_Vertical_Flip_Pepper_Bell_Bacterial_Spot_0257.JPG /content/drive/Shareddrives/ECEN 404 Machine Learning/Color/Final Model Bell Pepper/Train \n",
            "cp ./Bacterial Spot/Rotate_After_Flip_Vertical_Flip_Pepper_Bell_Bacterial_Spot_0282.JPG /content/drive/Shareddrives/ECEN 404 Machine Learning/Color/Final Model Bell Pepper/Train \n",
            "cp ./Bacterial Spot/Rotate_After_Flip_Vertical_Flip_Pepper_Bell_Bacterial_Spot_0334.JPG /content/drive/Shareddrives/ECEN 404 Machine Learning/Color/Final Model Bell Pepper/Train \n",
            "cp ./Bacterial Spot/Rotate_After_Flip_Vertical_Flip_Pepper_Bell_Bacterial_Spot_0355.JPG /content/drive/Shareddrives/ECEN 404 Machine Learning/Color/Final Model Bell Pepper/Train \n",
            "cp ./Bacterial Spot/Rotate_After_Flip_Vertical_Flip_Pepper_Bell_Bacterial_Spot_0350.JPG /content/drive/Shareddrives/ECEN 404 Machine Learning/Color/Final Model Bell Pepper/Train \n",
            "cp ./Bacterial Spot/Rotate_After_Flip_Vertical_Flip_Pepper_Bell_Bacterial_Spot_0362.JPG /content/drive/Shareddrives/ECEN 404 Machine Learning/Color/Final Model Bell Pepper/Train \n",
            "cp ./Bacterial Spot/Rotate_After_Flip_Vertical_Flip_Pepper_Bell_Bacterial_Spot_0320.JPG /content/drive/Shareddrives/ECEN 404 Machine Learning/Color/Final Model Bell Pepper/Train \n",
            "cp ./Bacterial Spot/Rotate_After_Flip_Vertical_Flip_Pepper_Bell_Bacterial_Spot_0272.JPG /content/drive/Shareddrives/ECEN 404 Machine Learning/Color/Final Model Bell Pepper/Train \n",
            "cp ./Bacterial Spot/Rotate_After_Flip_Vertical_Flip_Pepper_Bell_Bacterial_Spot_0250.JPG /content/drive/Shareddrives/ECEN 404 Machine Learning/Color/Final Model Bell Pepper/Train \n",
            "cp ./Bacterial Spot/Rotate_After_Flip_Vertical_Flip_Pepper_Bell_Bacterial_Spot_0261.JPG /content/drive/Shareddrives/ECEN 404 Machine Learning/Color/Final Model Bell Pepper/Train \n",
            "cp ./Bacterial Spot/Rotate_After_Flip_Vertical_Flip_Pepper_Bell_Bacterial_Spot_0280.JPG /content/drive/Shareddrives/ECEN 404 Machine Learning/Color/Final Model Bell Pepper/Train \n",
            "cp ./Bacterial Spot/Rotate_After_Flip_Vertical_Flip_Pepper_Bell_Bacterial_Spot_0315.JPG /content/drive/Shareddrives/ECEN 404 Machine Learning/Color/Final Model Bell Pepper/Train \n",
            "cp ./Bacterial Spot/Rotate_After_Flip_Vertical_Flip_Pepper_Bell_Bacterial_Spot_0263.JPG /content/drive/Shareddrives/ECEN 404 Machine Learning/Color/Final Model Bell Pepper/Train \n",
            "cp ./Bacterial Spot/Rotate_After_Flip_Vertical_Flip_Pepper_Bell_Bacterial_Spot_0345.JPG /content/drive/Shareddrives/ECEN 404 Machine Learning/Color/Final Model Bell Pepper/Train \n",
            "cp ./Bacterial Spot/Rotate_After_Flip_Vertical_Flip_Pepper_Bell_Bacterial_Spot_0332.JPG /content/drive/Shareddrives/ECEN 404 Machine Learning/Color/Final Model Bell Pepper/Train \n",
            "cp ./Bacterial Spot/Rotate_After_Flip_Vertical_Flip_Pepper_Bell_Bacterial_Spot_0275.JPG /content/drive/Shareddrives/ECEN 404 Machine Learning/Color/Final Model Bell Pepper/Train \n",
            "cp ./Bacterial Spot/Rotate_After_Flip_Vertical_Flip_Pepper_Bell_Bacterial_Spot_0260.JPG /content/drive/Shareddrives/ECEN 404 Machine Learning/Color/Final Model Bell Pepper/Train \n",
            "cp ./Bacterial Spot/Rotate_After_Flip_Vertical_Flip_Pepper_Bell_Bacterial_Spot_0297.JPG /content/drive/Shareddrives/ECEN 404 Machine Learning/Color/Final Model Bell Pepper/Train \n",
            "cp ./Bacterial Spot/Rotate_After_Flip_Vertical_Flip_Pepper_Bell_Bacterial_Spot_0285.JPG /content/drive/Shareddrives/ECEN 404 Machine Learning/Color/Final Model Bell Pepper/Train \n",
            "cp ./Bacterial Spot/Rotate_After_Flip_Vertical_Flip_Pepper_Bell_Bacterial_Spot_0273.JPG /content/drive/Shareddrives/ECEN 404 Machine Learning/Color/Final Model Bell Pepper/Train \n",
            "cp ./Bacterial Spot/Rotate_After_Flip_Vertical_Flip_Pepper_Bell_Bacterial_Spot_0290.JPG /content/drive/Shareddrives/ECEN 404 Machine Learning/Color/Final Model Bell Pepper/Train \n",
            "cp ./Bacterial Spot/Rotate_After_Flip_Vertical_Flip_Pepper_Bell_Bacterial_Spot_0256.JPG /content/drive/Shareddrives/ECEN 404 Machine Learning/Color/Final Model Bell Pepper/Train \n",
            "cp ./Bacterial Spot/Rotate_After_Flip_Vertical_Flip_Pepper_Bell_Bacterial_Spot_0312.JPG /content/drive/Shareddrives/ECEN 404 Machine Learning/Color/Final Model Bell Pepper/Train \n",
            "cp ./Bacterial Spot/Rotate_After_Flip_Vertical_Flip_Pepper_Bell_Bacterial_Spot_0321.JPG /content/drive/Shareddrives/ECEN 404 Machine Learning/Color/Final Model Bell Pepper/Train \n",
            "cp ./Bacterial Spot/Rotate_After_Flip_Vertical_Flip_Pepper_Bell_Bacterial_Spot_0351.JPG /content/drive/Shareddrives/ECEN 404 Machine Learning/Color/Final Model Bell Pepper/Train \n",
            "cp ./Bacterial Spot/Rotate_After_Flip_Vertical_Flip_Pepper_Bell_Bacterial_Spot_0303.JPG /content/drive/Shareddrives/ECEN 404 Machine Learning/Color/Final Model Bell Pepper/Train \n",
            "cp ./Bacterial Spot/Rotate_After_Flip_Vertical_Flip_Pepper_Bell_Bacterial_Spot_0343.JPG /content/drive/Shareddrives/ECEN 404 Machine Learning/Color/Final Model Bell Pepper/Train \n",
            "cp ./Bacterial Spot/Rotate_After_Flip_Vertical_Flip_Pepper_Bell_Bacterial_Spot_0252.JPG /content/drive/Shareddrives/ECEN 404 Machine Learning/Color/Final Model Bell Pepper/Train \n",
            "cp ./Bacterial Spot/Rotate_After_Flip_Vertical_Flip_Pepper_Bell_Bacterial_Spot_0244.JPG /content/drive/Shareddrives/ECEN 404 Machine Learning/Color/Final Model Bell Pepper/Train \n",
            "cp ./Bacterial Spot/Rotate_After_Flip_Vertical_Flip_Pepper_Bell_Bacterial_Spot_0253.JPG /content/drive/Shareddrives/ECEN 404 Machine Learning/Color/Final Model Bell Pepper/Train \n",
            "cp ./Bacterial Spot/Rotate_After_Flip_Vertical_Flip_Pepper_Bell_Bacterial_Spot_0358.JPG /content/drive/Shareddrives/ECEN 404 Machine Learning/Color/Final Model Bell Pepper/Train \n",
            "cp ./Bacterial Spot/Rotate_After_Flip_Vertical_Flip_Pepper_Bell_Bacterial_Spot_0265.JPG /content/drive/Shareddrives/ECEN 404 Machine Learning/Color/Final Model Bell Pepper/Train \n",
            "cp ./Bacterial Spot/Rotate_After_Flip_Vertical_Flip_Pepper_Bell_Bacterial_Spot_0225.JPG /content/drive/Shareddrives/ECEN 404 Machine Learning/Color/Final Model Bell Pepper/Train \n",
            "cp ./Bacterial Spot/Rotate_After_Flip_Vertical_Flip_Pepper_Bell_Bacterial_Spot_0180.JPG /content/drive/Shareddrives/ECEN 404 Machine Learning/Color/Final Model Bell Pepper/Train \n",
            "cp ./Bacterial Spot/Rotate_After_Flip_Vertical_Flip_Pepper_Bell_Bacterial_Spot_0096.JPG /content/drive/Shareddrives/ECEN 404 Machine Learning/Color/Final Model Bell Pepper/Train \n",
            "cp ./Bacterial Spot/Rotate_After_Flip_Vertical_Flip_Pepper_Bell_Bacterial_Spot_0137.JPG /content/drive/Shareddrives/ECEN 404 Machine Learning/Color/Final Model Bell Pepper/Train \n",
            "cp ./Bacterial Spot/Rotate_After_Flip_Vertical_Flip_Pepper_Bell_Bacterial_Spot_0111.JPG /content/drive/Shareddrives/ECEN 404 Machine Learning/Color/Final Model Bell Pepper/Train \n",
            "cp ./Bacterial Spot/Rotate_After_Flip_Vertical_Flip_Pepper_Bell_Bacterial_Spot_0182.JPG /content/drive/Shareddrives/ECEN 404 Machine Learning/Color/Final Model Bell Pepper/Train \n",
            "cp ./Bacterial Spot/Rotate_After_Flip_Vertical_Flip_Pepper_Bell_Bacterial_Spot_0150.JPG /content/drive/Shareddrives/ECEN 404 Machine Learning/Color/Final Model Bell Pepper/Train \n",
            "cp ./Bacterial Spot/Rotate_After_Flip_Vertical_Flip_Pepper_Bell_Bacterial_Spot_0209.JPG /content/drive/Shareddrives/ECEN 404 Machine Learning/Color/Final Model Bell Pepper/Train \n",
            "cp ./Bacterial Spot/Rotate_After_Flip_Vertical_Flip_Pepper_Bell_Bacterial_Spot_0196.JPG /content/drive/Shareddrives/ECEN 404 Machine Learning/Color/Final Model Bell Pepper/Train \n",
            "cp ./Bacterial Spot/Rotate_After_Flip_Vertical_Flip_Pepper_Bell_Bacterial_Spot_0199.JPG /content/drive/Shareddrives/ECEN 404 Machine Learning/Color/Final Model Bell Pepper/Train \n",
            "cp ./Bacterial Spot/Rotate_After_Flip_Vertical_Flip_Pepper_Bell_Bacterial_Spot_0218.JPG /content/drive/Shareddrives/ECEN 404 Machine Learning/Color/Final Model Bell Pepper/Train \n",
            "cp ./Bacterial Spot/Rotate_After_Flip_Vertical_Flip_Pepper_Bell_Bacterial_Spot_0109.JPG /content/drive/Shareddrives/ECEN 404 Machine Learning/Color/Final Model Bell Pepper/Train \n",
            "cp ./Bacterial Spot/Rotate_After_Flip_Vertical_Flip_Pepper_Bell_Bacterial_Spot_0159.JPG /content/drive/Shareddrives/ECEN 404 Machine Learning/Color/Final Model Bell Pepper/Train \n",
            "cp ./Bacterial Spot/Rotate_After_Flip_Vertical_Flip_Pepper_Bell_Bacterial_Spot_0129.JPG /content/drive/Shareddrives/ECEN 404 Machine Learning/Color/Final Model Bell Pepper/Train \n",
            "cp ./Bacterial Spot/Rotate_After_Flip_Vertical_Flip_Pepper_Bell_Bacterial_Spot_0118.JPG /content/drive/Shareddrives/ECEN 404 Machine Learning/Color/Final Model Bell Pepper/Train \n",
            "cp ./Bacterial Spot/Rotate_After_Flip_Vertical_Flip_Pepper_Bell_Bacterial_Spot_0124.JPG /content/drive/Shareddrives/ECEN 404 Machine Learning/Color/Final Model Bell Pepper/Train \n",
            "cp ./Bacterial Spot/Rotate_After_Flip_Vertical_Flip_Pepper_Bell_Bacterial_Spot_0105.JPG /content/drive/Shareddrives/ECEN 404 Machine Learning/Color/Final Model Bell Pepper/Train \n",
            "cp ./Bacterial Spot/Rotate_After_Flip_Vertical_Flip_Pepper_Bell_Bacterial_Spot_0110.JPG /content/drive/Shareddrives/ECEN 404 Machine Learning/Color/Final Model Bell Pepper/Train \n",
            "cp ./Bacterial Spot/Rotate_After_Flip_Vertical_Flip_Pepper_Bell_Bacterial_Spot_0165.JPG /content/drive/Shareddrives/ECEN 404 Machine Learning/Color/Final Model Bell Pepper/Train \n",
            "cp ./Bacterial Spot/Rotate_After_Flip_Vertical_Flip_Pepper_Bell_Bacterial_Spot_0170.JPG /content/drive/Shareddrives/ECEN 404 Machine Learning/Color/Final Model Bell Pepper/Train \n",
            "cp ./Bacterial Spot/Rotate_After_Flip_Vertical_Flip_Pepper_Bell_Bacterial_Spot_0120.JPG /content/drive/Shareddrives/ECEN 404 Machine Learning/Color/Final Model Bell Pepper/Train \n",
            "cp ./Bacterial Spot/Rotate_After_Flip_Vertical_Flip_Pepper_Bell_Bacterial_Spot_0108.JPG /content/drive/Shareddrives/ECEN 404 Machine Learning/Color/Final Model Bell Pepper/Train \n",
            "cp ./Bacterial Spot/Rotate_After_Flip_Vertical_Flip_Pepper_Bell_Bacterial_Spot_0204.JPG /content/drive/Shareddrives/ECEN 404 Machine Learning/Color/Final Model Bell Pepper/Train \n",
            "cp ./Bacterial Spot/Rotate_After_Flip_Vertical_Flip_Pepper_Bell_Bacterial_Spot_0089.JPG /content/drive/Shareddrives/ECEN 404 Machine Learning/Color/Final Model Bell Pepper/Train \n",
            "cp ./Bacterial Spot/Rotate_After_Flip_Vertical_Flip_Pepper_Bell_Bacterial_Spot_0181.JPG /content/drive/Shareddrives/ECEN 404 Machine Learning/Color/Final Model Bell Pepper/Train \n",
            "cp ./Bacterial Spot/Rotate_After_Flip_Vertical_Flip_Pepper_Bell_Bacterial_Spot_0114.JPG /content/drive/Shareddrives/ECEN 404 Machine Learning/Color/Final Model Bell Pepper/Train \n",
            "cp ./Bacterial Spot/Rotate_After_Flip_Vertical_Flip_Pepper_Bell_Bacterial_Spot_0190.JPG /content/drive/Shareddrives/ECEN 404 Machine Learning/Color/Final Model Bell Pepper/Train \n",
            "cp ./Bacterial Spot/Rotate_After_Flip_Vertical_Flip_Pepper_Bell_Bacterial_Spot_0162.JPG /content/drive/Shareddrives/ECEN 404 Machine Learning/Color/Final Model Bell Pepper/Train \n",
            "cp ./Bacterial Spot/Rotate_After_Flip_Vertical_Flip_Pepper_Bell_Bacterial_Spot_0161.JPG /content/drive/Shareddrives/ECEN 404 Machine Learning/Color/Final Model Bell Pepper/Train \n",
            "cp ./Bacterial Spot/Rotate_After_Flip_Vertical_Flip_Pepper_Bell_Bacterial_Spot_0193.JPG /content/drive/Shareddrives/ECEN 404 Machine Learning/Color/Final Model Bell Pepper/Train \n",
            "cp ./Bacterial Spot/Rotate_After_Flip_Vertical_Flip_Pepper_Bell_Bacterial_Spot_0211.JPG /content/drive/Shareddrives/ECEN 404 Machine Learning/Color/Final Model Bell Pepper/Train \n",
            "cp ./Bacterial Spot/Rotate_After_Flip_Vertical_Flip_Pepper_Bell_Bacterial_Spot_0156.JPG /content/drive/Shareddrives/ECEN 404 Machine Learning/Color/Final Model Bell Pepper/Train \n",
            "cp ./Bacterial Spot/Rotate_After_Flip_Vertical_Flip_Pepper_Bell_Bacterial_Spot_0100.JPG /content/drive/Shareddrives/ECEN 404 Machine Learning/Color/Final Model Bell Pepper/Train \n",
            "cp ./Bacterial Spot/Rotate_After_Flip_Vertical_Flip_Pepper_Bell_Bacterial_Spot_0153.JPG /content/drive/Shareddrives/ECEN 404 Machine Learning/Color/Final Model Bell Pepper/Train \n",
            "cp ./Bacterial Spot/Rotate_After_Flip_Vertical_Flip_Pepper_Bell_Bacterial_Spot_0148.JPG /content/drive/Shareddrives/ECEN 404 Machine Learning/Color/Final Model Bell Pepper/Train \n",
            "cp ./Bacterial Spot/Rotate_After_Flip_Vertical_Flip_Pepper_Bell_Bacterial_Spot_0123.JPG /content/drive/Shareddrives/ECEN 404 Machine Learning/Color/Final Model Bell Pepper/Train \n",
            "cp ./Bacterial Spot/Rotate_After_Flip_Vertical_Flip_Pepper_Bell_Bacterial_Spot_0228.JPG /content/drive/Shareddrives/ECEN 404 Machine Learning/Color/Final Model Bell Pepper/Train \n",
            "cp ./Bacterial Spot/Rotate_After_Flip_Vertical_Flip_Pepper_Bell_Bacterial_Spot_0188.JPG /content/drive/Shareddrives/ECEN 404 Machine Learning/Color/Final Model Bell Pepper/Train \n",
            "cp ./Bacterial Spot/Rotate_After_Flip_Vertical_Flip_Pepper_Bell_Bacterial_Spot_0240.JPG /content/drive/Shareddrives/ECEN 404 Machine Learning/Color/Final Model Bell Pepper/Train \n",
            "cp ./Bacterial Spot/Rotate_After_Flip_Vertical_Flip_Pepper_Bell_Bacterial_Spot_0142.JPG /content/drive/Shareddrives/ECEN 404 Machine Learning/Color/Final Model Bell Pepper/Train \n",
            "cp ./Bacterial Spot/Rotate_After_Flip_Vertical_Flip_Pepper_Bell_Bacterial_Spot_0155.JPG /content/drive/Shareddrives/ECEN 404 Machine Learning/Color/Final Model Bell Pepper/Train \n",
            "cp ./Bacterial Spot/Rotate_After_Flip_Vertical_Flip_Pepper_Bell_Bacterial_Spot_0176.JPG /content/drive/Shareddrives/ECEN 404 Machine Learning/Color/Final Model Bell Pepper/Train \n",
            "cp ./Bacterial Spot/Rotate_After_Flip_Vertical_Flip_Pepper_Bell_Bacterial_Spot_0091.JPG /content/drive/Shareddrives/ECEN 404 Machine Learning/Color/Final Model Bell Pepper/Train \n",
            "cp ./Bacterial Spot/Rotate_After_Flip_Vertical_Flip_Pepper_Bell_Bacterial_Spot_0101.JPG /content/drive/Shareddrives/ECEN 404 Machine Learning/Color/Final Model Bell Pepper/Train \n",
            "cp ./Bacterial Spot/Rotate_After_Flip_Vertical_Flip_Pepper_Bell_Bacterial_Spot_0168.JPG /content/drive/Shareddrives/ECEN 404 Machine Learning/Color/Final Model Bell Pepper/Train \n",
            "cp ./Bacterial Spot/Rotate_After_Flip_Vertical_Flip_Pepper_Bell_Bacterial_Spot_0200.JPG /content/drive/Shareddrives/ECEN 404 Machine Learning/Color/Final Model Bell Pepper/Train \n",
            "cp ./Bacterial Spot/Rotate_After_Flip_Vertical_Flip_Pepper_Bell_Bacterial_Spot_0197.JPG /content/drive/Shareddrives/ECEN 404 Machine Learning/Color/Final Model Bell Pepper/Train \n",
            "cp ./Bacterial Spot/Rotate_After_Flip_Vertical_Flip_Pepper_Bell_Bacterial_Spot_0128.JPG /content/drive/Shareddrives/ECEN 404 Machine Learning/Color/Final Model Bell Pepper/Train \n",
            "cp ./Bacterial Spot/Rotate_After_Flip_Vertical_Flip_Pepper_Bell_Bacterial_Spot_0177.JPG /content/drive/Shareddrives/ECEN 404 Machine Learning/Color/Final Model Bell Pepper/Train \n",
            "cp ./Bacterial Spot/Rotate_After_Flip_Vertical_Flip_Pepper_Bell_Bacterial_Spot_0191.JPG /content/drive/Shareddrives/ECEN 404 Machine Learning/Color/Final Model Bell Pepper/Train \n",
            "cp ./Bacterial Spot/Rotate_After_Flip_Vertical_Flip_Pepper_Bell_Bacterial_Spot_0186.JPG /content/drive/Shareddrives/ECEN 404 Machine Learning/Color/Final Model Bell Pepper/Train \n",
            "cp ./Bacterial Spot/Rotate_After_Flip_Vertical_Flip_Pepper_Bell_Bacterial_Spot_0119.JPG /content/drive/Shareddrives/ECEN 404 Machine Learning/Color/Final Model Bell Pepper/Train \n",
            "cp ./Bacterial Spot/Rotate_After_Flip_Vertical_Flip_Pepper_Bell_Bacterial_Spot_0095.JPG /content/drive/Shareddrives/ECEN 404 Machine Learning/Color/Final Model Bell Pepper/Train \n",
            "cp ./Bacterial Spot/Rotate_After_Flip_Vertical_Flip_Pepper_Bell_Bacterial_Spot_0201.JPG /content/drive/Shareddrives/ECEN 404 Machine Learning/Color/Final Model Bell Pepper/Train \n",
            "cp ./Bacterial Spot/Rotate_After_Flip_Vertical_Flip_Pepper_Bell_Bacterial_Spot_0116.JPG /content/drive/Shareddrives/ECEN 404 Machine Learning/Color/Final Model Bell Pepper/Train \n",
            "cp ./Bacterial Spot/Rotate_After_Flip_Vertical_Flip_Pepper_Bell_Bacterial_Spot_0230.JPG /content/drive/Shareddrives/ECEN 404 Machine Learning/Color/Final Model Bell Pepper/Train \n",
            "cp ./Bacterial Spot/Rotate_After_Flip_Vertical_Flip_Pepper_Bell_Bacterial_Spot_0122.JPG /content/drive/Shareddrives/ECEN 404 Machine Learning/Color/Final Model Bell Pepper/Train \n",
            "cp ./Bacterial Spot/Rotate_After_Flip_Vertical_Flip_Pepper_Bell_Bacterial_Spot_0117.JPG /content/drive/Shareddrives/ECEN 404 Machine Learning/Color/Final Model Bell Pepper/Train \n",
            "cp ./Bacterial Spot/Rotate_After_Flip_Vertical_Flip_Pepper_Bell_Bacterial_Spot_0126.JPG /content/drive/Shareddrives/ECEN 404 Machine Learning/Color/Final Model Bell Pepper/Train \n",
            "cp ./Bacterial Spot/Rotate_After_Flip_Vertical_Flip_Pepper_Bell_Bacterial_Spot_0235.JPG /content/drive/Shareddrives/ECEN 404 Machine Learning/Color/Final Model Bell Pepper/Train \n",
            "cp ./Bacterial Spot/Rotate_After_Flip_Vertical_Flip_Pepper_Bell_Bacterial_Spot_0113.JPG /content/drive/Shareddrives/ECEN 404 Machine Learning/Color/Final Model Bell Pepper/Train \n",
            "cp ./Bacterial Spot/Rotate_After_Flip_Vertical_Flip_Pepper_Bell_Bacterial_Spot_0236.JPG /content/drive/Shareddrives/ECEN 404 Machine Learning/Color/Final Model Bell Pepper/Train \n",
            "cp ./Bacterial Spot/Rotate_After_Flip_Vertical_Flip_Pepper_Bell_Bacterial_Spot_0130.JPG /content/drive/Shareddrives/ECEN 404 Machine Learning/Color/Final Model Bell Pepper/Train \n",
            "cp ./Bacterial Spot/Rotate_After_Flip_Vertical_Flip_Pepper_Bell_Bacterial_Spot_0143.JPG /content/drive/Shareddrives/ECEN 404 Machine Learning/Color/Final Model Bell Pepper/Train \n",
            "cp ./Bacterial Spot/Rotate_After_Flip_Vertical_Flip_Pepper_Bell_Bacterial_Spot_0133.JPG /content/drive/Shareddrives/ECEN 404 Machine Learning/Color/Final Model Bell Pepper/Train \n",
            "cp ./Bacterial Spot/Rotate_After_Flip_Vertical_Flip_Pepper_Bell_Bacterial_Spot_0151.JPG /content/drive/Shareddrives/ECEN 404 Machine Learning/Color/Final Model Bell Pepper/Train \n",
            "cp ./Bacterial Spot/Rotate_After_Flip_Vertical_Flip_Pepper_Bell_Bacterial_Spot_0239.JPG /content/drive/Shareddrives/ECEN 404 Machine Learning/Color/Final Model Bell Pepper/Train \n",
            "cp ./Bacterial Spot/Rotate_After_Flip_Vertical_Flip_Pepper_Bell_Bacterial_Spot_0219.JPG /content/drive/Shareddrives/ECEN 404 Machine Learning/Color/Final Model Bell Pepper/Train \n",
            "cp ./Bacterial Spot/Rotate_After_Flip_Vertical_Flip_Pepper_Bell_Bacterial_Spot_0094.JPG /content/drive/Shareddrives/ECEN 404 Machine Learning/Color/Final Model Bell Pepper/Train \n",
            "cp ./Bacterial Spot/Rotate_After_Flip_Vertical_Flip_Pepper_Bell_Bacterial_Spot_0223.JPG /content/drive/Shareddrives/ECEN 404 Machine Learning/Color/Final Model Bell Pepper/Train \n",
            "cp ./Bacterial Spot/Rotate_After_Flip_Vertical_Flip_Pepper_Bell_Bacterial_Spot_0215.JPG /content/drive/Shareddrives/ECEN 404 Machine Learning/Color/Final Model Bell Pepper/Train \n",
            "cp ./Bacterial Spot/Rotate_After_Flip_Vertical_Flip_Pepper_Bell_Bacterial_Spot_0242.JPG /content/drive/Shareddrives/ECEN 404 Machine Learning/Color/Final Model Bell Pepper/Train \n",
            "cp ./Bacterial Spot/Rotate_After_Flip_Vertical_Flip_Pepper_Bell_Bacterial_Spot_0149.JPG /content/drive/Shareddrives/ECEN 404 Machine Learning/Color/Final Model Bell Pepper/Train \n",
            "cp ./Bacterial Spot/Rotate_After_Flip_Vertical_Flip_Pepper_Bell_Bacterial_Spot_0134.JPG /content/drive/Shareddrives/ECEN 404 Machine Learning/Color/Final Model Bell Pepper/Train \n",
            "cp ./Bacterial Spot/Rotate_After_Flip_Vertical_Flip_Pepper_Bell_Bacterial_Spot_0157.JPG /content/drive/Shareddrives/ECEN 404 Machine Learning/Color/Final Model Bell Pepper/Train \n",
            "cp ./Bacterial Spot/Rotate_After_Flip_Vertical_Flip_Pepper_Bell_Bacterial_Spot_0172.JPG /content/drive/Shareddrives/ECEN 404 Machine Learning/Color/Final Model Bell Pepper/Train \n",
            "cp ./Bacterial Spot/Rotate_After_Flip_Vertical_Flip_Pepper_Bell_Bacterial_Spot_0145.JPG /content/drive/Shareddrives/ECEN 404 Machine Learning/Color/Final Model Bell Pepper/Train \n",
            "cp ./Bacterial Spot/Rotate_After_Flip_Vertical_Flip_Pepper_Bell_Bacterial_Spot_0106.JPG /content/drive/Shareddrives/ECEN 404 Machine Learning/Color/Final Model Bell Pepper/Train \n",
            "cp ./Bacterial Spot/Rotate_After_Flip_Vertical_Flip_Pepper_Bell_Bacterial_Spot_0171.JPG /content/drive/Shareddrives/ECEN 404 Machine Learning/Color/Final Model Bell Pepper/Train \n",
            "cp ./Bacterial Spot/Rotate_After_Flip_Vertical_Flip_Pepper_Bell_Bacterial_Spot_0234.JPG /content/drive/Shareddrives/ECEN 404 Machine Learning/Color/Final Model Bell Pepper/Train \n",
            "cp ./Bacterial Spot/Rotate_After_Flip_Vertical_Flip_Pepper_Bell_Bacterial_Spot_0237.JPG /content/drive/Shareddrives/ECEN 404 Machine Learning/Color/Final Model Bell Pepper/Train \n",
            "cp ./Bacterial Spot/Rotate_After_Flip_Vertical_Flip_Pepper_Bell_Bacterial_Spot_0112.JPG /content/drive/Shareddrives/ECEN 404 Machine Learning/Color/Final Model Bell Pepper/Train \n",
            "cp ./Bacterial Spot/Rotate_After_Flip_Vertical_Flip_Pepper_Bell_Bacterial_Spot_0136.JPG /content/drive/Shareddrives/ECEN 404 Machine Learning/Color/Final Model Bell Pepper/Train \n",
            "cp ./Bacterial Spot/Rotate_After_Flip_Vertical_Flip_Pepper_Bell_Bacterial_Spot_0097.JPG /content/drive/Shareddrives/ECEN 404 Machine Learning/Color/Final Model Bell Pepper/Train \n",
            "cp ./Bacterial Spot/Rotate_After_Flip_Vertical_Flip_Pepper_Bell_Bacterial_Spot_0174.JPG /content/drive/Shareddrives/ECEN 404 Machine Learning/Color/Final Model Bell Pepper/Train \n",
            "cp ./Bacterial Spot/Rotate_After_Flip_Vertical_Flip_Pepper_Bell_Bacterial_Spot_0131.JPG /content/drive/Shareddrives/ECEN 404 Machine Learning/Color/Final Model Bell Pepper/Train \n",
            "cp ./Bacterial Spot/Rotate_After_Flip_Vertical_Flip_Pepper_Bell_Bacterial_Spot_0226.JPG /content/drive/Shareddrives/ECEN 404 Machine Learning/Color/Final Model Bell Pepper/Train \n",
            "cp ./Bacterial Spot/Rotate_After_Flip_Vertical_Flip_Pepper_Bell_Bacterial_Spot_0093.JPG /content/drive/Shareddrives/ECEN 404 Machine Learning/Color/Final Model Bell Pepper/Train \n",
            "cp ./Bacterial Spot/Rotate_After_Flip_Vertical_Flip_Pepper_Bell_Bacterial_Spot_0147.JPG /content/drive/Shareddrives/ECEN 404 Machine Learning/Color/Final Model Bell Pepper/Train \n",
            "cp ./Bacterial Spot/Rotate_After_Flip_Vertical_Flip_Pepper_Bell_Bacterial_Spot_0132.JPG /content/drive/Shareddrives/ECEN 404 Machine Learning/Color/Final Model Bell Pepper/Train \n",
            "cp ./Bacterial Spot/Rotate_After_Flip_Vertical_Flip_Pepper_Bell_Bacterial_Spot_0107.JPG /content/drive/Shareddrives/ECEN 404 Machine Learning/Color/Final Model Bell Pepper/Train \n",
            "cp ./Bacterial Spot/Rotate_After_Flip_Vertical_Flip_Pepper_Bell_Bacterial_Spot_0158.JPG /content/drive/Shareddrives/ECEN 404 Machine Learning/Color/Final Model Bell Pepper/Train \n",
            "cp ./Bacterial Spot/Rotate_After_Flip_Vertical_Flip_Pepper_Bell_Bacterial_Spot_0227.JPG /content/drive/Shareddrives/ECEN 404 Machine Learning/Color/Final Model Bell Pepper/Train \n",
            "cp ./Bacterial Spot/Rotate_After_Flip_Vertical_Flip_Pepper_Bell_Bacterial_Spot_0104.JPG /content/drive/Shareddrives/ECEN 404 Machine Learning/Color/Final Model Bell Pepper/Train \n",
            "cp ./Bacterial Spot/Rotate_After_Flip_Vertical_Flip_Pepper_Bell_Bacterial_Spot_0229.JPG /content/drive/Shareddrives/ECEN 404 Machine Learning/Color/Final Model Bell Pepper/Train \n",
            "cp ./Bacterial Spot/Rotate_After_Flip_Vertical_Flip_Pepper_Bell_Bacterial_Spot_0138.JPG /content/drive/Shareddrives/ECEN 404 Machine Learning/Color/Final Model Bell Pepper/Train \n",
            "cp ./Bacterial Spot/Rotate_After_Flip_Vertical_Flip_Pepper_Bell_Bacterial_Spot_0189.JPG /content/drive/Shareddrives/ECEN 404 Machine Learning/Color/Final Model Bell Pepper/Train \n",
            "cp ./Bacterial Spot/Rotate_After_Flip_Vertical_Flip_Pepper_Bell_Bacterial_Spot_0178.JPG /content/drive/Shareddrives/ECEN 404 Machine Learning/Color/Final Model Bell Pepper/Train \n",
            "cp ./Bacterial Spot/Rotate_After_Flip_Vertical_Flip_Pepper_Bell_Bacterial_Spot_0125.JPG /content/drive/Shareddrives/ECEN 404 Machine Learning/Color/Final Model Bell Pepper/Train \n",
            "cp ./Bacterial Spot/Rotate_After_Flip_Vertical_Flip_Pepper_Bell_Bacterial_Spot_0210.JPG /content/drive/Shareddrives/ECEN 404 Machine Learning/Color/Final Model Bell Pepper/Train \n",
            "cp ./Bacterial Spot/Rotate_After_Flip_Vertical_Flip_Pepper_Bell_Bacterial_Spot_0092.JPG /content/drive/Shareddrives/ECEN 404 Machine Learning/Color/Final Model Bell Pepper/Train \n",
            "cp ./Bacterial Spot/Rotate_After_Flip_Vertical_Flip_Pepper_Bell_Bacterial_Spot_0214.JPG /content/drive/Shareddrives/ECEN 404 Machine Learning/Color/Final Model Bell Pepper/Train \n",
            "cp ./Bacterial Spot/Rotate_After_Flip_Vertical_Flip_Pepper_Bell_Bacterial_Spot_0205.JPG /content/drive/Shareddrives/ECEN 404 Machine Learning/Color/Final Model Bell Pepper/Train \n",
            "cp ./Bacterial Spot/Rotate_After_Flip_Vertical_Flip_Pepper_Bell_Bacterial_Spot_0115.JPG /content/drive/Shareddrives/ECEN 404 Machine Learning/Color/Final Model Bell Pepper/Train \n",
            "cp ./Bacterial Spot/Rotate_After_Flip_Vertical_Flip_Pepper_Bell_Bacterial_Spot_0187.JPG /content/drive/Shareddrives/ECEN 404 Machine Learning/Color/Final Model Bell Pepper/Train \n",
            "cp ./Bacterial Spot/Rotate_After_Flip_Vertical_Flip_Pepper_Bell_Bacterial_Spot_0121.JPG /content/drive/Shareddrives/ECEN 404 Machine Learning/Color/Final Model Bell Pepper/Train \n",
            "cp ./Bacterial Spot/Rotate_After_Flip_Vertical_Flip_Pepper_Bell_Bacterial_Spot_0198.JPG /content/drive/Shareddrives/ECEN 404 Machine Learning/Color/Final Model Bell Pepper/Train \n",
            "cp ./Bacterial Spot/Rotate_After_Flip_Vertical_Flip_Pepper_Bell_Bacterial_Spot_0154.JPG /content/drive/Shareddrives/ECEN 404 Machine Learning/Color/Final Model Bell Pepper/Train \n",
            "cp ./Bacterial Spot/Rotate_After_Flip_Vertical_Flip_Pepper_Bell_Bacterial_Spot_0103.JPG /content/drive/Shareddrives/ECEN 404 Machine Learning/Color/Final Model Bell Pepper/Train \n",
            "cp ./Bacterial Spot/Rotate_After_Flip_Vertical_Flip_Pepper_Bell_Bacterial_Spot_0098.JPG /content/drive/Shareddrives/ECEN 404 Machine Learning/Color/Final Model Bell Pepper/Train \n",
            "cp ./Bacterial Spot/Rotate_After_Flip_Vertical_Flip_Pepper_Bell_Bacterial_Spot_0216.JPG /content/drive/Shareddrives/ECEN 404 Machine Learning/Color/Final Model Bell Pepper/Train \n",
            "cp ./Bacterial Spot/Rotate_After_Flip_Vertical_Flip_Pepper_Bell_Bacterial_Spot_0207.JPG /content/drive/Shareddrives/ECEN 404 Machine Learning/Color/Final Model Bell Pepper/Train \n",
            "cp ./Bacterial Spot/Rotate_After_Flip_Vertical_Flip_Pepper_Bell_Bacterial_Spot_0135.JPG /content/drive/Shareddrives/ECEN 404 Machine Learning/Color/Final Model Bell Pepper/Train \n",
            "cp ./Bacterial Spot/Rotate_After_Flip_Vertical_Flip_Pepper_Bell_Bacterial_Spot_0222.JPG /content/drive/Shareddrives/ECEN 404 Machine Learning/Color/Final Model Bell Pepper/Train \n",
            "cp ./Bacterial Spot/Rotate_After_Flip_Vertical_Flip_Pepper_Bell_Bacterial_Spot_0140.JPG /content/drive/Shareddrives/ECEN 404 Machine Learning/Color/Final Model Bell Pepper/Train \n",
            "cp ./Bacterial Spot/Rotate_After_Flip_Vertical_Flip_Pepper_Bell_Bacterial_Spot_0183.JPG /content/drive/Shareddrives/ECEN 404 Machine Learning/Color/Final Model Bell Pepper/Train \n",
            "cp ./Bacterial Spot/Rotate_After_Flip_Vertical_Flip_Pepper_Bell_Bacterial_Spot_0069.JPG /content/drive/Shareddrives/ECEN 404 Machine Learning/Color/Final Model Bell Pepper/Train \n",
            "cp ./Bacterial Spot/Rotate_After_Flip_Vertical_Flip_Pepper_Bell_Bacterial_Spot_0085.JPG /content/drive/Shareddrives/ECEN 404 Machine Learning/Color/Final Model Bell Pepper/Train \n",
            "cp ./Bacterial Spot/Rotate_After_Flip_Vertical_Flip_Pepper_Bell_Bacterial_Spot_0032.JPG /content/drive/Shareddrives/ECEN 404 Machine Learning/Color/Final Model Bell Pepper/Train \n",
            "cp ./Bacterial Spot/Rotate_After_Flip_Vertical_Flip_Pepper_Bell_Bacterial_Spot_0075.JPG /content/drive/Shareddrives/ECEN 404 Machine Learning/Color/Final Model Bell Pepper/Train \n",
            "cp ./Bacterial Spot/Rotate_After_Flip_Vertical_Flip_Pepper_Bell_Bacterial_Spot_0058.JPG /content/drive/Shareddrives/ECEN 404 Machine Learning/Color/Final Model Bell Pepper/Train \n",
            "cp ./Bacterial Spot/Rotate_After_Flip_Vertical_Flip_Pepper_Bell_Bacterial_Spot_0024.JPG /content/drive/Shareddrives/ECEN 404 Machine Learning/Color/Final Model Bell Pepper/Train \n",
            "cp ./Bacterial Spot/Rotate_After_Flip_Vertical_Flip_Pepper_Bell_Bacterial_Spot_0073.JPG /content/drive/Shareddrives/ECEN 404 Machine Learning/Color/Final Model Bell Pepper/Train \n",
            "cp ./Bacterial Spot/Rotate_After_Flip_Vertical_Flip_Pepper_Bell_Bacterial_Spot_0042.JPG /content/drive/Shareddrives/ECEN 404 Machine Learning/Color/Final Model Bell Pepper/Train \n",
            "cp ./Bacterial Spot/Rotate_After_Flip_Vertical_Flip_Pepper_Bell_Bacterial_Spot_0011.JPG /content/drive/Shareddrives/ECEN 404 Machine Learning/Color/Final Model Bell Pepper/Train \n",
            "cp ./Bacterial Spot/Rotate_After_Flip_Vertical_Flip_Pepper_Bell_Bacterial_Spot_0038.JPG /content/drive/Shareddrives/ECEN 404 Machine Learning/Color/Final Model Bell Pepper/Train \n",
            "cp ./Bacterial Spot/Rotate_After_Flip_Vertical_Flip_Pepper_Bell_Bacterial_Spot_0040.JPG /content/drive/Shareddrives/ECEN 404 Machine Learning/Color/Final Model Bell Pepper/Train \n",
            "cp ./Bacterial Spot/Rotate_After_Flip_Vertical_Flip_Pepper_Bell_Bacterial_Spot_0017.JPG /content/drive/Shareddrives/ECEN 404 Machine Learning/Color/Final Model Bell Pepper/Train \n",
            "cp ./Bacterial Spot/Rotate_After_Flip_Vertical_Flip_Pepper_Bell_Bacterial_Spot_0001.JPG /content/drive/Shareddrives/ECEN 404 Machine Learning/Color/Final Model Bell Pepper/Train \n",
            "cp ./Bacterial Spot/Rotate_After_Flip_Vertical_Flip_Pepper_Bell_Bacterial_Spot_0026.JPG /content/drive/Shareddrives/ECEN 404 Machine Learning/Color/Final Model Bell Pepper/Train \n",
            "cp ./Bacterial Spot/Rotate_After_Flip_Vertical_Flip_Pepper_Bell_Bacterial_Spot_0060.JPG /content/drive/Shareddrives/ECEN 404 Machine Learning/Color/Final Model Bell Pepper/Train \n",
            "cp ./Bacterial Spot/Rotate_After_Flip_Vertical_Flip_Pepper_Bell_Bacterial_Spot_0047.JPG /content/drive/Shareddrives/ECEN 404 Machine Learning/Color/Final Model Bell Pepper/Train \n",
            "cp ./Bacterial Spot/Rotate_After_Flip_Vertical_Flip_Pepper_Bell_Bacterial_Spot_0048.JPG /content/drive/Shareddrives/ECEN 404 Machine Learning/Color/Final Model Bell Pepper/Train \n",
            "cp ./Bacterial Spot/Rotate_After_Flip_Vertical_Flip_Pepper_Bell_Bacterial_Spot_0050.JPG /content/drive/Shareddrives/ECEN 404 Machine Learning/Color/Final Model Bell Pepper/Train \n",
            "cp ./Bacterial Spot/Rotate_After_Flip_Vertical_Flip_Pepper_Bell_Bacterial_Spot_0004.JPG /content/drive/Shareddrives/ECEN 404 Machine Learning/Color/Final Model Bell Pepper/Train \n",
            "cp ./Bacterial Spot/Rotate_After_Flip_Vertical_Flip_Pepper_Bell_Bacterial_Spot_0013.JPG /content/drive/Shareddrives/ECEN 404 Machine Learning/Color/Final Model Bell Pepper/Train \n",
            "cp ./Bacterial Spot/Rotate_After_Flip_Vertical_Flip_Pepper_Bell_Bacterial_Spot_0082.JPG /content/drive/Shareddrives/ECEN 404 Machine Learning/Color/Final Model Bell Pepper/Train \n",
            "cp ./Bacterial Spot/Rotate_After_Flip_Vertical_Flip_Pepper_Bell_Bacterial_Spot_0030.JPG /content/drive/Shareddrives/ECEN 404 Machine Learning/Color/Final Model Bell Pepper/Train \n",
            "cp ./Bacterial Spot/Rotate_After_Flip_Vertical_Flip_Pepper_Bell_Bacterial_Spot_0033.JPG /content/drive/Shareddrives/ECEN 404 Machine Learning/Color/Final Model Bell Pepper/Train \n",
            "cp ./Bacterial Spot/Rotate_After_Flip_Vertical_Flip_Pepper_Bell_Bacterial_Spot_0009.JPG /content/drive/Shareddrives/ECEN 404 Machine Learning/Color/Final Model Bell Pepper/Train \n",
            "cp ./Bacterial Spot/Rotate_After_Flip_Vertical_Flip_Pepper_Bell_Bacterial_Spot_0055.JPG /content/drive/Shareddrives/ECEN 404 Machine Learning/Color/Final Model Bell Pepper/Train \n",
            "cp ./Bacterial Spot/Rotate_After_Flip_Vertical_Flip_Pepper_Bell_Bacterial_Spot_0006.JPG /content/drive/Shareddrives/ECEN 404 Machine Learning/Color/Final Model Bell Pepper/Train \n",
            "cp ./Bacterial Spot/Rotate_After_Flip_Vertical_Flip_Pepper_Bell_Bacterial_Spot_0015.JPG /content/drive/Shareddrives/ECEN 404 Machine Learning/Color/Final Model Bell Pepper/Train \n",
            "cp ./Bacterial Spot/Rotate_After_Flip_Vertical_Flip_Pepper_Bell_Bacterial_Spot_0074.JPG /content/drive/Shareddrives/ECEN 404 Machine Learning/Color/Final Model Bell Pepper/Train \n",
            "cp ./Bacterial Spot/Rotate_After_Flip_Vertical_Flip_Pepper_Bell_Bacterial_Spot_0025.JPG /content/drive/Shareddrives/ECEN 404 Machine Learning/Color/Final Model Bell Pepper/Train \n",
            "cp ./Bacterial Spot/Rotate_After_Flip_Vertical_Flip_Pepper_Bell_Bacterial_Spot_0081.JPG /content/drive/Shareddrives/ECEN 404 Machine Learning/Color/Final Model Bell Pepper/Train \n",
            "cp ./Bacterial Spot/Rotate_After_Flip_Vertical_Flip_Pepper_Bell_Bacterial_Spot_0051.JPG /content/drive/Shareddrives/ECEN 404 Machine Learning/Color/Final Model Bell Pepper/Train \n",
            "cp ./Bacterial Spot/Rotate_After_Flip_Vertical_Flip_Pepper_Bell_Bacterial_Spot_0014.JPG /content/drive/Shareddrives/ECEN 404 Machine Learning/Color/Final Model Bell Pepper/Train \n",
            "cp ./Bacterial Spot/Rotate_After_Flip_Vertical_Flip_Pepper_Bell_Bacterial_Spot_0087.JPG /content/drive/Shareddrives/ECEN 404 Machine Learning/Color/Final Model Bell Pepper/Train \n",
            "cp ./Bacterial Spot/Rotate_After_Flip_Vertical_Flip_Pepper_Bell_Bacterial_Spot_0080.JPG /content/drive/Shareddrives/ECEN 404 Machine Learning/Color/Final Model Bell Pepper/Train \n",
            "cp ./Bacterial Spot/Rotate_After_Flip_Vertical_Flip_Pepper_Bell_Bacterial_Spot_0036.JPG /content/drive/Shareddrives/ECEN 404 Machine Learning/Color/Final Model Bell Pepper/Train \n",
            "cp ./Bacterial Spot/Rotate_After_Flip_Vertical_Flip_Pepper_Bell_Bacterial_Spot_0010.JPG /content/drive/Shareddrives/ECEN 404 Machine Learning/Color/Final Model Bell Pepper/Train \n",
            "cp ./Bacterial Spot/Rotate_After_Flip_Vertical_Flip_Pepper_Bell_Bacterial_Spot_0061.JPG /content/drive/Shareddrives/ECEN 404 Machine Learning/Color/Final Model Bell Pepper/Train \n",
            "cp ./Bacterial Spot/Rotate_After_Flip_Vertical_Flip_Pepper_Bell_Bacterial_Spot_0053.JPG /content/drive/Shareddrives/ECEN 404 Machine Learning/Color/Final Model Bell Pepper/Train \n",
            "cp ./Bacterial Spot/Rotate_After_Flip_Vertical_Flip_Pepper_Bell_Bacterial_Spot_0002.JPG /content/drive/Shareddrives/ECEN 404 Machine Learning/Color/Final Model Bell Pepper/Train \n",
            "cp ./Bacterial Spot/Rotate_After_Flip_Vertical_Flip_Pepper_Bell_Bacterial_Spot_0063.JPG /content/drive/Shareddrives/ECEN 404 Machine Learning/Color/Final Model Bell Pepper/Train \n",
            "cp ./Bacterial Spot/Rotate_After_Flip_Vertical_Flip_Pepper_Bell_Bacterial_Spot_0007.JPG /content/drive/Shareddrives/ECEN 404 Machine Learning/Color/Final Model Bell Pepper/Train \n",
            "cp ./Bacterial Spot/Rotate_After_Flip_Vertical_Flip_Pepper_Bell_Bacterial_Spot_0057.JPG /content/drive/Shareddrives/ECEN 404 Machine Learning/Color/Final Model Bell Pepper/Train \n",
            "cp ./Bacterial Spot/Rotate_After_Flip_Vertical_Flip_Pepper_Bell_Bacterial_Spot_0041.JPG /content/drive/Shareddrives/ECEN 404 Machine Learning/Color/Final Model Bell Pepper/Train \n",
            "cp ./Bacterial Spot/Rotate_After_Flip_Vertical_Flip_Pepper_Bell_Bacterial_Spot_0072.JPG /content/drive/Shareddrives/ECEN 404 Machine Learning/Color/Final Model Bell Pepper/Train \n",
            "cp ./Bacterial Spot/Rotate_After_Flip_Vertical_Flip_Pepper_Bell_Bacterial_Spot_0066.JPG /content/drive/Shareddrives/ECEN 404 Machine Learning/Color/Final Model Bell Pepper/Train \n",
            "cp ./Bacterial Spot/Rotate_After_Flip_Vertical_Flip_Pepper_Bell_Bacterial_Spot_0031.JPG /content/drive/Shareddrives/ECEN 404 Machine Learning/Color/Final Model Bell Pepper/Train \n",
            "cp ./Bacterial Spot/Rotate_After_Flip_Vertical_Flip_Pepper_Bell_Bacterial_Spot_0034.JPG /content/drive/Shareddrives/ECEN 404 Machine Learning/Color/Final Model Bell Pepper/Train \n",
            "cp ./Bacterial Spot/Rotate_After_Flip_Vertical_Flip_Pepper_Bell_Bacterial_Spot_0012.JPG /content/drive/Shareddrives/ECEN 404 Machine Learning/Color/Final Model Bell Pepper/Train \n",
            "cp ./Bacterial Spot/Rotate_After_Flip_Vertical_Flip_Pepper_Bell_Bacterial_Spot_0021.JPG /content/drive/Shareddrives/ECEN 404 Machine Learning/Color/Final Model Bell Pepper/Train \n",
            "cp ./Bacterial Spot/Rotate_After_Flip_Vertical_Flip_Pepper_Bell_Bacterial_Spot_0077.JPG /content/drive/Shareddrives/ECEN 404 Machine Learning/Color/Final Model Bell Pepper/Train \n",
            "cp ./Bacterial Spot/Rotate_After_Flip_Vertical_Flip_Pepper_Bell_Bacterial_Spot_0071.JPG /content/drive/Shareddrives/ECEN 404 Machine Learning/Color/Final Model Bell Pepper/Train \n",
            "cp ./Bacterial Spot/Rotate_After_Flip_Vertical_Flip_Pepper_Bell_Bacterial_Spot_0064.JPG /content/drive/Shareddrives/ECEN 404 Machine Learning/Color/Final Model Bell Pepper/Train \n",
            "cp ./Bacterial Spot/Rotate_After_Flip_Vertical_Flip_Pepper_Bell_Bacterial_Spot_0035.JPG /content/drive/Shareddrives/ECEN 404 Machine Learning/Color/Final Model Bell Pepper/Train \n",
            "cp ./Bacterial Spot/Rotate_After_Flip_Vertical_Flip_Pepper_Bell_Bacterial_Spot_0023.JPG /content/drive/Shareddrives/ECEN 404 Machine Learning/Color/Final Model Bell Pepper/Train \n",
            "cp ./Bacterial Spot/Rotate_After_Flip_Vertical_Flip_Pepper_Bell_Bacterial_Spot_0083.JPG /content/drive/Shareddrives/ECEN 404 Machine Learning/Color/Final Model Bell Pepper/Train \n",
            "cp ./Bacterial Spot/Rotate_After_Flip_Vertical_Flip_Pepper_Bell_Bacterial_Spot_0067.JPG /content/drive/Shareddrives/ECEN 404 Machine Learning/Color/Final Model Bell Pepper/Train \n",
            "cp ./Bacterial Spot/Rotate_After_Flip_Vertical_Flip_Pepper_Bell_Bacterial_Spot_0043.JPG /content/drive/Shareddrives/ECEN 404 Machine Learning/Color/Final Model Bell Pepper/Train \n",
            "cp ./Bacterial Spot/Rotate_After_Flip_Vertical_Flip_Pepper_Bell_Bacterial_Spot_0052.JPG /content/drive/Shareddrives/ECEN 404 Machine Learning/Color/Final Model Bell Pepper/Train \n",
            "cp ./Bacterial Spot/Rotate_After_Flip_Vertical_Flip_Pepper_Bell_Bacterial_Spot_0045.JPG /content/drive/Shareddrives/ECEN 404 Machine Learning/Color/Final Model Bell Pepper/Train \n",
            "cp ./Bacterial Spot/Rotate_After_Flip_Vertical_Flip_Pepper_Bell_Bacterial_Spot_0054.JPG /content/drive/Shareddrives/ECEN 404 Machine Learning/Color/Final Model Bell Pepper/Train \n",
            "cp ./Bacterial Spot/Rotate_After_Flip_Vertical_Flip_Pepper_Bell_Bacterial_Spot_0003.JPG /content/drive/Shareddrives/ECEN 404 Machine Learning/Color/Final Model Bell Pepper/Train \n",
            "cp ./Bacterial Spot/Rotate_After_Flip_Vertical_Flip_Pepper_Bell_Bacterial_Spot_0084.JPG /content/drive/Shareddrives/ECEN 404 Machine Learning/Color/Final Model Bell Pepper/Train \n",
            "cp ./Bacterial Spot/Rotate_After_Flip_Vertical_Flip_Pepper_Bell_Bacterial_Spot_0076.JPG /content/drive/Shareddrives/ECEN 404 Machine Learning/Color/Final Model Bell Pepper/Train \n",
            "cp ./Bacterial Spot/Rotate_After_Flip_Vertical_Flip_Pepper_Bell_Bacterial_Spot_0039.JPG /content/drive/Shareddrives/ECEN 404 Machine Learning/Color/Final Model Bell Pepper/Train \n",
            "cp ./Bacterial Spot/Rotate_After_Flip_Vertical_Flip_Pepper_Bell_Bacterial_Spot_0078.JPG /content/drive/Shareddrives/ECEN 404 Machine Learning/Color/Final Model Bell Pepper/Train \n"
          ]
        }
      ]
    },
    {
      "cell_type": "code",
      "source": [
        "cd \"/content/drive/Shareddrives/ECEN 404 Machine Learning/Color/Final Model Bell Pepper/Train\""
      ],
      "metadata": {
        "colab": {
          "base_uri": "https://localhost:8080/"
        },
        "id": "ZtTPsNWjm3Dy",
        "outputId": "384b0c9d-d51d-4758-f3f2-89dd6b82136c"
      },
      "execution_count": null,
      "outputs": [
        {
          "output_type": "stream",
          "name": "stdout",
          "text": [
            "/content/drive/Shareddrives/ECEN 404 Machine Learning/Color/Final Model Bell Pepper/Train\n"
          ]
        }
      ]
    },
    {
      "cell_type": "code",
      "source": [
        "ls | wc -l"
      ],
      "metadata": {
        "colab": {
          "base_uri": "https://localhost:8080/"
        },
        "id": "5y1ZqZMFm5eB",
        "outputId": "aa02c180-c23d-4515-8488-e41714356fb2"
      },
      "execution_count": null,
      "outputs": [
        {
          "output_type": "stream",
          "name": "stdout",
          "text": [
            "13853\n"
          ]
        }
      ]
    },
    {
      "cell_type": "code",
      "source": [
        "cd \"/content/drive/Shareddrives/ECEN 404 Machine Learning/Color/Final Model Bell Pepper/\""
      ],
      "metadata": {
        "id": "hsUfR46mX--4",
        "colab": {
          "base_uri": "https://localhost:8080/"
        },
        "outputId": "aee61d36-1de3-4fa0-aab5-0c4a1dbf7a67"
      },
      "execution_count": null,
      "outputs": [
        {
          "output_type": "stream",
          "name": "stdout",
          "text": [
            "/content/drive/Shareddrives/ECEN 404 Machine Learning/Color/Final Model\n"
          ]
        }
      ]
    },
    {
      "cell_type": "code",
      "source": [
        "train_directory = \"/content/drive/Shareddrives/ECEN 404 Machine Learning/Color/Final Model Bell Pepper/Dataset\"\n",
        "classes = [\"Healthy\", \"Bacterial Spot\"]"
      ],
      "metadata": {
        "id": "DXZnsMvlPoQH"
      },
      "execution_count": null,
      "outputs": []
    },
    {
      "cell_type": "code",
      "source": [
        "target = \"/content/drive/Shareddrives/ECEN 404 Machine Learning/Color/Final Model Bell Pepper/Temp_Train\""
      ],
      "metadata": {
        "id": "Fiu-zalzPyhn"
      },
      "execution_count": null,
      "outputs": []
    },
    {
      "cell_type": "code",
      "source": [
        "for i in os.listdir(train_directory):\n",
        "  for j in classes:\n",
        "    path = os.path.join(train_directory, i, j)\n",
        "    class_num = classes.index(j)\n",
        "    for img in os.listdir(path):\n",
        "      shutil.copy2(os.path.join(path, img), target)"
      ],
      "metadata": {
        "id": "F_XfIkQtPB42"
      },
      "execution_count": null,
      "outputs": []
    }
  ]
}